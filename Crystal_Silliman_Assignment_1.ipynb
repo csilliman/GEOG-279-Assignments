{
  "nbformat": 4,
  "nbformat_minor": 0,
  "metadata": {
    "colab": {
      "provenance": []
    },
    "kernelspec": {
      "name": "python3",
      "display_name": "Python 3"
    },
    "language_info": {
      "name": "python"
    }
  },
  "cells": [
    {
      "cell_type": "markdown",
      "source": [
        "[![Open In Colab](https://colab.research.google.com/assets/colab-badge.svg)](https://colab.research.google.com/drive/1KgzxozmCWUwptvRFJbPWT1N1wSjPib6X?usp=sharing)\n"
      ],
      "metadata": {
        "id": "-fOCwauGpryu"
      }
    },
    {
      "cell_type": "markdown",
      "source": [
        "# **GEOG279 - Fall 2025**\n",
        "# **Assignment 1: Impact Assessment Using VDSA Data: Intro to Randomized Control Trials (RCT) Analysis**\n",
        "### **Instructor**: Kathy Baylis"
      ],
      "metadata": {
        "id": "n0EkuAbTjkS8"
      }
    },
    {
      "cell_type": "markdown",
      "source": [
        "<!-- This content will not be shown -->"
      ],
      "metadata": {
        "id": "MRVuStBALPN0"
      }
    },
    {
      "cell_type": "markdown",
      "source": [
        "# **Getting Started**"
      ],
      "metadata": {
        "id": "MIUuC6Qx1rdl"
      }
    },
    {
      "cell_type": "markdown",
      "source": [
        "<table style=\"border: 1px solid #4CAF50; background-color: #f9f9f9; padding: 10px; width: 100%;\">\n",
        "  <tr>\n",
        "    <td><h2>\n",
        "      1. Run the code cell below. <br>\n",
        "      2. When prompted, enter your name. <br>\n",
        "      3. The current date and your name will be automatically displayed in a formatted text.<br>\n",
        "    </td></h2>\n",
        "  </tr>\n",
        "</table>\n",
        "\n",
        "\n",
        "\n",
        "\n",
        "\n",
        "\n"
      ],
      "metadata": {
        "id": "8KQ2LU0ui5vG"
      }
    },
    {
      "cell_type": "code",
      "source": [
        "# @title **Click to Enter your Name** {\"vertical-output\":true}\n",
        "\n",
        "from datetime import datetime\n",
        "from IPython.display import display, Markdown\n",
        "\n",
        "# Prompt user to input their name\n",
        "author_name = input(\"Please enter your name: \")\n",
        "\n",
        "# Get the current date\n",
        "current_date = datetime.now().strftime(\"%Y-%m-%d\")\n",
        "\n",
        "# Create markdown content\n",
        "markdown_content = f\"**Author**: {author_name}\\n<br>**Date**: {current_date}</br>\"\n",
        "\n",
        "# Display the markdown content\n",
        "display(Markdown(markdown_content))"
      ],
      "metadata": {
        "cellView": "form",
        "id": "c-0h1j-riIP8",
        "colab": {
          "base_uri": "https://localhost:8080/",
          "height": 82
        },
        "outputId": "b8577b26-0a79-48c2-9e7c-23f104042956"
      },
      "execution_count": null,
      "outputs": [
        {
          "name": "stdout",
          "output_type": "stream",
          "text": [
            "Please enter your name: Crystal\n"
          ]
        },
        {
          "output_type": "display_data",
          "data": {
            "text/plain": [
              "<IPython.core.display.Markdown object>"
            ],
            "text/markdown": "**Author**: Crystal\n<br>**Date**: 2025-10-13</br>"
          },
          "metadata": {}
        }
      ]
    },
    {
      "cell_type": "markdown",
      "source": [
        "<table style=\"border: 1px solid #4CAF50; background-color: #f9f9f9; padding: 10px; width: 100%;\">\n",
        "  <tr>\n",
        "    <td><h2 style=\"margin: 0;\"><b>Important</b>: Run the below cell in order to activate <code>R</code> in this notebook.</h2></td>\n",
        "  </tr>\n",
        "</table>"
      ],
      "metadata": {
        "id": "0TUNdMdixT4K"
      }
    },
    {
      "cell_type": "code",
      "source": [
        "# activate R magic\n",
        "%load_ext rpy2.ipython"
      ],
      "metadata": {
        "id": "T56J-Y-tdD4W"
      },
      "execution_count": 2,
      "outputs": []
    },
    {
      "cell_type": "markdown",
      "source": [
        "## **Cloning Github Repo**\n",
        "This step is essential in order to have access to the data that you'll use for this assignment."
      ],
      "metadata": {
        "id": "YO58KgQ-z9yl"
      }
    },
    {
      "cell_type": "code",
      "source": [
        "# WARNING: Do not modify this code. Execute as is.\n",
        "import os\n",
        "import subprocess\n",
        "\n",
        "# Define repository details\n",
        "repo_name = 'GEOG279-Course'\n",
        "repo_url = 'https://github.com/GEOG279-Advanced-Spatial-Statistics/GEOG279-Course.git'\n",
        "\n",
        "# Check if the repository is already cloned\n",
        "repo_path = os.path.join(os.getcwd(), repo_name)\n",
        "if not os.path.exists(repo_path):\n",
        "    # Construct the command to clone the repository\n",
        "    cmd_string = f'git clone {repo_url}'\n",
        "\n",
        "    try:\n",
        "        # Execute the command to clone the repository\n",
        "        subprocess.run(cmd_string, shell=True, check=True)\n",
        "        print(f\"Repository cloned successfully at: {repo_path}\")\n",
        "    except subprocess.CalledProcessError as e:\n",
        "        print(f\"Error occurred while cloning the repository: {e}\")\n",
        "else:\n",
        "    print(f\"Repository already exists at: {repo_path}\")"
      ],
      "metadata": {
        "colab": {
          "base_uri": "https://localhost:8080/"
        },
        "id": "l85GuDwkUv8y",
        "outputId": "7c1f9ed0-a2bd-4332-d400-70b07bd8f06d"
      },
      "execution_count": 3,
      "outputs": [
        {
          "output_type": "stream",
          "name": "stdout",
          "text": [
            "Repository cloned successfully at: /content/GEOG279-Course\n"
          ]
        }
      ]
    },
    {
      "cell_type": "markdown",
      "source": [
        "# **Introduction**\n",
        "\n",
        "\n",
        "In this first assignment, you'll work with real-world data to apply the techniques covered during lecture. We'll be using the **Village Dynamics of South Asia (VDSA)** panel data set collected by the International Crops Research Institute for the Semi-Arid Tropics ([ICRISAT](https://dataverse.icrisat.org/dataset.xhtml?persistentId=doi:10.21421/D2/HDEUKU))(GV and Falk). This dataset provides detailed, high-frequency agricultural production data at the parcel level from households in India.\n",
        "\n",
        "For the data exercises concerning Randomized Control trials (RCTs) we will use data from a real RCT on the effects of marketing in encouraging households to purchase index insurance. This RCT was conducted in conjunction with ICRISAT, again in India.\n",
        "\n",
        "For exercises related to Randomized Control Trials (RCTs), we will analyze data from an RCT that evaluated the impact of marketing efforts on households’ decisions to purchase index insurance. This trial was also conducted in collaboration with ICRISAT in India.\n",
        "\n",
        "To begin, we will clean and prepare the `raw` VDSA data for analysis. This process is crucial for two reasons.\n",
        "* First, it will allow you to (re)familiarize yourself with `R`.\n",
        "* Second, it will ensure that the dataset is “regression-ready” for later exercises/assignments.\n",
        "\n",
        "**Objectives:**\n",
        "\n",
        "1.\tGet familiar with R and the VDSA dataset.\n",
        "2.\tPrepare the data for analysis in upcoming sessions.\n",
        "3.\tUse the dataset to explore how confounding factors influence impact assessments.\n",
        "\n",
        "\n",
        "*Citation:*\n",
        "GV, Anupama, and Thomas Falk. Data on Primary Survey Study on Agricultural Productivity and Plot Size: Village Dynamics in South Asia (VDSA). 4, ICRISAT. ICRISAT Dataverse, https://doi.org/10.21421/D2/HDEUKU.\n",
        "\n"
      ],
      "metadata": {
        "id": "gr3M1OwJjQPL"
      }
    },
    {
      "cell_type": "markdown",
      "source": [
        "# **Exploratory Data Analysis (EDA)**"
      ],
      "metadata": {
        "id": "yWXcT--aRG9q"
      }
    },
    {
      "cell_type": "markdown",
      "source": [
        "## **Loading Libraries (should take under 10 mins)**\n",
        "\n",
        "For this assignment, you'll need the following libraries:\n",
        "\n",
        "1.\t`haven`: Allows importing and exporting data from statistical software formats like Stata, SPSS, and SAS into R, preserving variable labels and attributes.\n",
        "3.\t`tidyverse`: A collection of R packages for data manipulation, cleaning, visualization, and analysis, including tools like dplyr, tidyr, and ggplot2.\n",
        "4.\t`ggpubr`: An extension of ggplot2 that simplifies creating publication-ready plots with added statistical annotations and easy layout arrangements.\n",
        "**Note**: Loading the libraries may take a couple of minutes.\n"
      ],
      "metadata": {
        "id": "TyABtpN31x1o"
      }
    },
    {
      "cell_type": "code",
      "source": [
        "%%R\n",
        "\n",
        "# this code chunk will take about a minute on Google Colab\n",
        "#install.packages(c(\"haven\",\"tidyverse\",\"ggpubr\",\"dagitty\",\"ggdag\"))\n",
        "install.packages(c(\"dagitty\", \"ggdag\", \"ggplot2\"))\n"
      ],
      "metadata": {
        "colab": {
          "base_uri": "https://localhost:8080/",
          "height": 160
        },
        "collapsed": true,
        "id": "bOQwDFFKyX3z",
        "outputId": "4a0b607d-9ad7-4efb-c653-d59a65d9e8ba"
      },
      "execution_count": 51,
      "outputs": [
        {
          "output_type": "display_data",
          "data": {
            "text/plain": [
              "Installing packages into ‘/usr/local/lib/R/site-library’\n",
              "(as ‘lib’ is unspecified)\n",
              "trying URL 'https://cran.rstudio.com/src/contrib/dagitty_0.3-4.tar.gz'\n",
              "trying URL 'https://cran.rstudio.com/src/contrib/ggdag_0.2.13.tar.gz'\n",
              "trying URL 'https://cran.rstudio.com/src/contrib/ggplot2_4.0.0.tar.gz'\n",
              "\n",
              "The downloaded source packages are in\n",
              "\t‘/tmp/RtmpuFNCuG/downloaded_packages’\n"
            ]
          },
          "metadata": {}
        }
      ]
    },
    {
      "cell_type": "code",
      "source": [
        "%%R\n",
        "# Loading libraries\n",
        "library(haven)\n",
        "library(tidyverse)\n",
        "#library(ggpubr)\n",
        "library(dagitty)\n",
        "library(ggdag)\n",
        "library(ggplot2)"
      ],
      "metadata": {
        "id": "Nwr_eOQEjqbH"
      },
      "execution_count": 52,
      "outputs": []
    },
    {
      "cell_type": "markdown",
      "source": [
        "The function `install.packages()` downloads and installs a package from the internet. The `library()` function loads that particular package into the current session.\n",
        "\n",
        "Packages are a very important part of `R`. The basic default installation already provides some limited functionality. But the real power of `R` lies in the large community of independent developers who are constantly implementing new packages to the language.\n",
        "\n"
      ],
      "metadata": {
        "id": "7SvjCzEjvYgB"
      }
    },
    {
      "cell_type": "markdown",
      "source": [
        "## **Loading the data**"
      ],
      "metadata": {
        "id": "gHbtqyaz2Oho"
      }
    },
    {
      "cell_type": "code",
      "source": [
        "#%%capture\n",
        "%%R\n",
        "\n",
        "# Define the path to the .dta file in Google Drive\n",
        "data_url <- \"/content/GEOG279-Course/assignment_1/data/VDSA_Prod_Data.dta\"\n",
        "\n",
        "# Read the .dta file using haven\n",
        "df <- read_dta(data_url)\n",
        "\n",
        "# Display the first few rows to confirm successful reading\n",
        "head(df)"
      ],
      "metadata": {
        "id": "RPuTGRgyCfRl",
        "colab": {
          "base_uri": "https://localhost:8080/"
        },
        "outputId": "ddbbb1c7-2c1d-4544-b02c-9689d9c8189b"
      },
      "execution_count": 6,
      "outputs": [
        {
          "output_type": "stream",
          "name": "stdout",
          "text": [
            "# A tibble: 6 × 30\n",
            "  country   vil_id  rain average    dev   pop  dist nomkt vdsa_hh_id tot_acre\n",
            "  <dbl+lbl>  <dbl> <dbl>   <dbl>  <dbl> <dbl> <dbl> <dbl>      <dbl>    <dbl>\n",
            "1 1 [India]    135   NA      NA  NA       876    12     2     135008    0    \n",
            "2 1 [India]    119   NA      NA  NA      3600     5     4     119035    1.22 \n",
            "3 1 [India]    135   NA      NA  NA       876    12     2     135203    0    \n",
            "4 1 [India]    119  496.    577.  0.859  3600     5     4     119034    0.870\n",
            "5 1 [India]    119  471.    577.  0.815  3600     5     4     119034    1.15 \n",
            "6 1 [India]    120  471.    577.  0.815  4494    15     4     120048    1.80 \n",
            "# ℹ 20 more variables: genderH <dbl>, ageH <dbl>, noadultM <dbl>,\n",
            "#   noadultF <dbl>, nokids <dbl>, sizehh <dbl>, farm_cat <chr>, aindex <dbl>,\n",
            "#   lindex <dbl>, prcl_id <dbl>, sur_yr <dbl>, plot_area <dbl>, output <dbl>,\n",
            "#   price <dbl>, value <dbl>, lab_q <dbl>, fert_q <dbl>, irr_q <dbl>,\n",
            "#   mech_v <dbl>, pest_v <dbl>\n"
          ]
        }
      ]
    },
    {
      "cell_type": "markdown",
      "source": [
        "**You can use any of the three functions below to inspect the dataset.**"
      ],
      "metadata": {
        "id": "tdPKRXlSvB6-"
      }
    },
    {
      "cell_type": "markdown",
      "source": [
        "**1. The `str()` function**\n",
        "The `str()` function provides a compact summary of the data frame, including\n",
        "data types for each column."
      ],
      "metadata": {
        "id": "VF0vIkXTRsoZ"
      }
    },
    {
      "cell_type": "code",
      "source": [
        "%%R\n",
        "# Check data types of all columns in the data frame\n",
        "str(df[1:5])"
      ],
      "metadata": {
        "colab": {
          "base_uri": "https://localhost:8080/"
        },
        "id": "iHCnB-XZQ9IE",
        "outputId": "dfe673bf-92cd-4032-b994-0db091a84fbf"
      },
      "execution_count": 7,
      "outputs": [
        {
          "output_type": "stream",
          "name": "stdout",
          "text": [
            "tibble [1,536 × 5] (S3: tbl_df/tbl/data.frame)\n",
            " $ country: dbl+lbl [1:1536] 1, 1, 1, 1, 1, 1, 1, 1, 1, 1, 1, 1, 1, 1, 1, 1, 1, 1,...\n",
            "   ..@ label       : chr \"country\"\n",
            "   ..@ format.stata: chr \"%10.0g\"\n",
            "   ..@ labels      : Named num [1:2] 0 1\n",
            "   .. ..- attr(*, \"names\")= chr [1:2] \"Bangladesh\" \"India\"\n",
            " $ vil_id : num [1:1536] 135 119 135 119 119 120 119 137 119 118 ...\n",
            "  ..- attr(*, \"label\")= chr \"unique village ID\"\n",
            "  ..- attr(*, \"format.stata\")= chr \"%9.0g\"\n",
            " $ rain   : num [1:1536] NA NA NA 496 471 ...\n",
            "  ..- attr(*, \"label\")= chr \"rainfall in sur_yr\"\n",
            "  ..- attr(*, \"format.stata\")= chr \"%10.0g\"\n",
            " $ average: num [1:1536] NA NA NA 577 577 ...\n",
            "  ..- attr(*, \"label\")= chr \"average rainfall from 1981-2014\"\n",
            "  ..- attr(*, \"format.stata\")= chr \"%10.0g\"\n",
            " $ dev    : num [1:1536] NA NA NA 0.859 0.815 ...\n",
            "  ..- attr(*, \"label\")= chr \"deviation of rainfall from mean\"\n",
            "  ..- attr(*, \"format.stata\")= chr \"%10.0g\"\n"
          ]
        }
      ]
    },
    {
      "cell_type": "markdown",
      "source": [
        "**2. `sapply()` with `class()`**\n",
        "\n",
        "If you want a simple list of column names and their types, you can use sapply() along with the class() function."
      ],
      "metadata": {
        "id": "w3VBdlxzSrDW"
      }
    },
    {
      "cell_type": "code",
      "source": [
        "%%R\n",
        "# Check data types of all columns in the data frame\n",
        "sapply(df[1:5], class)"
      ],
      "metadata": {
        "colab": {
          "base_uri": "https://localhost:8080/"
        },
        "id": "r3yVq8H_QW7t",
        "outputId": "7412050d-7792-4bb7-df75-75d2e5d00d0b"
      },
      "execution_count": 8,
      "outputs": [
        {
          "output_type": "stream",
          "name": "stdout",
          "text": [
            "$country\n",
            "[1] \"haven_labelled\" \"vctrs_vctr\"     \"double\"        \n",
            "\n",
            "$vil_id\n",
            "[1] \"numeric\"\n",
            "\n",
            "$rain\n",
            "[1] \"numeric\"\n",
            "\n",
            "$average\n",
            "[1] \"numeric\"\n",
            "\n",
            "$dev\n",
            "[1] \"numeric\"\n",
            "\n"
          ]
        }
      ]
    },
    {
      "cell_type": "markdown",
      "source": [
        "**3. `dplyr::glimpse`**\n",
        "\n",
        "The `glimpse()` function from the `dplyr` package provides an overview of the data frame, showing column names, data types, and a preview of the values."
      ],
      "metadata": {
        "id": "QCTXFg3YSYnr"
      }
    },
    {
      "cell_type": "code",
      "source": [
        "%%R\n",
        "glimpse(df)"
      ],
      "metadata": {
        "colab": {
          "base_uri": "https://localhost:8080/"
        },
        "id": "U_K5KJLCQ518",
        "outputId": "375f5d14-39d3-40b8-ef7e-ad4233ee39db"
      },
      "execution_count": 9,
      "outputs": [
        {
          "output_type": "stream",
          "name": "stdout",
          "text": [
            "Rows: 1,536\n",
            "Columns: 30\n",
            "$ country    <dbl+lbl> 1, 1, 1, 1, 1, 1, 1, 1, 1, 1, 1, 1, 1, 1, 1, 1, 1, 1, 1…\n",
            "$ vil_id     <dbl> 135, 119, 135, 119, 119, 120, 119, 137, 119, 118, 134, 119,…\n",
            "$ rain       <dbl> NA, NA, NA, 495.6600, 470.7660, 470.7660, 495.6600, NA, NA,…\n",
            "$ average    <dbl> NA, NA, NA, 577.3553, 577.3553, 577.3553, 577.3553, NA, NA,…\n",
            "$ dev        <dbl> NA, NA, NA, 0.8585009, 0.8153836, 0.8153836, 0.8585009, NA,…\n",
            "$ pop        <dbl> 876, 3600, 876, 3600, 3600, 4494, 3600, 880, 3600, 3000, 14…\n",
            "$ dist       <dbl> 12.0, 5.0, 12.0, 5.0, 5.0, 15.0, 5.0, 13.0, 5.0, 4.5, 9.0, …\n",
            "$ nomkt      <dbl> 2, 4, 2, 4, 4, 4, 4, 2, 4, 4, 1, 4, 4, 4, 4, 2, 4, 2, 2, 4,…\n",
            "$ vdsa_hh_id <dbl> 135008, 119035, 135203, 119034, 119034, 120048, 119034, 137…\n",
            "$ tot_acre   <dbl> 0.00, 1.22, 0.00, 0.87, 1.15, 1.80, 0.87, 5.00, 1.07, 1.10,…\n",
            "$ genderH    <dbl> 0, 0, 0, 0, 0, 0, 0, 0, 0, 0, 0, 0, 0, 0, 0, 0, 0, 0, 0, 0,…\n",
            "$ ageH       <dbl> 43, 62, 48, 56, 55, 63, 56, 48, 52, 77, 58, 62, 60, 77, 62,…\n",
            "$ noadultM   <dbl> 3, 2, 3, 3, 3, 1, 3, 2, 2, 3, 1, 2, 2, 3, 4, 3, 3, 2, 1, 2,…\n",
            "$ noadultF   <dbl> 1, 3, 5, 4, 4, 2, 4, 2, 3, 4, 2, 3, 3, 4, 4, 5, 4, 1, 2, 3,…\n",
            "$ nokids     <dbl> 0, 1, 0, 0, 0, 2, 0, 2, 1, 1, 3, 1, 1, 1, 0, 0, 0, 1, 3, 1,…\n",
            "$ sizehh     <dbl> 4, 6, 8, 7, 7, 5, 7, 6, 6, 8, 6, 6, 6, 8, 8, 8, 7, 4, 6, 6,…\n",
            "$ farm_cat   <chr> \"SM\", \"SM\", \"SM\", \"SM\", \"SM\", \"MD\", \"SM\", \"SM\", \"SM\", \"SM\",…\n",
            "$ aindex     <dbl> -0.27804729, -0.22664489, -0.36013669, -1.36603343, -1.1713…\n",
            "$ lindex     <dbl> -0.419596434, -0.400094748, -1.038769484, -1.050346971, -1.…\n",
            "$ prcl_id    <dbl> 135008016, 119035032, 135203040, 119034008, 119034072, 1200…\n",
            "$ sur_yr     <dbl> 2013, 2012, 2013, 2011, 2010, 2010, 2011, 2010, 2012, 2011,…\n",
            "$ plot_area  <dbl> 1.61874402, 0.10117150, 0.80937201, 0.24281162, 0.09307779,…\n",
            "$ output     <dbl> 2800, 280, 1000, 900, 90, 169, 780, 1120, 120, 18600, 1650,…\n",
            "$ price      <dbl> 13.50, 13.50, 13.00, 12.85, 12.00, 10.00, 12.85, 11.00, 13.…\n",
            "$ value      <dbl> 37800, 3780, 13000, 11565, 1080, 1690, 10023, 12320, 1620, …\n",
            "$ lab_q      <dbl> 234.00, 30.35, 113.00, 24.00, 32.00, 21.21, 37.50, 142.00, …\n",
            "$ fert_q     <dbl> 500.0, 31.0, 150.0, 24.0, 36.0, 15.0, 42.0, 125.0, 16.0, 99…\n",
            "$ irr_q      <dbl> 4.000, 5.500, 2.000, 0.375, 0.000, 0.000, 0.625, 0.000, 2.0…\n",
            "$ mech_v     <dbl> 10597.25, 590.00, 4200.00, 454.00, 276.80, 168.00, 610.00, …\n",
            "$ pest_v     <dbl> 0, 0, 0, 0, 0, 120, 0, 0, 0, 0, 0, 0, 0, 0, 0, 0, 0, 0, 0, …\n"
          ]
        }
      ]
    },
    {
      "cell_type": "markdown",
      "source": [
        "**Which one to use ?**\n",
        "* Use `str()` for a quick, detailed structure of the data frame, including data types and sample values.\n",
        "* Use `sapply()` with `class()` if you need a simple list of column data types.\n",
        "* Use `glimpse()` for a tidy, detailed overview, especially if you’re using the `dplyr` package.\n"
      ],
      "metadata": {
        "id": "XVYWrVDTR8Zz"
      }
    },
    {
      "cell_type": "markdown",
      "source": [
        "# **Summary Statistics & Variables Overview**\n",
        "To get an overview of the dataset, use the `summary()` function. This function provides basic summary statistics for each variable, including the mean, quartiles, and the number of missing observations. When applied to an entire data frame, `summary()` calculates these statistics for all variables. For example:\n"
      ],
      "metadata": {
        "id": "fBj4AqiZ3P1q"
      }
    },
    {
      "cell_type": "code",
      "source": [
        "%%R\n",
        "# Display summary statistics of the dataset\n",
        "summary(df)\n"
      ],
      "metadata": {
        "colab": {
          "base_uri": "https://localhost:8080/"
        },
        "id": "Q6Xr4i8F3TUp",
        "outputId": "8f867b6a-e5f6-4957-ea4a-ddfd388857bf"
      },
      "execution_count": 10,
      "outputs": [
        {
          "output_type": "stream",
          "name": "stdout",
          "text": [
            "    country      vil_id           rain           average           dev        \n",
            " Min.   :1   Min.   :113.0   Min.   : 363.7   Min.   :500.7   Min.   :0.6681  \n",
            " 1st Qu.:1   1st Qu.:118.0   1st Qu.: 363.7   1st Qu.:500.7   1st Qu.:0.7263  \n",
            " Median :1   Median :123.0   Median : 464.9   Median :500.7   Median :0.8154  \n",
            " Mean   :1   Mean   :126.2   Mean   : 511.8   Mean   :570.4   Mean   :0.8735  \n",
            " 3rd Qu.:1   3rd Qu.:135.0   3rd Qu.: 470.8   3rd Qu.:577.4   3rd Qu.:0.9285  \n",
            " Max.   :1   Max.   :138.0   Max.   :1089.6   Max.   :913.8   Max.   :1.3682  \n",
            "                             NA's   :1061     NA's   :1061    NA's   :1061    \n",
            "      pop            dist            nomkt         vdsa_hh_id    \n",
            " Min.   : 573   Min.   : 0.000   Min.   :0.000   Min.   :113241  \n",
            " 1st Qu.:1410   1st Qu.: 4.500   1st Qu.:1.000   1st Qu.:118055  \n",
            " Median :3000   Median : 9.000   Median :2.000   Median :123034  \n",
            " Mean   :2865   Mean   : 8.889   Mean   :2.596   Mean   :126310  \n",
            " 3rd Qu.:3600   3rd Qu.:13.000   3rd Qu.:4.000   3rd Qu.:135080  \n",
            " Max.   :6979   Max.   :30.000   Max.   :4.000   Max.   :138059  \n",
            "                                                                 \n",
            "    tot_acre         genderH            ageH          noadultM     \n",
            " Min.   : 0.000   Min.   :0.0000   Min.   :23.00   Min.   : 1.000  \n",
            " 1st Qu.: 1.200   1st Qu.:1.0000   1st Qu.:42.00   1st Qu.: 2.000  \n",
            " Median : 3.500   Median :1.0000   Median :52.00   Median : 3.000  \n",
            " Mean   : 6.444   Mean   :0.9642   Mean   :52.05   Mean   : 3.038  \n",
            " 3rd Qu.: 8.000   3rd Qu.:1.0000   3rd Qu.:62.00   3rd Qu.: 4.000  \n",
            " Max.   :66.000   Max.   :1.0000   Max.   :89.00   Max.   :16.000  \n",
            "                                                                   \n",
            "    noadultF          nokids          sizehh         farm_cat        \n",
            " Min.   : 0.000   Min.   :0.000   Min.   : 2.000   Length:1536       \n",
            " 1st Qu.: 1.000   1st Qu.:0.000   1st Qu.: 5.000   Class :character  \n",
            " Median : 2.000   Median :1.000   Median : 6.000   Mode  :character  \n",
            " Mean   : 2.607   Mean   :1.404   Mean   : 7.044                     \n",
            " 3rd Qu.: 3.000   3rd Qu.:2.000   3rd Qu.: 8.000                     \n",
            " Max.   :11.000   Max.   :8.000   Max.   :26.000                     \n",
            "                                                                     \n",
            "     aindex             lindex            prcl_id              sur_yr    \n",
            " Min.   :-1.90711   Min.   :-1.24137   Min.   :113241032   Min.   :2009  \n",
            " 1st Qu.:-0.48882   1st Qu.:-0.60618   1st Qu.:118055068   1st Qu.:2010  \n",
            " Median : 0.07435   Median :-0.11976   Median :123034008   Median :2011  \n",
            " Mean   : 0.05856   Mean   :-0.02278   Mean   :126309753   Mean   :2011  \n",
            " 3rd Qu.: 0.71905   3rd Qu.: 0.33233   3rd Qu.:135080032   3rd Qu.:2012  \n",
            " Max.   : 2.02121   Max.   : 6.99098   Max.   :138059008   Max.   :2013  \n",
            "                                                                         \n",
            "   plot_area           output            price            value       \n",
            " Min.   :0.01214   Min.   :    0.0   Min.   :  0.00   Min.   :     0  \n",
            " 1st Qu.:0.20234   1st Qu.:  471.2   1st Qu.: 11.70   1st Qu.:  6375  \n",
            " Median :0.48562   Median : 1100.0   Median : 13.00   Median : 14739  \n",
            " Mean   :0.78503   Mean   : 1931.0   Mean   : 13.61   Mean   : 25866  \n",
            " 3rd Qu.:0.97630   3rd Qu.: 2400.0   3rd Qu.: 15.00   3rd Qu.: 32274  \n",
            " Max.   :7.68903   Max.   :23040.0   Max.   :600.00   Max.   :315000  \n",
            "                                                                      \n",
            "     lab_q             fert_q           irr_q             mech_v       \n",
            " Min.   :   5.00   Min.   :   0.0   Min.   :  0.000   Min.   :    0.0  \n",
            " 1st Qu.:  42.89   1st Qu.:  49.0   1st Qu.:  0.000   1st Qu.:  604.6  \n",
            " Median :  96.14   Median : 115.0   Median :  0.000   Median : 1736.0  \n",
            " Mean   : 161.28   Mean   : 189.2   Mean   :  3.727   Mean   : 3460.0  \n",
            " 3rd Qu.: 217.00   3rd Qu.: 250.0   3rd Qu.:  2.500   3rd Qu.: 4285.0  \n",
            " Max.   :1836.00   Max.   :2020.0   Max.   :183.000   Max.   :40280.0  \n",
            "                                                                       \n",
            "     pest_v       \n",
            " Min.   :    0.0  \n",
            " 1st Qu.:    0.0  \n",
            " Median :    0.0  \n",
            " Mean   :  151.9  \n",
            " 3rd Qu.:    0.0  \n",
            " Max.   :10100.0  \n",
            "                  \n"
          ]
        }
      ]
    },
    {
      "cell_type": "code",
      "source": [
        "%%R\n",
        "\n",
        "# View a specific variable\n",
        "summary(df$rain)"
      ],
      "metadata": {
        "colab": {
          "base_uri": "https://localhost:8080/"
        },
        "outputId": "ba65b045-9848-44e8-c5d3-ee88d4299a8c",
        "id": "TJTYVh5Iv1o3"
      },
      "execution_count": 11,
      "outputs": [
        {
          "output_type": "stream",
          "name": "stdout",
          "text": [
            "   Min. 1st Qu.  Median    Mean 3rd Qu.    Max.    NA's \n",
            "  363.7   363.7   464.9   511.8   470.8  1089.6    1061 \n"
          ]
        }
      ]
    },
    {
      "cell_type": "markdown",
      "source": [
        "If you are interested in viewing summary statistics for a subset of observations rather than the entire dataset, you can do this in several ways in `R`. One option is to use the `by()` function. For example, to get the summary statistics of the output variable grouped by the gender of the head of household, you can use:"
      ],
      "metadata": {
        "id": "gDCIAtQEq3SW"
      }
    },
    {
      "cell_type": "code",
      "source": [
        "%%R\n",
        "by(df$output,df$genderH,FUN=summary)"
      ],
      "metadata": {
        "colab": {
          "base_uri": "https://localhost:8080/"
        },
        "id": "5eYDzSFbq5Cc",
        "outputId": "756a38f8-188a-41d0-8d60-fd474588c6c6"
      },
      "execution_count": 12,
      "outputs": [
        {
          "output_type": "stream",
          "name": "stdout",
          "text": [
            "df$genderH: 0\n",
            "   Min. 1st Qu.  Median    Mean 3rd Qu.    Max. \n",
            "   50.0   130.0   300.0   943.3   850.0 18600.0 \n",
            "------------------------------------------------------------ \n",
            "df$genderH: 1\n",
            "   Min. 1st Qu.  Median    Mean 3rd Qu.    Max. \n",
            "      0     500    1150    1968    2411   23040 \n"
          ]
        }
      ]
    },
    {
      "cell_type": "markdown",
      "source": [
        "1.\t`by()` Function: This function in `R` applies a specified function to each level of a grouping factor within a data frame. In this case, it is used to compute summary statistics for subsets of the data.\n",
        "2.\t`df$output`: This specifies the data you want to analyze—in this example, the output variable from the data frame `df`. It is the input data for which you want to calculate summary statistics.\n",
        "3.\t`df$genderH`: This is the grouping variable. The `by()` function will split `df$output` into subsets based on the unique values of `df$genderH` (e.g., male or female). It applies the function (summary) to each of these subsets separately.\n",
        "4.\t`FUN` = summary: This specifies the function to be applied to each subset of data. Here, summary is used to generate basic statistics (such as minimum, median, mean, maximum, and quartiles) for each subset defined by `df$genderH`.\n"
      ],
      "metadata": {
        "id": "HGEvnlL_w1gN"
      }
    },
    {
      "cell_type": "markdown",
      "source": [
        "To summarize a variable by the combination of multiple categorical variables, you can create a temporary concatenated variable as the second argument of the `by()` function using the `paste()` function. For example, to summarize output by each combination of `genderH` and `farm_cat` you can write:"
      ],
      "metadata": {
        "id": "RII3OmwDq-su"
      }
    },
    {
      "cell_type": "code",
      "source": [
        "%%R\n",
        "by(df$output, paste(df$genderH, df$farm_cat), FUN=summary)"
      ],
      "metadata": {
        "colab": {
          "base_uri": "https://localhost:8080/"
        },
        "id": "L2g5DT6ixcoy",
        "outputId": "d97a23be-6ab3-4efa-8228-8a8d15d9b1f8"
      },
      "execution_count": 13,
      "outputs": [
        {
          "output_type": "stream",
          "name": "stdout",
          "text": [
            "paste(df$genderH, df$farm_cat): 0 LA\n",
            "   Min. 1st Qu.  Median    Mean 3rd Qu.    Max. \n",
            "    100     185     270     270     355     440 \n",
            "------------------------------------------------------------ \n",
            "paste(df$genderH, df$farm_cat): 0 LB\n",
            "   Min. 1st Qu.  Median    Mean 3rd Qu.    Max. \n",
            "  610.0   612.5   615.0   615.0   617.5   620.0 \n",
            "------------------------------------------------------------ \n",
            "paste(df$genderH, df$farm_cat): 0 MD\n",
            "   Min. 1st Qu.  Median    Mean 3rd Qu.    Max. \n",
            "   75.0   110.5   225.0   392.3   300.0  1650.0 \n",
            "------------------------------------------------------------ \n",
            "paste(df$genderH, df$farm_cat): 0 SM\n",
            "   Min. 1st Qu.  Median    Mean 3rd Qu.    Max. \n",
            "     50     150     600    1206     900   18600 \n",
            "------------------------------------------------------------ \n",
            "paste(df$genderH, df$farm_cat): 1 LA\n",
            "   Min. 1st Qu.  Median    Mean 3rd Qu.    Max. \n",
            "      0     640    1470    2529    3200   23040 \n",
            "------------------------------------------------------------ \n",
            "paste(df$genderH, df$farm_cat): 1 LB\n",
            "   Min. 1st Qu.  Median    Mean 3rd Qu.    Max. \n",
            "    175     521     925    1245    1600    4050 \n",
            "------------------------------------------------------------ \n",
            "paste(df$genderH, df$farm_cat): 1 MD\n",
            "   Min. 1st Qu.  Median    Mean 3rd Qu.    Max. \n",
            "      0     430    1000    1596    2000   18010 \n",
            "------------------------------------------------------------ \n",
            "paste(df$genderH, df$farm_cat): 1 SM\n",
            "   Min. 1st Qu.  Median    Mean 3rd Qu.    Max. \n",
            "      0     400     900    1352    1890   10000 \n"
          ]
        }
      ]
    },
    {
      "cell_type": "markdown",
      "source": [
        "Another important function for summarizing categorical variables is the `table()` function. For example, to see the distribution of the categorical variable farm_cat you can use:`table(df$farm_cat)`"
      ],
      "metadata": {
        "id": "r0Udv0JarBV1"
      }
    },
    {
      "cell_type": "code",
      "source": [
        "%%R\n",
        "table(df$farm_cat)"
      ],
      "metadata": {
        "colab": {
          "base_uri": "https://localhost:8080/"
        },
        "id": "UfEKVBbmrEZL",
        "outputId": "99e73c7f-292c-4fde-a216-4e7cd3d13380"
      },
      "execution_count": 14,
      "outputs": [
        {
          "output_type": "stream",
          "name": "stdout",
          "text": [
            "\n",
            " LA  LB  MD  SM \n",
            "691  40 443 362 \n"
          ]
        }
      ]
    },
    {
      "cell_type": "markdown",
      "source": [
        "# **Q1: Use the `by()` function to summarize the variable `ageH` by the combination of `genderH` and `farm_cat`. Use `table()` to tabulate the categorical variable `genderH`.**\n"
      ],
      "metadata": {
        "id": "mxhw5x2_0IEn"
      }
    },
    {
      "cell_type": "code",
      "source": [
        "%%R\n",
        "#__________________YourCodeHere__________________________\n",
        "print(by(df$ageH, list(df$genderH, df$farm_cat), FUN = summary))\n",
        "table(df$genderH)"
      ],
      "metadata": {
        "id": "6SExQWWH0hxA",
        "colab": {
          "base_uri": "https://localhost:8080/"
        },
        "outputId": "dd505fb9-1bb5-415a-ee44-ccac357938ee"
      },
      "execution_count": 15,
      "outputs": [
        {
          "output_type": "stream",
          "name": "stdout",
          "text": [
            ": 0\n",
            ": LA\n",
            "   Min. 1st Qu.  Median    Mean 3rd Qu.    Max. \n",
            "  66.00   66.25   66.50   66.50   66.75   67.00 \n",
            "------------------------------------------------------------ \n",
            ": 1\n",
            ": LA\n",
            "   Min. 1st Qu.  Median    Mean 3rd Qu.    Max. \n",
            "  27.00   46.00   58.00   56.46   67.00   89.00 \n",
            "------------------------------------------------------------ \n",
            ": 0\n",
            ": LB\n",
            "   Min. 1st Qu.  Median    Mean 3rd Qu.    Max. \n",
            "     29      32      35      35      38      41 \n",
            "------------------------------------------------------------ \n",
            ": 1\n",
            ": LB\n",
            "   Min. 1st Qu.  Median    Mean 3rd Qu.    Max. \n",
            "  28.00   36.00   42.00   46.39   52.00   80.00 \n",
            "------------------------------------------------------------ \n",
            ": 0\n",
            ": MD\n",
            "   Min. 1st Qu.  Median    Mean 3rd Qu.    Max. \n",
            "  45.00   45.00   55.00   55.07   63.00   65.00 \n",
            "------------------------------------------------------------ \n",
            ": 1\n",
            ": MD\n",
            "   Min. 1st Qu.  Median    Mean 3rd Qu.    Max. \n",
            "  23.00   39.00   46.00   48.01   57.00   76.00 \n",
            "------------------------------------------------------------ \n",
            ": 0\n",
            ": SM\n",
            "   Min. 1st Qu.  Median    Mean 3rd Qu.    Max. \n",
            "   41.0    52.0    56.0    58.3    62.0    77.0 \n",
            "------------------------------------------------------------ \n",
            ": 1\n",
            ": SM\n",
            "   Min. 1st Qu.  Median    Mean 3rd Qu.    Max. \n",
            "  25.00   41.00   47.00   47.85   55.00   74.00 \n",
            "\n",
            "   0    1 \n",
            "  55 1481 \n"
          ]
        }
      ]
    },
    {
      "cell_type": "markdown",
      "source": [
        "There are other commands that can be useful for learning more about your data:\n",
        "\n",
        "- `nrow()` can be used to count the number of observations in a data set. It is also possible to group by another variable.\n",
        "- `duplicated()` indicates duplicated observations in the data. You can use it to drop duplicate observations like the following:"
      ],
      "metadata": {
        "id": "BKiLm5lbrPIB"
      }
    },
    {
      "cell_type": "code",
      "source": [
        "%%R\n",
        "df <- subset(df, !duplicated(df))\n",
        "head(df)"
      ],
      "metadata": {
        "colab": {
          "base_uri": "https://localhost:8080/"
        },
        "id": "_oheKb7H1ZRE",
        "outputId": "07df46d8-a801-496b-9ca3-ed0c5cfcf79a"
      },
      "execution_count": 16,
      "outputs": [
        {
          "output_type": "stream",
          "name": "stdout",
          "text": [
            "# A tibble: 6 × 30\n",
            "  country   vil_id  rain average    dev   pop  dist nomkt vdsa_hh_id tot_acre\n",
            "  <dbl+lbl>  <dbl> <dbl>   <dbl>  <dbl> <dbl> <dbl> <dbl>      <dbl>    <dbl>\n",
            "1 1 [India]    135   NA      NA  NA       876    12     2     135008    0    \n",
            "2 1 [India]    119   NA      NA  NA      3600     5     4     119035    1.22 \n",
            "3 1 [India]    135   NA      NA  NA       876    12     2     135203    0    \n",
            "4 1 [India]    119  496.    577.  0.859  3600     5     4     119034    0.870\n",
            "5 1 [India]    119  471.    577.  0.815  3600     5     4     119034    1.15 \n",
            "6 1 [India]    120  471.    577.  0.815  4494    15     4     120048    1.80 \n",
            "# ℹ 20 more variables: genderH <dbl>, ageH <dbl>, noadultM <dbl>,\n",
            "#   noadultF <dbl>, nokids <dbl>, sizehh <dbl>, farm_cat <chr>, aindex <dbl>,\n",
            "#   lindex <dbl>, prcl_id <dbl>, sur_yr <dbl>, plot_area <dbl>, output <dbl>,\n",
            "#   price <dbl>, value <dbl>, lab_q <dbl>, fert_q <dbl>, irr_q <dbl>,\n",
            "#   mech_v <dbl>, pest_v <dbl>\n"
          ]
        }
      ]
    },
    {
      "cell_type": "markdown",
      "source": [
        "- `unique()` tells you the unique values of a particular variable. To count the number of unique values of a variable, you could use:"
      ],
      "metadata": {
        "id": "7r_H8_791g2m"
      }
    },
    {
      "cell_type": "code",
      "source": [
        "%%R\n",
        "length(unique(df$vil_id))"
      ],
      "metadata": {
        "colab": {
          "base_uri": "https://localhost:8080/"
        },
        "id": "CPGj2lGa1hcW",
        "outputId": "baf62208-fbd6-4bb0-b45e-a0f7202afe9f"
      },
      "execution_count": null,
      "outputs": [
        {
          "output_type": "stream",
          "name": "stdout",
          "text": [
            "[1] 19\n"
          ]
        }
      ]
    },
    {
      "cell_type": "markdown",
      "source": [
        "# **Q2: Use the `length(unique())` command to determine how many unique parcels are in the data. How many distinct households and villages?**"
      ],
      "metadata": {
        "id": "GN9VGI2-0_ye"
      }
    },
    {
      "cell_type": "code",
      "source": [
        "%%R\n",
        "#__________________YourCodeHere__________________________\n",
        "print(length(unique(df$prcl_id)))\n",
        "print(length(unique(df$vdsa_hh_id)))\n",
        "print(length(unique(df$vil_id)))"
      ],
      "metadata": {
        "id": "Y5ReY2nGrV-P",
        "colab": {
          "base_uri": "https://localhost:8080/"
        },
        "outputId": "9f84995e-68a0-4475-97e4-8c1029cced49"
      },
      "execution_count": 17,
      "outputs": [
        {
          "output_type": "stream",
          "name": "stdout",
          "text": [
            "[1] 887\n",
            "[1] 352\n",
            "[1] 19\n"
          ]
        }
      ]
    },
    {
      "cell_type": "markdown",
      "source": [
        "# **Data Manipulation**"
      ],
      "metadata": {
        "id": "o6dwHNsq5Cfc"
      }
    },
    {
      "cell_type": "markdown",
      "source": [
        "Variables and observations of a data set can be selected using the `subset()` command. For example, to keep only observations where some variable `var1 > 100`, you could write: `df <- subset(df, var1 > 100)`"
      ],
      "metadata": {
        "id": "qt2NZO0i2Eq8"
      }
    },
    {
      "cell_type": "markdown",
      "source": [
        "Let’s begin to manipulate the data. First, tabulate survey year: `table(df$sur_yr)`."
      ],
      "metadata": {
        "id": "TNQFocQU2OWZ"
      }
    },
    {
      "cell_type": "code",
      "source": [
        "%%R\n",
        "# Display the count of observations for each year in the 'sur_yr' column\n",
        "table(df$sur_yr)"
      ],
      "metadata": {
        "colab": {
          "base_uri": "https://localhost:8080/"
        },
        "id": "o5xt1OO7Efmf",
        "outputId": "de47efb3-feaa-4c76-c89b-fad931c0f2bf"
      },
      "execution_count": 18,
      "outputs": [
        {
          "output_type": "stream",
          "name": "stdout",
          "text": [
            "\n",
            "2009 2010 2011 2012 2013 \n",
            " 124  408  335  420  249 \n"
          ]
        }
      ]
    },
    {
      "cell_type": "markdown",
      "source": [
        "Notice that survey years 2009 and 2013 have fewer observations than the other years. This is because the VDSA survey only captured half a year of data in 2009 and only recently published the remainder of 2013. So, drop all observations that come from 2009 and 2013."
      ],
      "metadata": {
        "id": "hlHfSm_H2hU9"
      }
    },
    {
      "cell_type": "code",
      "source": [
        "%%R\n",
        "# Subset data for specific years\n",
        "df <- subset(df, sur_yr %in% c(2010, 2011, 2012))\n",
        "#Verify that these obs were dropped\n",
        "table(df$sur_yr)"
      ],
      "metadata": {
        "colab": {
          "base_uri": "https://localhost:8080/"
        },
        "id": "MUPBllP15GgR",
        "outputId": "00f3d86f-35be-4278-f7a7-342f4ae3675e"
      },
      "execution_count": 19,
      "outputs": [
        {
          "output_type": "stream",
          "name": "stdout",
          "text": [
            "\n",
            "2010 2011 2012 \n",
            " 408  335  420 \n"
          ]
        }
      ]
    },
    {
      "cell_type": "markdown",
      "source": [
        "The `%in%` operator checks if elements belong to a specific set. In this case, the `c()` function creates a vector containing the elements `2010`, `2011`, and `2012`. Therefore, the command can be interpreted as: “Select the rows in `df` where the `sur_yr` variable is one of the values in the set [2010, 2011, 2012], and store this subset in `df`”"
      ],
      "metadata": {
        "id": "Q0If3VQvF6QR"
      }
    },
    {
      "cell_type": "markdown",
      "source": [
        "## **Data Visualization**\n",
        "`R` is a very powerful tool for producing visual analysis. A very popular package used to create plots and graphs is `ggplot2`. The syntax may seem complicated at a first glance, but due to its flexibility, it is a tool that is certainly worthwhile learning.\n",
        "Here is how to generate a histogram and scatter plot to explore the relationships between variables."
      ],
      "metadata": {
        "id": "924IBHM65McZ"
      }
    },
    {
      "cell_type": "code",
      "source": [
        "%%R\n",
        "# Histogram of the 'price' variable\n",
        "ggplot(df, aes(x = price)) +\n",
        "geom_histogram(binwidth = 50, fill = \"steelblue\", color = \"black\", alpha = 0.7) +\n",
        "labs(title = \"Histogram of Price\", x = \"Price\", y = \"Frequency\") +\n",
        "theme_minimal()"
      ],
      "metadata": {
        "colab": {
          "base_uri": "https://localhost:8080/",
          "height": 497
        },
        "id": "HvjfpG36MQoU",
        "outputId": "c065b7b7-9c9d-4ec1-fa92-dbfe92309282"
      },
      "execution_count": 20,
      "outputs": [
        {
          "output_type": "display_data",
          "data": {
            "image/png": "[encoded data removed]",
            "text/plain": [
              "<IPython.core.display.Image object>"
            ]
          },
          "metadata": {}
        }
      ]
    },
    {
      "cell_type": "markdown",
      "source": [
        "The process is similar to create a scatter plot. Instead of `geom_histogram` you can specify a `geom_point` and include a `y` variable to the `aes()` argument.For example, to create a scatter of `price` and `value` you could write:"
      ],
      "metadata": {
        "id": "0qoi-DdDGZ9R"
      }
    },
    {
      "cell_type": "code",
      "source": [
        "%%R\n",
        "# Scatter Plot of the 'price' variable\n",
        "ggplot(df, aes(x = price, y = output)) +\n",
        "geom_point(color = \"darkgreen\", alpha = 0.6) +\n",
        "labs(title = \"Scatter Plot of Price vs Output\", x = \"Price\", y = \"Output\") +\n",
        "theme_minimal()"
      ],
      "metadata": {
        "colab": {
          "base_uri": "https://localhost:8080/",
          "height": 497
        },
        "id": "RgKB97tWGaGJ",
        "outputId": "00f51639-48d1-4452-bc79-40e7d3791a31"
      },
      "execution_count": 21,
      "outputs": [
        {
          "output_type": "display_data",
          "data": {
            "image/png": "[encoded data removed]",
            "text/plain": [
              "<IPython.core.display.Image object>"
            ]
          },
          "metadata": {}
        }
      ]
    },
    {
      "cell_type": "markdown",
      "source": [
        "# **Q3: Create scatter plots to explore the relationship between output and each of the following input variables: `plot_area`, `lab_q`,` irr_q`, and `pest_v`. Generate a separate scatter plot for each of these input-output pairs. Based on these plots, what can you infer about the relationships between output and these inputs?**"
      ],
      "metadata": {
        "id": "ivvGM1Op3MLR"
      }
    },
    {
      "cell_type": "code",
      "source": [
        "%%R\n",
        "#------------------------- Your Code Here------------------------------------#\n",
        "#plot area vs output\n",
        "p1 <- ggplot(df, aes(x = plot_area, y = output)) +\n",
        "  geom_point(color = \"steelblue\", alpha = 0.7) +\n",
        "  labs(title = \"Output vs Plot Area\",\n",
        "       x = \"Plot Area\",\n",
        "       y = \"Output\") +\n",
        "  theme_minimal()\n",
        " print(p1)"
      ],
      "metadata": {
        "colab": {
          "base_uri": "https://localhost:8080/",
          "height": 497
        },
        "id": "H7UWcQTK0Iez",
        "outputId": "b45e3fb3-6267-4f10-893a-e6a861eab486"
      },
      "execution_count": 22,
      "outputs": [
        {
          "output_type": "display_data",
          "data": {
            "image/png": "[encoded data removed]",
            "text/plain": [
              "<IPython.core.display.Image object>"
            ]
          },
          "metadata": {}
        }
      ]
    },
    {
      "cell_type": "code",
      "source": [
        "%%R\n",
        "#labor quality vs output\n",
        "p2 <- ggplot(df, aes(x = lab_q, y = output)) +\n",
        "  geom_point(color = \"thistle4\", alpha = 0.7) +\n",
        "  labs(title = \"Output vs Labor Quantity\",\n",
        "       x = \"Labor Quantity (lab_q)\",\n",
        "       y = \"Output\") +\n",
        "  theme_minimal()\n",
        "  print(p2)"
      ],
      "metadata": {
        "colab": {
          "base_uri": "https://localhost:8080/",
          "height": 497
        },
        "id": "ICb7Hy4T0ILy",
        "outputId": "ccd7b575-f1e3-41a8-f852-f89e7cf13cca"
      },
      "execution_count": 23,
      "outputs": [
        {
          "output_type": "display_data",
          "data": {
            "image/png": "[encoded data removed]",
            "text/plain": [
              "<IPython.core.display.Image object>"
            ]
          },
          "metadata": {}
        }
      ]
    },
    {
      "cell_type": "code",
      "source": [
        "%%R\n",
        "#irragation quality vs output\n",
        "p3 <- ggplot(df, aes(x = irr_q, y = output)) +\n",
        "  geom_point(color = \"lightpink3\", alpha = 0.7) +\n",
        "  labs(title = \"Output vs Irrigation Quantity\",\n",
        "       x = \"Irrigation Quantity (irr_q)\",\n",
        "       y = \"Output\") +\n",
        "  theme_minimal()\n",
        "  print (p3)"
      ],
      "metadata": {
        "colab": {
          "base_uri": "https://localhost:8080/",
          "height": 497
        },
        "id": "OBwfhGMa0H6F",
        "outputId": "66bade90-7dd8-43a6-ebd9-0b92465530e9"
      },
      "execution_count": 24,
      "outputs": [
        {
          "output_type": "display_data",
          "data": {
            "image/png": "[encoded data removed]",
            "text/plain": [
              "<IPython.core.display.Image object>"
            ]
          },
          "metadata": {}
        }
      ]
    },
    {
      "cell_type": "code",
      "source": [
        "\n",
        "%%R\n",
        "#pestide vs output\n",
        "p4 <- ggplot(df, aes(x = pest_v, y = output)) +\n",
        "  geom_point(color = \"palegreen4\", alpha = 0.7) +\n",
        "  labs(title = \"Output vs Pesticide Value\",\n",
        "       x = \"Pesticide Value (pest_v)\",\n",
        "       y = \"Output\") +\n",
        "  theme_minimal()\n",
        "  print (p4)"
      ],
      "metadata": {
        "id": "vmeVuTICijyv",
        "colab": {
          "base_uri": "https://localhost:8080/",
          "height": 497
        },
        "outputId": "cd91ebd7-48a4-4208-9459-1952a9a1732e"
      },
      "execution_count": 25,
      "outputs": [
        {
          "output_type": "display_data",
          "data": {
            "image/png": "[encoded data removed]",
            "text/plain": [
              "<IPython.core.display.Image object>"
            ]
          },
          "metadata": {}
        }
      ]
    },
    {
      "cell_type": "markdown",
      "source": [
        "**I can infer that the outputs and inputs have a positive and fairly linear relationship**"
      ],
      "metadata": {
        "id": "MTf-P2-biiuK"
      }
    },
    {
      "cell_type": "markdown",
      "source": [
        "# **Create and Transform Variables**"
      ],
      "metadata": {
        "id": "etYekcVD5YMm"
      }
    },
    {
      "cell_type": "markdown",
      "source": [
        "Creating variables in a data frame in `R `is easy. All you need to do is to assign some value to a variable name that does not exist in the data frame. For example, to create a variable called `var1` in data frame `df` and assign the value of 1 to all observations, you could right:"
      ],
      "metadata": {
        "id": "gwQTLqs033sL"
      }
    },
    {
      "cell_type": "code",
      "source": [
        "%%R\n",
        "# Create `var1` variable in df\n",
        "df$var1 <- 1\n",
        "# Check if var1 was addes\n",
        "head(df)"
      ],
      "metadata": {
        "colab": {
          "base_uri": "https://localhost:8080/"
        },
        "id": "SFyH8uEb36WJ",
        "outputId": "2efca59f-18bd-4f1d-81b6-149ec60a5e4e"
      },
      "execution_count": 26,
      "outputs": [
        {
          "output_type": "stream",
          "name": "stdout",
          "text": [
            "# A tibble: 6 × 31\n",
            "  country   vil_id  rain average    dev   pop  dist nomkt vdsa_hh_id tot_acre\n",
            "  <dbl+lbl>  <dbl> <dbl>   <dbl>  <dbl> <dbl> <dbl> <dbl>      <dbl>    <dbl>\n",
            "1 1 [India]    119   NA      NA  NA      3600     5     4     119035    1.22 \n",
            "2 1 [India]    119  496.    577.  0.859  3600     5     4     119034    0.870\n",
            "3 1 [India]    119  471.    577.  0.815  3600     5     4     119034    1.15 \n",
            "4 1 [India]    120  471.    577.  0.815  4494    15     4     120048    1.80 \n",
            "5 1 [India]    119  496.    577.  0.859  3600     5     4     119034    0.870\n",
            "6 1 [India]    137   NA      NA  NA       880    13     2     137032    5    \n",
            "# ℹ 21 more variables: genderH <dbl>, ageH <dbl>, noadultM <dbl>,\n",
            "#   noadultF <dbl>, nokids <dbl>, sizehh <dbl>, farm_cat <chr>, aindex <dbl>,\n",
            "#   lindex <dbl>, prcl_id <dbl>, sur_yr <dbl>, plot_area <dbl>, output <dbl>,\n",
            "#   price <dbl>, value <dbl>, lab_q <dbl>, fert_q <dbl>, irr_q <dbl>,\n",
            "#   mech_v <dbl>, pest_v <dbl>, var1 <dbl>\n"
          ]
        }
      ]
    },
    {
      "cell_type": "markdown",
      "source": [
        "# **Using IHS Transformation for Zero Values**"
      ],
      "metadata": {
        "id": "OWu8kYQ-Kp0s"
      }
    },
    {
      "cell_type": "markdown",
      "source": [
        "In production economics, researchers often use logarithmic transformations of data to simplify relationships between variables and facilitate the estimation of production functions like [Cobb-Douglas](https://en.wikipedia.org/wiki/Cobb%E2%80%93Douglas_production_function) or Translog. The *log transformation* is particularly useful because it allows us to interpret the coefficients from regressions as [elasticities](https://en.wikipedia.org/wiki/Elasticity_(economics), providing insights into how input changes affect output.\n",
        "\n",
        "However, log transformations run into a problem when the data contains zero values. Mathematically, the logarithm of zero $(log(0))$ is undefined, so we cannot directly apply the log function to variables that include zeros, which is common in agricultural production data (e.g., zero pesticide use on certain plots).\n",
        "\n",
        "To address this issue, we can use an alternative transformation known as the **Inverse Hyperbolic Sine (IHS)** Transformation. The IHS transformation provides a way to handle zero values without arbitrarily adding small constants to the data. Its formula is:\n",
        "\n",
        "$$log(x) = log(x+\\sqrt{x^2+1})$$\n",
        "\n",
        "  **Handles Zeros:** Unlike the log transformation, the IHS can handle zeros directly (solves the problem of $log(0)$), making it ideal for datasets where some input quantities (like pesticide use) may be zero.\n",
        "\n",
        "  **Approximation of Logarithmic Scale:** For large values of x, the IHS transformation behaves similarly to the natural logarithm, preserving the interpretability of elasticities in economic models.\n",
        "\n",
        "  **Avoids Arbitrary Additions:** Other methods involve adding a small constant to avoid taking the log of zero (e.g., log(x + 1)). This can introduce bias or arbitrary scaling, which the IHS avoids.\n",
        "\n",
        "In our VDSA data, we often work with output and input variables such as *labor*, *fertilizer,* *irrigation*, and *pesticide*. To make comparisons across plots with different sizes, we typically consider these inputs on a per-hectare basis. To transform these variables using the IHS, we divide by the plot area and then apply the `asinh()` function in `R`.\n",
        "\n",
        "For example, to create a variable called `lny` with the log of output divided by `plot_area`, we can run:"
      ],
      "metadata": {
        "id": "GhQwY03Bi-ce"
      }
    },
    {
      "cell_type": "code",
      "source": [
        "%%R\n",
        "# Calculate the output per hectare by dividing 'output' by 'plot_area'\n",
        "# Apply the inverse hyperbolic sine (asinh) transformation to the result\n",
        "# Assign the transformed values to a new column 'lny' in the data frame 'df'\n",
        "df$lny <- asinh(df$output / df$plot_area)\n",
        "\n",
        "# Check if the new var `lny` was added to df\n",
        "head(df)"
      ],
      "metadata": {
        "colab": {
          "base_uri": "https://localhost:8080/"
        },
        "id": "TIBzh5Urk_g1",
        "outputId": "219e02d2-8321-451f-c13e-18715ed43ec6"
      },
      "execution_count": 27,
      "outputs": [
        {
          "output_type": "stream",
          "name": "stdout",
          "text": [
            "# A tibble: 6 × 32\n",
            "  country   vil_id  rain average    dev   pop  dist nomkt vdsa_hh_id tot_acre\n",
            "  <dbl+lbl>  <dbl> <dbl>   <dbl>  <dbl> <dbl> <dbl> <dbl>      <dbl>    <dbl>\n",
            "1 1 [India]    119   NA      NA  NA      3600     5     4     119035    1.22 \n",
            "2 1 [India]    119  496.    577.  0.859  3600     5     4     119034    0.870\n",
            "3 1 [India]    119  471.    577.  0.815  3600     5     4     119034    1.15 \n",
            "4 1 [India]    120  471.    577.  0.815  4494    15     4     120048    1.80 \n",
            "5 1 [India]    119  496.    577.  0.859  3600     5     4     119034    0.870\n",
            "6 1 [India]    137   NA      NA  NA       880    13     2     137032    5    \n",
            "# ℹ 22 more variables: genderH <dbl>, ageH <dbl>, noadultM <dbl>,\n",
            "#   noadultF <dbl>, nokids <dbl>, sizehh <dbl>, farm_cat <chr>, aindex <dbl>,\n",
            "#   lindex <dbl>, prcl_id <dbl>, sur_yr <dbl>, plot_area <dbl>, output <dbl>,\n",
            "#   price <dbl>, value <dbl>, lab_q <dbl>, fert_q <dbl>, irr_q <dbl>,\n",
            "#   mech_v <dbl>, pest_v <dbl>, var1 <dbl>, lny <dbl>\n"
          ]
        }
      ]
    },
    {
      "cell_type": "markdown",
      "source": [
        "# **Q4:  Now, create similar variables for all inputs and call them `lnl`, `lnf`, `lni`, `lnm`, and `lnp`.**"
      ],
      "metadata": {
        "id": "h0Wy0i5f4KGt"
      }
    },
    {
      "cell_type": "code",
      "source": [
        "%%R\n",
        "#------------------------- Your Code Here------------------------------------#\n",
        "df$lnl <- asinh(df$lab_q /df$plot_area)\n",
        "df$lnf <- asinh(df$fert_q /df$plot_area)\n",
        "df$lni <- asinh(df$irr_q /df$plot_area)\n",
        "df$lnm <- asinh(df$mech_v /df$plot_area)\n",
        "df$lnp <- asinh(df$pest_v /df$plot_area)\n",
        "\n",
        "head(df)"
      ],
      "metadata": {
        "id": "zc_4vVnRlbLP",
        "colab": {
          "base_uri": "https://localhost:8080/"
        },
        "outputId": "18703f4c-e940-4b21-f207-6206b3f4ff37"
      },
      "execution_count": 28,
      "outputs": [
        {
          "output_type": "stream",
          "name": "stdout",
          "text": [
            "# A tibble: 6 × 37\n",
            "  country   vil_id  rain average    dev   pop  dist nomkt vdsa_hh_id tot_acre\n",
            "  <dbl+lbl>  <dbl> <dbl>   <dbl>  <dbl> <dbl> <dbl> <dbl>      <dbl>    <dbl>\n",
            "1 1 [India]    119   NA      NA  NA      3600     5     4     119035    1.22 \n",
            "2 1 [India]    119  496.    577.  0.859  3600     5     4     119034    0.870\n",
            "3 1 [India]    119  471.    577.  0.815  3600     5     4     119034    1.15 \n",
            "4 1 [India]    120  471.    577.  0.815  4494    15     4     120048    1.80 \n",
            "5 1 [India]    119  496.    577.  0.859  3600     5     4     119034    0.870\n",
            "6 1 [India]    137   NA      NA  NA       880    13     2     137032    5    \n",
            "# ℹ 27 more variables: genderH <dbl>, ageH <dbl>, noadultM <dbl>,\n",
            "#   noadultF <dbl>, nokids <dbl>, sizehh <dbl>, farm_cat <chr>, aindex <dbl>,\n",
            "#   lindex <dbl>, prcl_id <dbl>, sur_yr <dbl>, plot_area <dbl>, output <dbl>,\n",
            "#   price <dbl>, value <dbl>, lab_q <dbl>, fert_q <dbl>, irr_q <dbl>,\n",
            "#   mech_v <dbl>, pest_v <dbl>, var1 <dbl>, lny <dbl>, lnl <dbl>, lnf <dbl>,\n",
            "#   lni <dbl>, lnm <dbl>, lnp <dbl>\n"
          ]
        }
      ]
    },
    {
      "cell_type": "markdown",
      "source": [
        "Assign labels to the newly created variables, including their units of measurement (e.g., “kg/ha” for fertilizer). Use the provided command lines to add these labels and append them to the original dataset."
      ],
      "metadata": {
        "id": "tYyrW6MFLsS-"
      }
    },
    {
      "cell_type": "code",
      "source": [
        "%%R\n",
        "# Define a vector containing the names of new variables\n",
        "new.vars <- c(\"var1\", \"lny\", \"lnl\", \"lnf\", \"lni\", \"lnm\", \"lnp\")\n",
        "\n",
        "# Create a matrix that combines the new variable names with their corresponding labels\n",
        "# cbind() combines the 'new.vars' vector with a vector of descriptive labels for each variable\n",
        "new.labels <- cbind(new.vars, c(\n",
        "                \"variable with ones\",             # Label for 'var1'\n",
        "                \"log of output per area (Rs/ha)\", # Label for 'lny'\n",
        "                \"log of labor per area (Hr/ha)\",  # Label for 'lnl'\n",
        "                \"log of fertilizer per area (kg/ha)\", # Label for 'lnf'\n",
        "                \"log of irrigation per area (Lt/ha)\", # Label for 'lni'\n",
        "                \"log of mechanistic input per area (Rs/ha)\", # Label for 'lnm'\n",
        "                \"log of pesticide per area (Rs/ha)\"  # Label for 'lnp'\n",
        "))\n",
        "\n",
        "# Set column names for the 'new.labels' matrix to describe what each column represents\n",
        "colnames(new.labels) <- c(\"variable\", \"label\")\n",
        "# View  'new.labels' matrix\n",
        "print(new.labels)"
      ],
      "metadata": {
        "colab": {
          "base_uri": "https://localhost:8080/"
        },
        "id": "tFdoymTH4yTr",
        "outputId": "4b3ee6d9-ad01-401b-9634-b2a4445aea9d"
      },
      "execution_count": 29,
      "outputs": [
        {
          "output_type": "stream",
          "name": "stdout",
          "text": [
            "     variable label                                      \n",
            "[1,] \"var1\"   \"variable with ones\"                       \n",
            "[2,] \"lny\"    \"log of output per area (Rs/ha)\"           \n",
            "[3,] \"lnl\"    \"log of labor per area (Hr/ha)\"            \n",
            "[4,] \"lnf\"    \"log of fertilizer per area (kg/ha)\"       \n",
            "[5,] \"lni\"    \"log of irrigation per area (Lt/ha)\"       \n",
            "[6,] \"lnm\"    \"log of mechanistic input per area (Rs/ha)\"\n",
            "[7,] \"lnp\"    \"log of pesticide per area (Rs/ha)\"        \n"
          ]
        }
      ]
    },
    {
      "cell_type": "markdown",
      "source": [
        "# **Regression Analysis**\n",
        "\n",
        "Finally, we can now run regressions in `R`. Basic OLS Regressions in `R` are run in the following form: `lm(indep_var ~ dep_var1 + … + dep_varN, data = data_frame_name)`\n",
        "\n",
        "Where the first set of arguments are the regression formula and the second indicates the data frame to be used. To visualize a detailed regression output table, you can assign the regression to an object and call the `summary()` of it:\n",
        "\n",
        "`summary(lm(indep_var ~ dep_var1 + … , data = df))`\n"
      ],
      "metadata": {
        "id": "kyZWx14T5iHk"
      }
    },
    {
      "cell_type": "markdown",
      "source": [
        "# **Q5: Run a simple regression with log labor, fertilizer, irrigation, mechanization, and pesticide as independent variables and log yield as the dependent variable. How do you interpret the point estimates on each variable?**"
      ],
      "metadata": {
        "id": "HKo5Ebwo48bY"
      }
    },
    {
      "cell_type": "code",
      "source": [
        "%%R\n",
        "#------------------------- Your Code Here------------------------------------#\n",
        "\n",
        "regression <- lm(lny ~ lnl + lnf + lni + lnm + lnp, data = df)\n",
        "\n",
        "# View detailed results\n",
        "summary(regression)"
      ],
      "metadata": {
        "id": "wRqIIa-C5JCS",
        "colab": {
          "base_uri": "https://localhost:8080/"
        },
        "outputId": "7cd9c83b-bf0c-4e6b-df32-a0ed2a7aefa3"
      },
      "execution_count": 30,
      "outputs": [
        {
          "output_type": "stream",
          "name": "stdout",
          "text": [
            "\n",
            "Call:\n",
            "lm(formula = lny ~ lnl + lnf + lni + lnm + lnp, data = df)\n",
            "\n",
            "Residuals:\n",
            "    Min      1Q  Median      3Q     Max \n",
            "-8.8418 -0.1620  0.0944  0.3938  2.9018 \n",
            "\n",
            "Coefficients:\n",
            "            Estimate Std. Error t value Pr(>|t|)    \n",
            "(Intercept)  5.82518    0.35704  16.315  < 2e-16 ***\n",
            "lnl         -0.02276    0.03730  -0.610  0.54193    \n",
            "lnf          0.11408    0.02858   3.991 6.98e-05 ***\n",
            "lni          0.03085    0.01804   1.711  0.08743 .  \n",
            "lnm          0.21218    0.03274   6.480 1.35e-10 ***\n",
            "lnp          0.03086    0.01185   2.604  0.00933 ** \n",
            "---\n",
            "Signif. codes:  0 ‘***’ 0.001 ‘**’ 0.01 ‘*’ 0.05 ‘.’ 0.1 ‘ ’ 1\n",
            "\n",
            "Residual standard error: 0.9779 on 1157 degrees of freedom\n",
            "Multiple R-squared:  0.07167,\tAdjusted R-squared:  0.06766 \n",
            "F-statistic: 17.86 on 5 and 1157 DF,  p-value: < 2.2e-16\n",
            "\n"
          ]
        }
      ]
    },
    {
      "cell_type": "markdown",
      "source": [
        "**Labor**: The coefficient for labor is slightly negative, suggesting that higher labor use is associated with a small decrease in output, but this relationship is not statistically significant (p > 0.05).\n",
        "\n",
        "**Fertilizer, irrigation, mechanization, and pesticide**: All have positive coefficients, indicating that increases in these inputs are associated with higher output. The effects of fertilizer, mechanization, and pesticide are statistically significant (p < 0.05), while irrigation shows a smaller, marginally significant positive effect (p ≈ 0.09). Mechanization also has the largest estimated impact\n"
      ],
      "metadata": {
        "id": "6OcvBeBVmR0g"
      }
    },
    {
      "cell_type": "markdown",
      "source": [
        "Before we move on, let’s create a binary indicator for irrigation use called `irr` that equals **1** if the parcel under observation had irrigation greater than zero and equals zero if the parcel had no irrigation."
      ],
      "metadata": {
        "id": "ZQrPw-oCmhXj"
      }
    },
    {
      "cell_type": "code",
      "source": [
        "%%R\n",
        "# Create binary indicator ffor irrigation called `irr`\n",
        "df$irr <- ifelse(df$irr_q > 0, 1, 0)\n",
        "# Check if the new var was added by displaying the first few rows of the df\n",
        "head(df)"
      ],
      "metadata": {
        "colab": {
          "base_uri": "https://localhost:8080/"
        },
        "id": "L5JhkB0jmtBx",
        "outputId": "76b383b7-8f53-4cbc-fd93-b5185f96d0ed"
      },
      "execution_count": 31,
      "outputs": [
        {
          "output_type": "stream",
          "name": "stdout",
          "text": [
            "# A tibble: 6 × 38\n",
            "  country   vil_id  rain average    dev   pop  dist nomkt vdsa_hh_id tot_acre\n",
            "  <dbl+lbl>  <dbl> <dbl>   <dbl>  <dbl> <dbl> <dbl> <dbl>      <dbl>    <dbl>\n",
            "1 1 [India]    119   NA      NA  NA      3600     5     4     119035    1.22 \n",
            "2 1 [India]    119  496.    577.  0.859  3600     5     4     119034    0.870\n",
            "3 1 [India]    119  471.    577.  0.815  3600     5     4     119034    1.15 \n",
            "4 1 [India]    120  471.    577.  0.815  4494    15     4     120048    1.80 \n",
            "5 1 [India]    119  496.    577.  0.859  3600     5     4     119034    0.870\n",
            "6 1 [India]    137   NA      NA  NA       880    13     2     137032    5    \n",
            "# ℹ 28 more variables: genderH <dbl>, ageH <dbl>, noadultM <dbl>,\n",
            "#   noadultF <dbl>, nokids <dbl>, sizehh <dbl>, farm_cat <chr>, aindex <dbl>,\n",
            "#   lindex <dbl>, prcl_id <dbl>, sur_yr <dbl>, plot_area <dbl>, output <dbl>,\n",
            "#   price <dbl>, value <dbl>, lab_q <dbl>, fert_q <dbl>, irr_q <dbl>,\n",
            "#   mech_v <dbl>, pest_v <dbl>, var1 <dbl>, lny <dbl>, lnl <dbl>, lnf <dbl>,\n",
            "#   lni <dbl>, lnm <dbl>, lnp <dbl>, irr <dbl>\n"
          ]
        }
      ]
    },
    {
      "cell_type": "markdown",
      "source": [
        "This will be our “treatment” variable. Let’s also create log transformed variables of `aindex`, `lindex`, `tot_acre`, and `dist` using the Inverse Hyperbolic Sine (IHS) `asinh()`. Call them `lnaindex`, `lnlindex`, `lntot_acre`, and `lndist`."
      ],
      "metadata": {
        "id": "GWrc9TRAmxFh"
      }
    },
    {
      "cell_type": "code",
      "source": [
        "%%R\n",
        "# Apply the inverse hyperbolic sine (asinh) transformation to 'aindex'\n",
        "df$lnaindex <- asinh(df$aindex)\n",
        "\n",
        "# Apply the inverse hyperbolic sine (asinh) transformation to 'lindex'\n",
        "df$lnlindex <- asinh(df$lindex)\n",
        "\n",
        "# Apply the inverse hyperbolic sine (asinh) transformation to 'tot_acre'\n",
        "df$lntot_acre <- asinh(df$tot_acre)\n",
        "\n",
        "# Apply the inverse hyperbolic sine (asinh) transformation to 'dist'\n",
        "df$lndist <- asinh(df$dist)\n",
        "\n",
        "# Check if the new columns were added by displaying the first few rows of the data frame\n",
        "head(df)"
      ],
      "metadata": {
        "colab": {
          "base_uri": "https://localhost:8080/"
        },
        "id": "eSKlrU7VMLZz",
        "outputId": "d5c7421a-d70e-4889-af7c-03feb264a100"
      },
      "execution_count": 32,
      "outputs": [
        {
          "output_type": "stream",
          "name": "stdout",
          "text": [
            "# A tibble: 6 × 42\n",
            "  country   vil_id  rain average    dev   pop  dist nomkt vdsa_hh_id tot_acre\n",
            "  <dbl+lbl>  <dbl> <dbl>   <dbl>  <dbl> <dbl> <dbl> <dbl>      <dbl>    <dbl>\n",
            "1 1 [India]    119   NA      NA  NA      3600     5     4     119035    1.22 \n",
            "2 1 [India]    119  496.    577.  0.859  3600     5     4     119034    0.870\n",
            "3 1 [India]    119  471.    577.  0.815  3600     5     4     119034    1.15 \n",
            "4 1 [India]    120  471.    577.  0.815  4494    15     4     120048    1.80 \n",
            "5 1 [India]    119  496.    577.  0.859  3600     5     4     119034    0.870\n",
            "6 1 [India]    137   NA      NA  NA       880    13     2     137032    5    \n",
            "# ℹ 32 more variables: genderH <dbl>, ageH <dbl>, noadultM <dbl>,\n",
            "#   noadultF <dbl>, nokids <dbl>, sizehh <dbl>, farm_cat <chr>, aindex <dbl>,\n",
            "#   lindex <dbl>, prcl_id <dbl>, sur_yr <dbl>, plot_area <dbl>, output <dbl>,\n",
            "#   price <dbl>, value <dbl>, lab_q <dbl>, fert_q <dbl>, irr_q <dbl>,\n",
            "#   mech_v <dbl>, pest_v <dbl>, var1 <dbl>, lny <dbl>, lnl <dbl>, lnf <dbl>,\n",
            "#   lni <dbl>, lnm <dbl>, lnp <dbl>, irr <dbl>, lnaindex <dbl>, lnlindex <dbl>,\n",
            "#   lntot_acre <dbl>, lndist <dbl>\n"
          ]
        }
      ]
    },
    {
      "cell_type": "markdown",
      "source": [
        "# **Save the Processed Data**\n",
        "\n",
        "To save this data frame as .csv file called `VDSA_Prod_Data_Ref.csv,` you can use the following command:\n",
        "\n",
        "\n",
        "\n"
      ],
      "metadata": {
        "id": "n3cnbx2e5oPc"
      }
    },
    {
      "cell_type": "code",
      "source": [
        "%%R\n",
        "# Save the data frame as a CSV file\n",
        "write.csv(df, \"/content/VDSA_Prod_Data_Ref.csv\", row.names = FALSE)\n"
      ],
      "metadata": {
        "id": "5jVolYFo5ns0"
      },
      "execution_count": 33,
      "outputs": []
    },
    {
      "cell_type": "markdown",
      "source": [
        "# **Note** : Make sure to navigate to the side pane and locate the content folder. Expand the folder and locate your file. Download this file and store it in your dedicated GEOG279 folder or any other folder of your choice."
      ],
      "metadata": {
        "id": "QeWbdrJ2Mxfa"
      }
    },
    {
      "cell_type": "markdown",
      "source": [
        "# **The Challenge of Establishing a Causal Effect**\n",
        "\n",
        "To provide a sense of the difficulty in establishing causal effects, we're going to look at our data in two different ways.\n",
        "* First, we are going to compare the effect of a hypothetical irrigation intervention on those who received the irrigation treatment versus those who did not. This is our **Within/Without** comparison.\n",
        "* Second, we are going to compare the effect of the irrigation treatment on households **Before** they received the treatment and **After** they received the treatment. This is our  **Before/After** comparison."
      ],
      "metadata": {
        "id": "OQAvJW3moI9q"
      }
    },
    {
      "cell_type": "markdown",
      "source": [
        "### **1. Within/Without Comparison**\n",
        "\n"
      ],
      "metadata": {
        "id": "IG8IVSf2oR4E"
      }
    },
    {
      "cell_type": "markdown",
      "source": [
        "Using the transformed data frame that you just saved, create a new data set that contains only data from `sur_yr=2011`. Call it `df_2011`:"
      ],
      "metadata": {
        "id": "TQmtFs26N4Sb"
      }
    },
    {
      "cell_type": "code",
      "source": [
        "%%R\n",
        "# Create a new df named  `df_2011` that contains only data from sur_yr=2011.\n",
        "df_2011 <- subset(df, df$sur_yr==\"2011\")\n",
        "head(df_2011 )"
      ],
      "metadata": {
        "colab": {
          "base_uri": "https://localhost:8080/"
        },
        "id": "I6AzN7BsoHwT",
        "outputId": "68be1a49-9409-40cf-bb71-d8aecb931138"
      },
      "execution_count": 34,
      "outputs": [
        {
          "output_type": "stream",
          "name": "stdout",
          "text": [
            "# A tibble: 6 × 42\n",
            "  country   vil_id  rain average   dev   pop  dist nomkt vdsa_hh_id tot_acre\n",
            "  <dbl+lbl>  <dbl> <dbl>   <dbl> <dbl> <dbl> <dbl> <dbl>      <dbl>    <dbl>\n",
            "1 1 [India]    119  496.    577. 0.859  3600   5       4     119034    0.870\n",
            "2 1 [India]    119  496.    577. 0.859  3600   5       4     119034    0.870\n",
            "3 1 [India]    118  465.    501. 0.929  3000   4.5     4     118030    1.10 \n",
            "4 1 [India]    118  465.    501. 0.929  3000   4.5     4     118030    1.10 \n",
            "5 1 [India]    119  496.    577. 0.859  3600   5       4     119035    0.75 \n",
            "6 1 [India]    119  496.    577. 0.859  3600   5       4     119034    0.870\n",
            "# ℹ 32 more variables: genderH <dbl>, ageH <dbl>, noadultM <dbl>,\n",
            "#   noadultF <dbl>, nokids <dbl>, sizehh <dbl>, farm_cat <chr>, aindex <dbl>,\n",
            "#   lindex <dbl>, prcl_id <dbl>, sur_yr <dbl>, plot_area <dbl>, output <dbl>,\n",
            "#   price <dbl>, value <dbl>, lab_q <dbl>, fert_q <dbl>, irr_q <dbl>,\n",
            "#   mech_v <dbl>, pest_v <dbl>, var1 <dbl>, lny <dbl>, lnl <dbl>, lnf <dbl>,\n",
            "#   lni <dbl>, lnm <dbl>, lnp <dbl>, irr <dbl>, lnaindex <dbl>, lnlindex <dbl>,\n",
            "#   lntot_acre <dbl>, lndist <dbl>\n"
          ]
        }
      ]
    },
    {
      "cell_type": "markdown",
      "source": [
        "# **Q6: Generate a table (using the `by()` function) that shows the yields for those with irrigation treatment and those without the irrigation treatment. What do you learn from the table about the impact of the irrigation treatment on the log of yields?**"
      ],
      "metadata": {
        "id": "IeYtUtke6QbT"
      }
    },
    {
      "cell_type": "code",
      "source": [
        "%%R\n",
        "#------------------------- Your Code Here------------------------------------#\n",
        "df$irrig_treat <- ifelse(df$irr_q > 0, 1, 0)\n",
        "\n",
        "by(df$lny, df$irrig_treat, summary)"
      ],
      "metadata": {
        "id": "C3kOxlqao0vf",
        "colab": {
          "base_uri": "https://localhost:8080/"
        },
        "outputId": "0ad4976c-864c-4407-e7ee-c0c62847a2f1"
      },
      "execution_count": 35,
      "outputs": [
        {
          "output_type": "stream",
          "name": "stdout",
          "text": [
            "df$irrig_treat: 0\n",
            "   Min. 1st Qu.  Median    Mean 3rd Qu.    Max. \n",
            "  0.000   7.926   8.322   8.237   8.729  11.396 \n",
            "------------------------------------------------------------ \n",
            "df$irrig_treat: 1\n",
            "   Min. 1st Qu.  Median    Mean 3rd Qu.    Max. \n",
            "  0.000   8.351   8.611   8.418   8.793  11.043 \n"
          ]
        }
      ]
    },
    {
      "cell_type": "markdown",
      "source": [
        "the average log yield is a little higher for the irrigation treatment (8.42) compared to the non-irrigated group (8.24), it looks like irrigation slightly increases yields overall."
      ],
      "metadata": {
        "id": "t5eCobnH6auB"
      }
    },
    {
      "cell_type": "markdown",
      "source": [
        "# **Q7: Perform a `t.test()` to compare the mean yield between households that received irrigation treatment and those that did not (the control group). Based on the results, what can you conclude about the impact of irrigation on yield? Does this test estimate the intention-to-treat effect, the effect of treatment on the treated, or the average treatment effect? Explain your reasoning.**"
      ],
      "metadata": {
        "id": "jTdBnVYK6ghd"
      }
    },
    {
      "cell_type": "code",
      "source": [
        "%%R\n",
        "#------------------------- Your Code Here------------------------------------#\n",
        "t.test(lny ~ irrig_treat, data = df)"
      ],
      "metadata": {
        "id": "A73A5nhOopMV",
        "colab": {
          "base_uri": "https://localhost:8080/"
        },
        "outputId": "8b2a5c08-fbe0-46fd-f93c-8fc22b4777a5"
      },
      "execution_count": 36,
      "outputs": [
        {
          "output_type": "stream",
          "name": "stdout",
          "text": [
            "\n",
            "\tWelch Two Sample t-test\n",
            "\n",
            "data:  lny by irrig_treat\n",
            "t = -2.8833, df = 832.89, p-value = 0.004037\n",
            "alternative hypothesis: true difference in means between group 0 and group 1 is not equal to 0\n",
            "95 percent confidence interval:\n",
            " -0.30407089 -0.05775585\n",
            "sample estimates:\n",
            "mean in group 0 mean in group 1 \n",
            "       8.237282        8.418196 \n",
            "\n"
          ]
        }
      ]
    },
    {
      "cell_type": "markdown",
      "source": [
        "Based on the t-test (p = 0.004), irrigation had a significant positive impact on yield. The average log yield for households with irrigation (8.42) was higher than for those without (8.24), and because the p-value is so low, it’s very unlikely this difference happened by chance.\n",
        " This test is estimating the intention-to-treat effect because it’s compares the people who were assigned irrigation to those who weren’t. It doesn’t check if everyone actually used it or not, so it’s measuring the impact of being offered irrigation, not the effect on only the ones who used it.\n",
        "\n",
        "\n",
        "\n"
      ],
      "metadata": {
        "id": "PGbLUuHX6pMn"
      }
    },
    {
      "cell_type": "markdown",
      "source": [
        "# **Q8: Run a regression analysis using only the irrigation treatment variable (irr) as the predictor and the logarithm of crop yield (lny) as the outcome. What do the results indicate? Specifically, what is the marginal effect of irrigation on crop yield? Does this regression capture the true impact of the irrigation treatment? Why or why not?**"
      ],
      "metadata": {
        "id": "2kKJTAFU6sGB"
      }
    },
    {
      "cell_type": "code",
      "source": [
        "%%R\n",
        "#------------------------- Your Code Here------------------------------------#\n",
        "irr_regress <- lm(lny ~ irrig_treat, data = df)\n",
        "summary(irr_regress)"
      ],
      "metadata": {
        "id": "uu4UaoI8ojEW",
        "colab": {
          "base_uri": "https://localhost:8080/"
        },
        "outputId": "e2db07b0-c7dd-4c06-d8c7-a1cb42366ef8"
      },
      "execution_count": 38,
      "outputs": [
        {
          "output_type": "stream",
          "name": "stdout",
          "text": [
            "\n",
            "Call:\n",
            "lm(formula = lny ~ irrig_treat, data = df)\n",
            "\n",
            "Residuals:\n",
            "    Min      1Q  Median      3Q     Max \n",
            "-8.4182 -0.1372  0.1519  0.4376  3.1592 \n",
            "\n",
            "Coefficients:\n",
            "            Estimate Std. Error t value Pr(>|t|)    \n",
            "(Intercept)  8.23728    0.03940 209.058  < 2e-16 ***\n",
            "irrig_treat  0.18091    0.05968   3.032  0.00249 ** \n",
            "---\n",
            "Signif. codes:  0 ‘***’ 0.001 ‘**’ 0.01 ‘*’ 0.05 ‘.’ 0.1 ‘ ’ 1\n",
            "\n",
            "Residual standard error: 1.009 on 1161 degrees of freedom\n",
            "Multiple R-squared:  0.007854,\tAdjusted R-squared:  0.006999 \n",
            "F-statistic:  9.19 on 1 and 1161 DF,  p-value: 0.002487\n",
            "\n"
          ]
        }
      ]
    },
    {
      "cell_type": "markdown",
      "source": [
        "The resuls indicate that irrigation has a small but positive effect on crop yield, switching from no irrigation to irrigation increases the log of yield by about 0.18 units on average. The regression does not show true impact of irragation treatment beacuse it is not accounting for confounding factors and is therefore only showing correlation and not necessarily causation."
      ],
      "metadata": {
        "id": "IZT0DUzJpb47"
      }
    },
    {
      "cell_type": "markdown",
      "source": [
        "# **Q9: Now, include the following control variables in your regression model: `lnl`, `lnf`,  `lnm`, `lnp`, `ageH`, `genderH`, `sizehh`, `aindex`, `lindex`, `tot_acre`, and `dist`. Optionally, you can apply a log transformation to `aindex`, `lindex`, `tot_acre`, and `dist`, but it is not required. Use `lny` as the dependent variable. In future exercises, we will refer to this set of 10 variables as our “standard set of control variables.”**"
      ],
      "metadata": {
        "id": "EH78A4pb61UQ"
      }
    },
    {
      "cell_type": "code",
      "source": [
        "%%R\n",
        "#------------------------- Your Code Here------------------------------------#\n",
        "regress_w_controls <- lm(\n",
        "  lny ~ irrig_treat + lnl + lnf + lnm + lnp + ageH + genderH + sizehh +\n",
        "        log1p(aindex) + log1p(lindex) + log1p(tot_acre) + log1p(dist),\n",
        "  data = df,)\n",
        "summary(regress_w_controls)"
      ],
      "metadata": {
        "id": "O8TPD4M_66Di",
        "colab": {
          "base_uri": "https://localhost:8080/",
          "height": 660
        },
        "outputId": "d9312f51-2b19-479a-a15a-2dea8ee0549d"
      },
      "execution_count": 49,
      "outputs": [
        {
          "output_type": "stream",
          "name": "stdout",
          "text": [
            "\n",
            "Call:\n",
            "lm(formula = lny ~ irrig_treat + lnl + lnf + lnm + lnp + ageH + \n",
            "    genderH + sizehh + log1p(aindex) + log1p(lindex) + log1p(tot_acre) + \n",
            "    log1p(dist), data = df)\n",
            "\n",
            "Residuals:\n",
            "    Min      1Q  Median      3Q     Max \n",
            "-8.2116 -0.1690  0.0814  0.3419  2.8202 \n",
            "\n",
            "Coefficients:\n",
            "                  Estimate Std. Error t value Pr(>|t|)    \n",
            "(Intercept)      5.6766361  0.4929751  11.515  < 2e-16 ***\n",
            "irrig_treat      0.1115542  0.0828614   1.346   0.1786    \n",
            "lnl              0.0763765  0.0472024   1.618   0.1060    \n",
            "lnf              0.1523991  0.0300944   5.064 5.05e-07 ***\n",
            "lnm              0.1845713  0.0358631   5.147 3.31e-07 ***\n",
            "lnp              0.0284489  0.0125382   2.269   0.0235 *  \n",
            "ageH             0.0002937  0.0026488   0.111   0.9117    \n",
            "genderH         -0.0754234  0.1949006  -0.387   0.6989    \n",
            "sizehh           0.0041173  0.0086942   0.474   0.6359    \n",
            "log1p(aindex)    0.0003235  0.0311573   0.010   0.9917    \n",
            "log1p(lindex)    0.1051743  0.0528532   1.990   0.0469 *  \n",
            "log1p(tot_acre) -0.0758285  0.0528600  -1.435   0.1518    \n",
            "log1p(dist)     -0.0956505  0.0385330  -2.482   0.0132 *  \n",
            "---\n",
            "Signif. codes:  0 ‘***’ 0.001 ‘**’ 0.01 ‘*’ 0.05 ‘.’ 0.1 ‘ ’ 1\n",
            "\n",
            "Residual standard error: 0.888 on 838 degrees of freedom\n",
            "  (312 observations deleted due to missingness)\n",
            "Multiple R-squared:  0.111,\tAdjusted R-squared:  0.09822 \n",
            "F-statistic: 8.715 on 12 and 838 DF,  p-value: 8.231e-16\n",
            "\n"
          ]
        },
        {
          "output_type": "display_data",
          "data": {
            "text/plain": [
              "In addition: Warning messages:\n",
              "1: In log1p(aindex) : NaNs produced\n",
              "2: In log1p(lindex) : NaNs produced\n"
            ]
          },
          "metadata": {}
        }
      ]
    },
    {
      "cell_type": "markdown",
      "source": [
        "**------------------------Your Answer here----------------------------------------**"
      ],
      "metadata": {
        "id": "rUl69fs966Ni"
      }
    },
    {
      "cell_type": "markdown",
      "source": [
        "# **Q10: How do the regression results change after adding the control variables? What does the new point estimate indicate? Is the coefficient on `irr` now an unbiased estimate of the treatment effect, or could it represent something else? Explain your interpretation.**"
      ],
      "metadata": {
        "id": "3XQoY8uJ7A8q"
      }
    },
    {
      "cell_type": "markdown",
      "source": [
        "After adding the control variables, the irrigation coefficient went from 0.18 to 0.11. The estimated effect of irrigation got smaller and is no longer statistically significant, which suggests that some of the earlier yield differences between irrigated and non-irrigated households were actually due to other factors, not irrigation alone. this new point estimate still shows a positive relationship, but it’s weaker and not significant once those confounding factors are accounted for. The coefficient on irrigation is less biased than before, but there could still be unobserved factors or selection bias influencing the correlation."
      ],
      "metadata": {
        "id": "JH4ysSEapwEk"
      }
    },
    {
      "cell_type": "markdown",
      "source": [
        "# **Before/After Comparison**"
      ],
      "metadata": {
        "id": "-YRiECkLpzA3"
      }
    },
    {
      "cell_type": "markdown",
      "source": [
        "Return to the data frame used before the Within/Without comparison `(df)`. Using this data set create a new data set that contains only households that received the irrigation treatment. To do this, run the following set of commands:**"
      ],
      "metadata": {
        "id": "1TkW96ZM7tGX"
      }
    },
    {
      "cell_type": "code",
      "source": [
        "%%R\n",
        "# drop observations from 2012\n",
        "df_small <- subset(df, sur_yr != 2012)\n",
        "\n",
        "# count observations per parcel\n",
        "df_small$obs <- ave(df_small$var1, df_small$prcl_id, FUN=sum)\n",
        "\n",
        "# identify treated parcels in 2011\n",
        "df_small$tr_2011 <- ifelse(df_small$sur_yr == 2011 & df_small$irr == 1, 1, 0)\n",
        "\n",
        "# assign 2011 treatement status to observations in both years\n",
        "df_small$tr_2011 <- ave(df_small$tr_2011, df_small$prcl_id, FUN=sum)\n",
        "\n",
        "# subset of observations treated in 2011\n",
        "df_tr2011 <- subset(df_small, tr_2011 == 1)\n",
        "\n",
        "# keep only variables observed in both years\n",
        "df_tr2011 <- subset(df_tr2011, obs == 2)\n",
        "\n",
        "# make sure observations are balanced\n",
        "table(df_tr2011$irr)"
      ],
      "metadata": {
        "id": "sqjQKk2zp8Ii",
        "colab": {
          "base_uri": "https://localhost:8080/"
        },
        "outputId": "e971b1c0-d3bf-4b08-9308-307ea705a0c5"
      },
      "execution_count": 42,
      "outputs": [
        {
          "output_type": "stream",
          "name": "stdout",
          "text": [
            "\n",
            "  0   1 \n",
            "108 108 \n"
          ]
        }
      ]
    },
    {
      "cell_type": "markdown",
      "source": [
        "#  **Q11: Generate a table (using the summary command) that shows the average yields for households before they received the irrigation treatment and average yields after the irrigation treatment. What do you learn from the table about the impact of the irrigation treatment on yields?**"
      ],
      "metadata": {
        "id": "M5AjHDZD7eqR"
      }
    },
    {
      "cell_type": "code",
      "source": [
        "%%R\n",
        "#------------------------- Your Code Here------------------------------------#\n",
        "by(df_tr2011$lny, df_tr2011$irr, summary)"
      ],
      "metadata": {
        "id": "tyvubhUOqRW2",
        "colab": {
          "base_uri": "https://localhost:8080/"
        },
        "outputId": "c049196a-44d0-4ab3-9e67-c6d4c687d345"
      },
      "execution_count": 44,
      "outputs": [
        {
          "output_type": "stream",
          "name": "stdout",
          "text": [
            "df_tr2011$irr: 0\n",
            "   Min. 1st Qu.  Median    Mean 3rd Qu.    Max. \n",
            "  0.000   8.565   8.827   8.492   8.940   9.446 \n",
            "------------------------------------------------------------ \n",
            "df_tr2011$irr: 1\n",
            "   Min. 1st Qu.  Median    Mean 3rd Qu.    Max. \n",
            "  0.000   8.506   8.833   8.478   9.004  11.043 \n"
          ]
        }
      ]
    },
    {
      "cell_type": "markdown",
      "source": [
        "From this table, the avearge (mean and median) log yields before anda after treatment are very similar. This might mean that on average irrigation did not lead to a large change in yield across households. However, the maxium and upper quartile yields are higher after irrigation. This might mean certain households benefited substantially from the treatment."
      ],
      "metadata": {
        "id": "4qGMdK997zoi"
      }
    },
    {
      "cell_type": "markdown",
      "source": [
        "# **Q12: Run a `t.test` to compare the mean yield by households before and after the irrigation treatment. What does the test indicate? Is this estimate the intention to treat effect, the effect of treatment on the treated, or the average treatment effect? Explain.**"
      ],
      "metadata": {
        "id": "wFwN-G4D71ws"
      }
    },
    {
      "cell_type": "code",
      "source": [
        "%%R\n",
        "#------------------------- Your Code Here------------------------------------#\n",
        "t.test(df_tr2011$lny[df_tr2011$irr == 0],\n",
        "       df_tr2011$lny[df_tr2011$irr == 1],\n",
        "       paired = TRUE)"
      ],
      "metadata": {
        "id": "ZHSQe0NYqVuo",
        "colab": {
          "base_uri": "https://localhost:8080/"
        },
        "outputId": "da498be0-1887-4e72-c93c-b21bbd1c5609"
      },
      "execution_count": 45,
      "outputs": [
        {
          "output_type": "stream",
          "name": "stdout",
          "text": [
            "\n",
            "\tPaired t-test\n",
            "\n",
            "data:  df_tr2011$lny[df_tr2011$irr == 0] and df_tr2011$lny[df_tr2011$irr == 1]\n",
            "t = 0.071685, df = 107, p-value = 0.943\n",
            "alternative hypothesis: true mean difference is not equal to 0\n",
            "95 percent confidence interval:\n",
            " -0.3713403  0.3992041\n",
            "sample estimates:\n",
            "mean difference \n",
            "     0.01393192 \n",
            "\n"
          ]
        }
      ]
    },
    {
      "cell_type": "markdown",
      "source": [
        "Based on the p-value of 0.943 there was no statistically significant difference between mean yields before and after irrigation. This might suggest that on average irrigation did not lead to a measurable change in household yields before and after irrigation. This estimate is the effect of treatment on treated because the comparison is only investigated houses that were treated and does not compare to an untreated set of households."
      ],
      "metadata": {
        "id": "oAfHS3_gqY9C"
      }
    },
    {
      "cell_type": "markdown",
      "source": [
        "# **Q13: Run a regression that includes only the irrigation treatment variable and the log of crop yield as the outcome. What is the result? What is the marginal effect of having irrigation on crop yield? Is this the impact of the irrigation treatment?**"
      ],
      "metadata": {
        "id": "bmm_yCgg8EtX"
      }
    },
    {
      "cell_type": "code",
      "source": [
        "%%R\n",
        "#------------------------- Your Code Here------------------------------------#\n",
        "regress_irr_crop <- lm(lny ~ irr, data = df)\n",
        "summary(regress_irr_crop)"
      ],
      "metadata": {
        "id": "TVv9NWEWqiL2",
        "colab": {
          "base_uri": "https://localhost:8080/"
        },
        "outputId": "305f0ffc-07b0-403a-8670-dd28e1731190"
      },
      "execution_count": 46,
      "outputs": [
        {
          "output_type": "stream",
          "name": "stdout",
          "text": [
            "\n",
            "Call:\n",
            "lm(formula = lny ~ irr, data = df)\n",
            "\n",
            "Residuals:\n",
            "    Min      1Q  Median      3Q     Max \n",
            "-8.4182 -0.1372  0.1519  0.4376  3.1592 \n",
            "\n",
            "Coefficients:\n",
            "            Estimate Std. Error t value Pr(>|t|)    \n",
            "(Intercept)  8.23728    0.03940 209.058  < 2e-16 ***\n",
            "irr          0.18091    0.05968   3.032  0.00249 ** \n",
            "---\n",
            "Signif. codes:  0 ‘***’ 0.001 ‘**’ 0.01 ‘*’ 0.05 ‘.’ 0.1 ‘ ’ 1\n",
            "\n",
            "Residual standard error: 1.009 on 1161 degrees of freedom\n",
            "Multiple R-squared:  0.007854,\tAdjusted R-squared:  0.006999 \n",
            "F-statistic:  9.19 on 1 and 1161 DF,  p-value: 0.002487\n",
            "\n"
          ]
        }
      ]
    },
    {
      "cell_type": "markdown",
      "source": [
        "The positive y-intercept and p-value of 0.00249 show that irrigated plots have higher yields than non irrigated ones and that the difference is statistically significant. The marginal effect of having irrigation on crop yield is 0.181 or a 18.1% higher yield than non-irrigated plots. The regression did not control for confounding factors so this again is a correlation and doesn't necessarily show causation."
      ],
      "metadata": {
        "id": "Em9V-2ztqWsF"
      }
    },
    {
      "cell_type": "markdown",
      "source": [
        "# **Q14: Now add the standard set of control variables. How do our results change? What does the point estimate tell us? Is the coefficient on irr the unbiased effect of the treatment? What else could it be?**"
      ],
      "metadata": {
        "id": "mgVfXSow8P-b"
      }
    },
    {
      "cell_type": "code",
      "source": [
        "%%R\n",
        "#------------------------- Your Code Here------------------------------------#\n",
        "regress_irr_crop_controls <- lm(lny ~ irr + ageH + genderH + sizehh +\n",
        "                           log1p(aindex) + log1p(lindex) + log1p(tot_acre) +\n",
        "                           log1p(dist) + farm_cat, data = df)\n",
        "summary(regress_irr_crop_controls)"
      ],
      "metadata": {
        "id": "mFyh4-kNqWN3",
        "colab": {
          "base_uri": "https://localhost:8080/",
          "height": 642
        },
        "outputId": "72766e81-03f0-4f67-8566-a18a4f5906b1"
      },
      "execution_count": 47,
      "outputs": [
        {
          "output_type": "stream",
          "name": "stdout",
          "text": [
            "\n",
            "Call:\n",
            "lm(formula = lny ~ irr + ageH + genderH + sizehh + log1p(aindex) + \n",
            "    log1p(lindex) + log1p(tot_acre) + log1p(dist) + farm_cat, \n",
            "    data = df)\n",
            "\n",
            "Residuals:\n",
            "    Min      1Q  Median      3Q     Max \n",
            "-8.5598 -0.1842  0.1333  0.3818  3.0308 \n",
            "\n",
            "Coefficients:\n",
            "                  Estimate Std. Error t value Pr(>|t|)    \n",
            "(Intercept)      8.5784247  0.3309692  25.919  < 2e-16 ***\n",
            "irr              0.0950673  0.0742969   1.280  0.20105    \n",
            "ageH             0.0005203  0.0027498   0.189  0.84998    \n",
            "genderH         -0.0731635  0.2056843  -0.356  0.72215    \n",
            "sizehh           0.0034004  0.0090567   0.375  0.70741    \n",
            "log1p(aindex)    0.0274783  0.0327302   0.840  0.40141    \n",
            "log1p(lindex)    0.1126684  0.0551145   2.044  0.04124 *  \n",
            "log1p(tot_acre) -0.0292252  0.0719263  -0.406  0.68461    \n",
            "log1p(dist)     -0.1208159  0.0417737  -2.892  0.00393 ** \n",
            "farm_catLB       0.5293684  0.4381879   1.208  0.22735    \n",
            "farm_catMD       0.1675724  0.0964976   1.737  0.08283 .  \n",
            "farm_catSM       0.1292321  0.1287427   1.004  0.31576    \n",
            "---\n",
            "Signif. codes:  0 ‘***’ 0.001 ‘**’ 0.01 ‘*’ 0.05 ‘.’ 0.1 ‘ ’ 1\n",
            "\n",
            "Residual standard error: 0.9268 on 839 degrees of freedom\n",
            "  (312 observations deleted due to missingness)\n",
            "Multiple R-squared:  0.03034,\tAdjusted R-squared:  0.01762 \n",
            "F-statistic: 2.386 on 11 and 839 DF,  p-value: 0.006522\n",
            "\n"
          ]
        },
        {
          "output_type": "display_data",
          "data": {
            "text/plain": [
              "In addition: Warning messages:\n",
              "1: In log1p(aindex) : NaNs produced\n",
              "2: In log1p(lindex) : NaNs produced\n"
            ]
          },
          "metadata": {}
        }
      ]
    },
    {
      "cell_type": "markdown",
      "source": [
        "The p-value for irrigation changes from 0.0025 to 0.201 making it no longer statistically significant. This can suggest that part of the irrigation effect in the first model was actually in part due to confounding factors in irrigated and non-irrigated households. The coefficient is not necessarily unbiased because the irrigation might not be randomly assigned or there could be unobservable facotors at play."
      ],
      "metadata": {
        "id": "P1SlakFxqkLk"
      }
    },
    {
      "cell_type": "markdown",
      "source": [
        "# **Research Question**"
      ],
      "metadata": {
        "id": "w7gHRo4fZdpg"
      }
    },
    {
      "cell_type": "markdown",
      "source": [
        "# \t**Q1: What is the central question of your research? Why is this question important in your field of study?**"
      ],
      "metadata": {
        "id": "b_ffJLs6bIue"
      }
    },
    {
      "cell_type": "markdown",
      "source": [
        "The central question of my research is: How do extreme weather events, specifically the rapid transition from prolonged drought to extreme rainfall (“climate whiplash”), affect the abundance of tick populations and the dynamics of tick-borne pathogens across California’s climate gradient?\n",
        "\n",
        "This question is important to my field because it bridges environmental and human health by linking climate extremes to disease ecology. Understanding these dynamics can help fill key gaps in vector-borne disease modeling, improve predictive public health tools, and shift how we conceptualize climate change by focusing on increasing extremes and variability rather than gradual warming."
      ],
      "metadata": {
        "id": "DTEs44L4bGPp"
      }
    },
    {
      "cell_type": "markdown",
      "source": [
        "# **Q2: What is the main outcome you are interested in?  Define the variable that represents this outcome in your study.**"
      ],
      "metadata": {
        "id": "nJ-t1uNIbXf7"
      }
    },
    {
      "cell_type": "markdown",
      "source": [
        "The main outcome of my study is tick abundance, defined as the density of Ixodes ticks actively questing in the environment during the spring and summer seasons. Tick abundance reflects how environmental conditions influence vector population size and potential disease transmission risk. In this study, abundance will be quantified as the number of ticks collected per standardized sampling effort (for example, the number of ticks per 100 meters of drag transect or per person-hour of sampling) at each field site across California’s climate gradient. Both nymphal and adult life stages will be recorded, with Ixodes pacificus nymphal abundance serving as the primary indicator due to its stronger link to human disease risk.\n"
      ],
      "metadata": {
        "id": "4eLVQF48blj6"
      }
    },
    {
      "cell_type": "markdown",
      "source": [
        "# **Q3: What is the treatment or intervention in your study? How do you expect it to impact the outcome of interest?**"
      ],
      "metadata": {
        "id": "D-XgNimablui"
      }
    },
    {
      "cell_type": "markdown",
      "source": [
        "The treatment in my study is climate whiplash, defined as the rapid transition from prolonged drought to extreme rainfall events. This variable captures the increasing climatic variability characteristic of California, where years of extreme drought have recently been followed by intense atmospheric river storms. I expect sites that experience strong climate whiplash to show a rebound in tick abundance because heavy rainfall following drought increases vegetation growth and soil moisture, which in turn create cooler, more humid microclimates that enhance tick survival and questing behavior. These improved microclimatic conditions also promote higher small-mammal host activity, further supporting tick population recovery and persistence across California’s climate gradient"
      ],
      "metadata": {
        "id": "QrxopeCSbs39"
      }
    },
    {
      "cell_type": "markdown",
      "source": [
        "# **Q4: Draw and Discuss a DAG**\n",
        "\n",
        "1. Create a Directed Acyclic Graph (DAG) representing the relationship between your treatment and outcome. Make sure to include possible confounders and intermediate variables.\n",
        "2.\tLabel the components of your DAG, including treatment, outcome, confounders, and any other relevant variables.\n",
        "3.\tIdentify and discuss at least two potential confounders that might affect your ability to identify the causal effect of the treatment on the outcome.\n",
        "\n",
        "You can find more details on creating DAGS in `R` [here](https://evalf20.classes.andrewheiss.com/example/dags/).\n",
        "To get you started here is a  DAG example:\n"
      ],
      "metadata": {
        "id": "bB48bgldbtoh"
      }
    },
    {
      "cell_type": "code",
      "source": [
        "%%R\n",
        "# Define the DAG\n",
        "simple_dag_with_coords_and_labels <- dagify(\n",
        "  y ~ x + a + b,  # Outcome depends on treatment and confounders\n",
        "  x ~ a + b,      # Treatment depends on confounders\n",
        "  exposure = \"x\",\n",
        "  outcome = \"y\",\n",
        "  labels = c(y = \"Outcome\", x = \"Treatment\",\n",
        "             a = \"Confounder 1\", b = \"Confounder 2\"),\n",
        "  coords = list(x = c(x = 1, a = 2, b = 2, y = 3),\n",
        "                y = c(x = 2, a = 1, b = 3, y = 2))\n",
        ")\n",
        "\n",
        "# Plot the DAG\n",
        "ggdag_status(simple_dag_with_coords_and_labels,\n",
        "             use_labels = \"label\", text = FALSE) +\n",
        "  guides(fill = FALSE, color = FALSE) +  # Disable the legend\n",
        "  theme_dag()\n"
      ],
      "metadata": {
        "colab": {
          "base_uri": "https://localhost:8080/",
          "height": 497
        },
        "id": "4baBi0lEJ_Zb",
        "outputId": "3a0e5dc8-a02f-4306-d8b7-d21c07669cea"
      },
      "execution_count": 87,
      "outputs": [
        {
          "output_type": "display_data",
          "data": {
            "image/png": "[encoded data removed]",
            "text/plain": [
              "<IPython.core.display.Image object>"
            ]
          },
          "metadata": {}
        }
      ]
    },
    {
      "cell_type": "code",
      "source": [
        "%%R\n",
        "\n",
        "# colors + labels\n",
        "role_cols <- c(\n",
        "  \"Treatment\"  = \"#F472B6\",\n",
        "  \"Outcome\"    = \"#FB923C\",\n",
        "  \"Confounder\" = \"#34D399\",\n",
        "  \"Mediator\"   = \"#A78BFA\"\n",
        ")\n",
        "\n",
        "lab_map <- c(\n",
        "  Whiplash         = \"Climate whiplash\",\n",
        "  TickAbundance    = \"Tick abundance\",\n",
        "  BaselineClimate  = \"Baseline site climate\",\n",
        "  Year             = \"Year\",\n",
        "  Site             = \"Site / landscape\",\n",
        "  NativePlants     = \"Native plant species\",\n",
        "  Vegetation       = \"Vegetation\",\n",
        "  Microclimate     = \"Microclimate\",\n",
        "  HostAbundance    = \"Host abundance\",\n",
        "  QuestingSurvival = \"Questing & survival\"\n",
        ")\n",
        "\n",
        "role_of <- function(nm){\n",
        "  if (nm %in% \"Whiplash\") return(\"Treatment\")\n",
        "  if (nm %in% \"TickAbundance\") return(\"Outcome\")\n",
        "  if (nm %in% c(\"BaselineClimate\",\"Year\",\"Site\")) return(\"Confounder\")\n",
        "  if (nm %in% c(\"Vegetation\",\"Microclimate\",\"HostAbundance\",\"QuestingSurvival\",\"NativePlants\")) return(\"Mediator\")\n",
        "  return(\"Mediator\")\n",
        "}\n",
        "\n",
        "#  DAG\n",
        "whiplash_dag <- dagify(\n",
        "  TickAbundance ~ Whiplash + Microclimate + HostAbundance + QuestingSurvival + Year,\n",
        "  Vegetation       ~ Whiplash + BaselineClimate + NativePlants + Site,\n",
        "  Microclimate     ~ Whiplash + BaselineClimate + Vegetation + Site,\n",
        "  HostAbundance    ~ Vegetation + NativePlants + BaselineClimate + Site,\n",
        "  QuestingSurvival ~ Microclimate,\n",
        "  Whiplash ~ BaselineClimate + Year + Site,\n",
        "  exposure = \"Whiplash\",\n",
        "  outcome  = \"TickAbundance\",\n",
        "  labels   = lab_map,\n",
        "  # coordinates\n",
        "  coords = list(\n",
        "    x = c(\n",
        "      Site=0, BaselineClimate=0.2, Year=0.4,\n",
        "      Whiplash=4.0,\n",
        "      NativePlants=6.0, Vegetation=7.2,\n",
        "      Microclimate=6.8, QuestingSurvival=7.0,\n",
        "      HostAbundance=8.6,\n",
        "      TickAbundance=11.2\n",
        "    ),\n",
        "    y = c(\n",
        "      Site=5.4, BaselineClimate=3.6, Year=1.2,\n",
        "      Whiplash=3.2,\n",
        "      NativePlants=4.6, Vegetation=5.4,\n",
        "      Microclimate=1.6, QuestingSurvival=0.9,\n",
        "      HostAbundance=4.4,\n",
        "      TickAbundance=3.2\n",
        "    )\n",
        "  )\n",
        ")\n",
        "\n",
        "# build nodes/edges\n",
        "crd <- coordinates(whiplash_dag)\n",
        "nm  <- names(crd$x)\n",
        "nodes <- data.frame(\n",
        "  name  = nm,\n",
        "  x     = as.numeric(crd$x[nm]),\n",
        "  y     = as.numeric(crd$y[nm]),\n",
        "  label = ifelse(nm %in% names(lab_map), lab_map[nm], nm),\n",
        "  role  = vapply(nm, role_of, character(1)),\n",
        "  stringsAsFactors = FALSE\n",
        ")\n",
        "nodes$role <- factor(nodes$role, levels = names(role_cols))\n",
        "\n",
        "eraw <- as.data.frame(dagitty::edges(whiplash_dag)); colnames(eraw) <- c(\"from\",\"to\")\n",
        "edges <- data.frame(\n",
        "  from = eraw$from, to = eraw$to,\n",
        "  x    = nodes$x[match(eraw$from, nodes$name)],\n",
        "  y    = nodes$y[match(eraw$from, nodes$name)],\n",
        "  xend = nodes$x[match(eraw$to,   nodes$name)],\n",
        "  yend = nodes$y[match(eraw$to,   nodes$name)]\n",
        ")\n",
        "\n",
        "# plot\n",
        "p <- ggplot() +\n",
        "  geom_segment(\n",
        "    data = edges,\n",
        "    aes(x = x, y = y, xend = xend, yend = yend),\n",
        "    color = \"grey55\", linewidth = 0.7, alpha = 0.8,\n",
        "    arrow = arrow(length = grid::unit(3, \"mm\"), type = \"closed\")\n",
        "  ) +\n",
        "  geom_point(\n",
        "    data = nodes,\n",
        "    aes(x = x, y = y, fill = role),\n",
        "    shape = 21, size = 5, color = \"white\", stroke = 0.6\n",
        "  ) +\n",
        "  geom_text(\n",
        "    data = nodes,\n",
        "    aes(x = x, y = y, label = label),\n",
        "    vjust = -1.0, size = 2.4\n",
        "  ) +\n",
        "  scale_fill_manual(values = role_cols, name = \"Node role\") +\n",
        "  coord_equal(\n",
        "    xlim = c(-1.2, 12.8),\n",
        "    ylim = c(-1, 8),\n",
        "    expand = FALSE,\n",
        "    clip = \"off\"\n",
        "  ) +\n",
        "  theme_minimal(base_size = 10) +\n",
        "  theme(\n",
        "    panel.grid = element_blank(),\n",
        "    axis.text  = element_blank(),\n",
        "    axis.title = element_blank(),\n",
        "    axis.ticks = element_blank(),\n",
        "    legend.position = \"right\",\n",
        "    legend.title = element_text(size = 9),\n",
        "    legend.text  = element_text(size = 8.5),\n",
        "    plot.margin  = margin(20, 60, 20, 60)\n",
        "  )\n",
        "\n",
        "print(p)\n",
        "\n",
        "#save jpeg\n",
        "ggsave(\"whiplash_DAG.jpeg\", plot = p, width = 10, height = 6, dpi = 300, units = \"in\")"
      ],
      "metadata": {
        "colab": {
          "base_uri": "https://localhost:8080/",
          "height": 497
        },
        "id": "jSaf79xebE3g",
        "outputId": "ad4380b7-07ac-468d-b85f-d363c5374a76"
      },
      "execution_count": 103,
      "outputs": [
        {
          "output_type": "display_data",
          "data": {
            "image/png": "[encoded data removed]",
            "text/plain": [
              "<IPython.core.display.Image object>"
            ]
          },
          "metadata": {}
        }
      ]
    },
    {
      "cell_type": "markdown",
      "source": [
        "# **How to submit assignment 1**\n",
        "\n",
        "Please submit Assignment 1 on Gradescope. Check your email for the invitation to join the GEOG279 course on Gradescope."
      ],
      "metadata": {
        "id": "Z1g5hIGVvOqV"
      }
    },
    {
      "cell_type": "markdown",
      "source": [
        "<table style=\"border: 2px solid #4CAF50; background-color: #f0f9ff; padding: 10px; width: 100%; text-align: center;\">\n",
        "  <tr>\n",
        "    <td><h1><strong>This concludes <span style=\"color: #4CAF50;\">Assignment 1</span>.</strong></td></h1>\n",
        "  </tr>\n",
        "</table>"
      ],
      "metadata": {
        "id": "oW5EsIX4R2ay"
      }
    }
  ]
}