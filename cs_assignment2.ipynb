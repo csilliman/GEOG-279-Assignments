{
  "nbformat": 4,
  "nbformat_minor": 0,
  "metadata": {
    "colab": {
      "provenance": []
    },
    "kernelspec": {
      "name": "ir",
      "display_name": "R"
    },
    "language_info": {
      "name": "R"
    }
  },
  "cells": [
    {
      "cell_type": "markdown",
      "source": [
        "[![Open In Colab](https://colab.research.google.com/assets/colab-badge.svg)](https://colab.research.google.com/drive/1qe7KkR5VX4ByQURT8JEGJZQhRzSr5rdT?usp=sharing)\n"
      ],
      "metadata": {
        "id": "K2HUAtOSB_nk"
      }
    },
    {
      "cell_type": "markdown",
      "source": [
        "<table style=\"border: 1px solid #4CAF50; background-color: #f9f9f9; padding: 10px; width: 100%;\">\n",
        "  <tr>\n",
        "    <td>\n",
        "      <h1 style=\"font-family: 'Times New Roman'; font-size: 24px; background-color: lightgray;\">\n",
        "        <b>GEOG279 - Fall 2025</b>\n",
        "      </h1>\n",
        "      <h1 style=\"font-family: 'Times New Roman'; font-size: 24px; background-color: lightgray;\">\n",
        "        <b>Assignment 2: Advanced Methods in Impact Assessment</b>\n",
        "      </h1>\n",
        "      <h3 style=\"font-family: 'Times New Roman'; font-size: 18px; background-color: lightgray;\">\n",
        "        <b>Instructor</b>: Kathy Baylis\n",
        "      </h3>\n",
        "      <h4 style=\"font-family: 'Times New Roman'; font-size: 16px; background-color: lightgray;\">\n",
        "        <b>Due Date</b>: Tuesday, Oct 28\n",
        "      </h4>\n",
        "    </td>\n",
        "  </tr>\n",
        "</table>"
      ],
      "metadata": {
        "id": "5ArnViPOKayX"
      }
    },
    {
      "cell_type": "markdown",
      "source": [
        "<table style=\"border: 1px solid #4CAF50; background-color: #f9f9f9; padding: 10px; width: 100%;\">\n",
        "  <tr>\n",
        "    <td>\n",
        "      <h3 style=\"font-family: 'Times New Roman'; font-size: 18px;\">\n",
        "        <b>First & Last Name:</b> <span style=\"border-bottom: 1px solid black; padding-left: 100px;\"></span>\n",
        "      </h3>\n",
        "    </td>\n",
        "  </tr>\n",
        "</table>"
      ],
      "metadata": {
        "id": "vQxB8ACuEJ5n"
      }
    },
    {
      "cell_type": "markdown",
      "source": [
        "*Crystal Silliman*"
      ],
      "metadata": {
        "id": "OC_sIoYbEa-d"
      }
    },
    {
      "cell_type": "markdown",
      "source": [
        "<span style=\"font-family: 'Times New Roman'; font-size: 14px;\">\n",
        "<h1><b> Randomized Control Trials (RCT) & Matching : Constructing the Appropriate Counterfactual</h1></span></b>\n",
        "\n",
        "<span style=\"font-family: 'Times New Roman'; font-size: 14px;\"><p>In this assignment, we will analyze the results from a **Randomized Controlled Trial (RCT)** where the <u>counterfactual</u> for the treatment group is a randomly selected control group. Additionally, we will construct control groups using matching techniques and compare the results to those from the RCT. Our data comes from a real-world RCT on the effects of marketing in encouraging households to purchase index insurance. This trial was conducted in collaboration with **ICRISAT**, in India.</span></p>\n",
        "\n",
        "<span style=\"font-family: 'Times New Roman'; font-size: 14px;\">\n",
        "<h2><b>I. Background on the RCT</h2></span></b>\n",
        "\n",
        "<span style=\"font-family: 'Times New Roman'; font-size: 14px;\"><p>The data comes from the study “**[Barriers to Household Risk Management: Evidence from India](https://pubs.aeaweb.org/doi/pdfplus/10.1257/app.5.1.104)**” by Shawn Cole, Xavier Giné, Jeremy Tobacman, Petia Topalova, Robert Townsend, and James Vickery, published in the American Economic Journal: Applied Economics in 2013 (Cole, Giné, Tobacman, Topalova, Townsend, & Vickery, 2013).</span></p>\n",
        "\n",
        "<span style=\"font-family: 'Times New Roman'; font-size: 14px;\"><p>The goal of this RCT was to estimate the **demand curve** for rainfall insurance and determine how demand responds to non-price factors such as trust, liquidity constraints, and framing effects.\n",
        "\n",
        "A **demand curve** is a graphical representation of the relationship between the price of a good or service and the quantity that consumers are willing and able to purchase at different price levels. Typically, it slopes downward, indicating that as the price of a good decreases, the quantity demanded increases, and vice versa.</p></span>\n",
        "\n",
        "<span style=\"font-family: 'Times New Roman'; font-size: 14px;\">\n",
        "  <ul>\n",
        "    <li>A sample of <b>1,047</b> households was randomly selected from census data covering over <b>7,000</b> households in Andhra Pradesh.</li>\n",
        "    <li>From this, <b>700</b> households were assigned to receive <b>treatment</b> (information about weather insurance).</li>\n",
        "    <li>Due to difficulties in locating <b>40</b> households, <u><b>660</b></u> were actually in the treatment group.</li>\n",
        "    <li>The outcome of interest is whether or not households purchased insurance.</li>\n",
        "  </ul>\n",
        "</span>\n",
        "\n",
        "<br>\n",
        "\n",
        "<span style=\"font-family: 'Times New Roman'; font-size: 14px;\"><p><b>Citation</b>: Cole, Shawn, Xavier Giné, Jeremy Tobacman, Petia Topalova, Robert Townsend, and James Vickery. 2013. \"Barriers to Household Risk Management: Evidence from India.\" American Economic Journal: Applied Economics, 5 (1): 104–35. DOI: 10.1257/app.5.1.104 </span>\n",
        "\n"
      ],
      "metadata": {
        "id": "nlhuVAc4Ch54"
      }
    },
    {
      "cell_type": "markdown",
      "source": [
        "\n",
        "\n",
        "---\n",
        "\n"
      ],
      "metadata": {
        "id": "8Q1xNSbHLf_I"
      }
    },
    {
      "cell_type": "markdown",
      "source": [
        "<span style=\"font-family: 'Times New Roman'; font-size: 14px;\">\n",
        "<h2><b> II. Experimental Design and Sample Design </h2></b> </span>\n",
        "\n",
        "<span style=\"font-family: 'Times New Roman'; font-size: 14px;\"><p>In this section, we explore key questions related to the design of the RCT and its implications on the validity of the results. The discussion focuses on both the **experimental design** and **sample design** aspects of the study, allowing us to critically assess the robustness of the findings and potential limitations.</p></span>"
      ],
      "metadata": {
        "id": "hWB5WtEkLflw"
      }
    },
    {
      "cell_type": "markdown",
      "source": [
        "<span style=\"font-family: 'Times New Roman'; font-size: 14px;\">\n",
        "<h3><b> A. Experimental Design </h3></b> </span>\n"
      ],
      "metadata": {
        "id": "Vx8TtAg1Pumq"
      }
    },
    {
      "cell_type": "markdown",
      "source": [
        "**1. What are your thoughts on the design of this RCT?**\n",
        "\n",
        "\n",
        "\n"
      ],
      "metadata": {
        "id": "vUjTY-ByPxKv"
      }
    },
    {
      "cell_type": "markdown",
      "source": [
        "I think a strength of the design is that the households were randomly assigned to treatment and control groups, so they should be comparable without any major confounders that could bias the results. However, since the sample only included households from Andhra Pradesh, it’s hard to make broader conclusions about all of India, where conditions might be very different.\n"
      ],
      "metadata": {
        "id": "yJp79zqUQNIG"
      }
    },
    {
      "cell_type": "markdown",
      "source": [
        "**2. How does the treatment inform the research question? Are there any limitations?**"
      ],
      "metadata": {
        "id": "jFwI5szLQDqe"
      }
    },
    {
      "cell_type": "markdown",
      "source": [
        "The treatment provided information about rainfall insurance (while the control did not) to allow reserachers to see whether a lack of awareness was limiting insurance demand."
      ],
      "metadata": {
        "id": "RmWlBA3aQN55"
      }
    },
    {
      "cell_type": "markdown",
      "source": [
        "<span style=\"font-family: 'Times New Roman'; font-size: 14px;\">\n",
        "<h3><b> B. Sample Design </h3></b> </span>"
      ],
      "metadata": {
        "id": "xJAEuaziQbm2"
      }
    },
    {
      "cell_type": "markdown",
      "source": [
        "**3. Are those in the treatment group representative? Of what population?**"
      ],
      "metadata": {
        "id": "8IUyLXfpQf_k"
      }
    },
    {
      "cell_type": "markdown",
      "source": [
        "Those in the treatment group are representative random households of Andhra Pradesh, so they should be representative of the average household in that region."
      ],
      "metadata": {
        "id": "QiEeGHg0QhCs"
      }
    },
    {
      "cell_type": "markdown",
      "source": [
        "**4. Should we be concerned about the 40 missing households?**"
      ],
      "metadata": {
        "id": "4CD65JeHQhYJ"
      }
    },
    {
      "cell_type": "markdown",
      "source": [
        "I think we could be concerned about the 40 missing households, depending on why it was hard to locate those houses. If it was hard to locate due to geogrpahic factors then maybe they would have been representative of a population that experience different rainfall patterns. This could bias the results slightly."
      ],
      "metadata": {
        "id": "p5afwZr0Qh7l"
      }
    },
    {
      "cell_type": "markdown",
      "source": [
        "<span style=\"font-family: 'Times New Roman'; font-size: 14px;\">\n",
        "  <h2><b> III. Treatment Randomization and Interventions</b></h2>\n",
        "</span>\n",
        "\n",
        "<p>In addition to households being randomly assigned to treatment, the content of the treatment itself was randomized as well. The study implemented three different types of treatment interventions:</p>\n",
        "\n",
        "<ol>\n",
        "  <li><b>Endorsement by Local Agents:</b> Villages were randomly assigned to receive an endorsement from the local BASIX LSA, a microfinance institution. Two-thirds of the villages were endorsement-eligible, and within these villages, half of the visits included an endorsement. The goal of this treatment was to measure how trust in the local agent influenced demand for the insurance product.</li>\n",
        "\n",
        "  <li><b>Cash Compensation:</b> Households were randomly offered compensation ranging between ₹25 and ₹100 for their time. This treatment was designed to assess how liquidity constraints impacted the demand for insurance. <b>Note</b>: The symbol ₹ refers to Indian Rupees (INR).</li>\n",
        "\n",
        "  <li><b>Insurance Education:</b> Households were provided with additional insurance education to measure the impact of knowledge on the likelihood of purchasing insurance. This treatment tested whether increased awareness and understanding of insurance influenced demand.</li>\n",
        "</ol>\n",
        "\n",
        "<p>For more detailed information on the experimental design, refer to the paper by Cole et al.</p>\n"
      ],
      "metadata": {
        "id": "vr9yenQrQifM"
      }
    },
    {
      "cell_type": "markdown",
      "source": [
        "<span style=\"font-family: 'Times New Roman'; font-size: 14px;\">\n",
        "  <h2><b>IV. Objectives for this Assignment</b></h2>\n",
        "</span>\n",
        "\n",
        "<p>This assignment has two key objectives related to analyzing the data from the RCT:</p>\n",
        "\n",
        "\n",
        "  <li><b>Analyze RCT Data:</b>\n",
        "    First, conduct a balance check to determine whether the sample was balanced between the treatment and control groups. Then, measure the Average Treatment Effect (ATE) to quantify the impact of the intervention.\n",
        "  </li>\n",
        "\n",
        "  <li><b>Construct Control Groups Using Matching Techniques:</b>\n",
        "    Apply matching techniques in R, such as propensity score matching or nearest-neighbor matching, to construct alternative control groups. Compare the results from these matched control groups with those from the randomized control group.\n",
        "  </li>\n",
        "</ol>\n"
      ],
      "metadata": {
        "id": "77TANDu-QfyU"
      }
    },
    {
      "cell_type": "markdown",
      "source": [
        "<span style=\"font-family: 'Times New Roman'; font-size: 14px;\">\n",
        "  <h2><b>Getting Started</b></h2>\n",
        "</span>\n",
        "\n",
        "<p><b>Before Getting Started: Change Runtime to R</b></p>\n",
        "\n",
        "<p>Before proceeding with the assignment, you need to ensure that the runtime environment is set to R. Follow these steps:</p>\n",
        "\n",
        "<ol>\n",
        "  <li>Click on the <b>“Runtime”</b> tab in the menu at the top of the notebook.</li>\n",
        "  <li>Select <b>“Change runtime type”</b> from the dropdown.</li>\n",
        "  <li>In the <b>“Runtime type”</b> dialog box, select <b>“R”</b> from the “Runtime type” dropdown menu.</li>\n",
        "  <li>Click <b>“Save”</b> to apply the changes.</li>\n",
        "</ol>\n",
        "\n",
        "<p>Once you’ve changed the runtime to R, you can proceed with the assignment.</p>\n",
        "\n",
        "<p><b>Important:</b> Make sure to save your script as <code> your_initials_assignment2.ipynb</code> to ensure consistent naming for the autograder in Gradescope. Please, only use the cells where it says <b>Your code here</b> or <b>Your answer here</b> to include your code and responses.</p>\n",
        "\n"
      ],
      "metadata": {
        "id": "L-D8c6FNPnMz"
      }
    },
    {
      "cell_type": "markdown",
      "source": [
        "## **Loading libraries**"
      ],
      "metadata": {
        "id": "f4ulU5DStae6"
      }
    },
    {
      "cell_type": "code",
      "source": [],
      "metadata": {
        "id": "v9gKcBvwqYYY"
      },
      "execution_count": null,
      "outputs": []
    },
    {
      "cell_type": "code",
      "execution_count": null,
      "metadata": {
        "id": "xrPiGhQeqY8f"
      },
      "outputs": [],
      "source": [
        "# Installing required libraries\n",
        "suppressMessages({\n",
        "  suppressWarnings({\n",
        "    install.packages(\"haven\", quiet = TRUE)\n",
        "    install.packages(\"tidyverse\", quiet = TRUE)\n",
        "    install.packages(\"MatchIt\", quiet = TRUE)\n",
        "    install.packages(\"optmatch\", quiet = TRUE)\n",
        "    install.packages(\"rgenoud\", quiet = TRUE)\n",
        "    install.packages(\"Matching\", quiet = TRUE)\n",
        "    install.packages(\"readstata13\", quiet = TRUE)\n",
        "  })\n",
        "})\n"
      ]
    },
    {
      "cell_type": "code",
      "execution_count": null,
      "metadata": {
        "id": "seOWPMltA623",
        "colab": {
          "base_uri": "https://localhost:8080/"
        },
        "outputId": "07af6be7-c75c-4b5f-d17e-52f43db851c9"
      },
      "outputs": [
        {
          "output_type": "stream",
          "name": "stderr",
          "text": [
            "##  rgenoud (Version 5.9-0.11, Build Date: 2024-10-03)\n",
            "##  See http://sekhon.berkeley.edu/rgenoud for additional documentation.\n",
            "##  Please cite software as:\n",
            "##   Walter Mebane, Jr. and Jasjeet S. Sekhon. 2011.\n",
            "##   ``Genetic Optimization Using Derivatives: The rgenoud package for R.''\n",
            "##   Journal of Statistical Software, 42(11): 1-26. \n",
            "##\n",
            "\n",
            "\n",
            "Loading required package: MASS\n",
            "\n",
            "\n",
            "Attaching package: ‘MASS’\n",
            "\n",
            "\n",
            "The following object is masked from ‘package:dplyr’:\n",
            "\n",
            "    select\n",
            "\n",
            "\n",
            "## \n",
            "##  Matching (Version 4.10-15, Build Date: 2024-10-14)\n",
            "##  See https://www.jsekhon.com for additional documentation.\n",
            "##  Please cite software as:\n",
            "##   Jasjeet S. Sekhon. 2011. ``Multivariate and Propensity Score Matching\n",
            "##   Software with Automated Balance Optimization: The Matching package for R.''\n",
            "##   Journal of Statistical Software, 42(7): 1-52. \n",
            "##\n",
            "\n",
            "\n"
          ]
        }
      ],
      "source": [
        "\n",
        "# Loading libraries\n",
        "library(haven)      # For data importing (read and write Stata, SPSS, SAS)\n",
        "library(tidyverse)  # Data manipulation and visualization\n",
        "library(MatchIt)    # Matching for observational studies\n",
        "library(optmatch)   # Optimal matching\n",
        "library(rgenoud)    # Genetic optimization for matching\n",
        "library(Matching)   # Matching package\n",
        "library(readstata13)# For reading Stata .dta files (version 13+)"
      ]
    },
    {
      "cell_type": "markdown",
      "source": [
        "## **Loading the data**\n",
        "\n",
        "Now that you’ve gained experience with power calculations, it’s time to dive into the analysis of the RCT data using `R`. Start by loading the dataset `Index_Insurance_data.dta`. The key variable that identifies whether a household was in the treatment group or the control group is `d_visit`. This variable will be crucial for your analysis as it distinguishes between households that received the treatment and those that did not.\n"
      ],
      "metadata": {
        "id": "Kl4O2nEktlFU"
      }
    },
    {
      "cell_type": "code",
      "source": [
        "# Read the .dta file directly from GitHub's raw URL\n",
        "url <- \"https://raw.githubusercontent.com/GEOG279-Advanced-Spatial-Statistics/GEOG279-Course/main/assignment_2/data/Index_Insurance_Data.dta\"\n",
        "\n",
        "df <- read_dta(url)\n",
        "\n",
        "# View the first few rows of the data\n",
        "head(df)"
      ],
      "metadata": {
        "colab": {
          "base_uri": "https://localhost:8080/",
          "height": 306
        },
        "id": "vCzOgI-mtkVB",
        "outputId": "2d66be0f-b16d-4a62-c388-c036cf85aacf"
      },
      "execution_count": null,
      "outputs": [
        {
          "output_type": "display_data",
          "data": {
            "text/html": [
              "<table class=\"dataframe\">\n",
              "<caption>A tibble: 6 × 26</caption>\n",
              "<thead>\n",
              "\t<tr><th scope=col>vid1</th><th scope=col>hhid</th><th scope=col>ins_lev</th><th scope=col>d_visit</th><th scope=col>endors_LSA</th><th scope=col>ins_edu</th><th scope=col>d_highreward</th><th scope=col>endors_visit</th><th scope=col>riskav1_jul06i</th><th scope=col>norm_exp_rainMay06</th><th scope=col>⋯</th><th scope=col>lage_headi</th><th scope=col>sexheadi</th><th scope=col>d_highedu</th><th scope=col>lhhsizei</th><th scope=col>sched_ct</th><th scope=col>muslim</th><th scope=col>buy_ins04i</th><th scope=col>ins_otheri</th><th scope=col>DK_basixi</th><th scope=col>bua_newi</th></tr>\n",
              "\t<tr><th scope=col>&lt;dbl&gt;</th><th scope=col>&lt;dbl&gt;</th><th scope=col>&lt;dbl&gt;</th><th scope=col>&lt;dbl&gt;</th><th scope=col>&lt;dbl+lbl&gt;</th><th scope=col>&lt;dbl+lbl&gt;</th><th scope=col>&lt;dbl&gt;</th><th scope=col>&lt;dbl&gt;</th><th scope=col>&lt;dbl&gt;</th><th scope=col>&lt;dbl&gt;</th><th scope=col>⋯</th><th scope=col>&lt;dbl&gt;</th><th scope=col>&lt;dbl&gt;</th><th scope=col>&lt;dbl&gt;</th><th scope=col>&lt;dbl&gt;</th><th scope=col>&lt;dbl&gt;</th><th scope=col>&lt;dbl&gt;</th><th scope=col>&lt;dbl&gt;</th><th scope=col>&lt;dbl&gt;</th><th scope=col>&lt;dbl&gt;</th><th scope=col>&lt;dbl&gt;</th></tr>\n",
              "</thead>\n",
              "<tbody>\n",
              "\t<tr><td>10401</td><td>1040119</td><td>0</td><td>0</td><td>0</td><td>0</td><td>0</td><td>0</td><td>0.6000000</td><td>-0.7515903</td><td>⋯</td><td>4.110874</td><td>1</td><td>0</td><td>1.791759</td><td>0</td><td>0</td><td>0</td><td>1</td><td>1</td><td>0</td></tr>\n",
              "\t<tr><td>20503</td><td>2050320</td><td>0</td><td>0</td><td>0</td><td>0</td><td>0</td><td>0</td><td>0.0000000</td><td>-0.7515903</td><td>⋯</td><td>4.262680</td><td>1</td><td>0</td><td>2.302585</td><td>0</td><td>0</td><td>0</td><td>1</td><td>0</td><td>0</td></tr>\n",
              "\t<tr><td>10305</td><td>1030510</td><td>0</td><td>0</td><td>0</td><td>0</td><td>0</td><td>0</td><td>0.6056193</td><td> 0.4608039</td><td>⋯</td><td>3.433987</td><td>1</td><td>1</td><td>1.609438</td><td>0</td><td>0</td><td>0</td><td>0</td><td>0</td><td>0</td></tr>\n",
              "\t<tr><td>10501</td><td>1050103</td><td>0</td><td>0</td><td>0</td><td>0</td><td>0</td><td>0</td><td>0.6000000</td><td>-0.7515903</td><td>⋯</td><td>3.044523</td><td>1</td><td>1</td><td>1.945910</td><td>0</td><td>0</td><td>1</td><td>1</td><td>0</td><td>0</td></tr>\n",
              "\t<tr><td>10501</td><td>1050101</td><td>0</td><td>0</td><td>0</td><td>0</td><td>0</td><td>0</td><td>0.5000000</td><td>-0.7515903</td><td>⋯</td><td>3.806663</td><td>1</td><td>0</td><td>1.945910</td><td>0</td><td>0</td><td>1</td><td>1</td><td>0</td><td>0</td></tr>\n",
              "\t<tr><td>10405</td><td>1040518</td><td>0</td><td>0</td><td>0</td><td>0</td><td>0</td><td>0</td><td>0.3300000</td><td>-0.7515903</td><td>⋯</td><td>4.234107</td><td>1</td><td>0</td><td>2.197225</td><td>1</td><td>0</td><td>0</td><td>1</td><td>1</td><td>0</td></tr>\n",
              "</tbody>\n",
              "</table>\n"
            ],
            "text/markdown": "\nA tibble: 6 × 26\n\n| vid1 &lt;dbl&gt; | hhid &lt;dbl&gt; | ins_lev &lt;dbl&gt; | d_visit &lt;dbl&gt; | endors_LSA &lt;dbl+lbl&gt; | ins_edu &lt;dbl+lbl&gt; | d_highreward &lt;dbl&gt; | endors_visit &lt;dbl&gt; | riskav1_jul06i &lt;dbl&gt; | norm_exp_rainMay06 &lt;dbl&gt; | ⋯ ⋯ | lage_headi &lt;dbl&gt; | sexheadi &lt;dbl&gt; | d_highedu &lt;dbl&gt; | lhhsizei &lt;dbl&gt; | sched_ct &lt;dbl&gt; | muslim &lt;dbl&gt; | buy_ins04i &lt;dbl&gt; | ins_otheri &lt;dbl&gt; | DK_basixi &lt;dbl&gt; | bua_newi &lt;dbl&gt; |\n|---|---|---|---|---|---|---|---|---|---|---|---|---|---|---|---|---|---|---|---|---|\n| 10401 | 1040119 | 0 | 0 | 0 | 0 | 0 | 0 | 0.6000000 | -0.7515903 | ⋯ | 4.110874 | 1 | 0 | 1.791759 | 0 | 0 | 0 | 1 | 1 | 0 |\n| 20503 | 2050320 | 0 | 0 | 0 | 0 | 0 | 0 | 0.0000000 | -0.7515903 | ⋯ | 4.262680 | 1 | 0 | 2.302585 | 0 | 0 | 0 | 1 | 0 | 0 |\n| 10305 | 1030510 | 0 | 0 | 0 | 0 | 0 | 0 | 0.6056193 |  0.4608039 | ⋯ | 3.433987 | 1 | 1 | 1.609438 | 0 | 0 | 0 | 0 | 0 | 0 |\n| 10501 | 1050103 | 0 | 0 | 0 | 0 | 0 | 0 | 0.6000000 | -0.7515903 | ⋯ | 3.044523 | 1 | 1 | 1.945910 | 0 | 0 | 1 | 1 | 0 | 0 |\n| 10501 | 1050101 | 0 | 0 | 0 | 0 | 0 | 0 | 0.5000000 | -0.7515903 | ⋯ | 3.806663 | 1 | 0 | 1.945910 | 0 | 0 | 1 | 1 | 0 | 0 |\n| 10405 | 1040518 | 0 | 0 | 0 | 0 | 0 | 0 | 0.3300000 | -0.7515903 | ⋯ | 4.234107 | 1 | 0 | 2.197225 | 1 | 0 | 0 | 1 | 1 | 0 |\n\n",
            "text/latex": "A tibble: 6 × 26\n\\begin{tabular}{lllllllllllllllllllll}\n vid1 & hhid & ins\\_lev & d\\_visit & endors\\_LSA & ins\\_edu & d\\_highreward & endors\\_visit & riskav1\\_jul06i & norm\\_exp\\_rainMay06 & ⋯ & lage\\_headi & sexheadi & d\\_highedu & lhhsizei & sched\\_ct & muslim & buy\\_ins04i & ins\\_otheri & DK\\_basixi & bua\\_newi\\\\\n <dbl> & <dbl> & <dbl> & <dbl> & <dbl+lbl> & <dbl+lbl> & <dbl> & <dbl> & <dbl> & <dbl> & ⋯ & <dbl> & <dbl> & <dbl> & <dbl> & <dbl> & <dbl> & <dbl> & <dbl> & <dbl> & <dbl>\\\\\n\\hline\n\t 10401 & 1040119 & 0 & 0 & 0 & 0 & 0 & 0 & 0.6000000 & -0.7515903 & ⋯ & 4.110874 & 1 & 0 & 1.791759 & 0 & 0 & 0 & 1 & 1 & 0\\\\\n\t 20503 & 2050320 & 0 & 0 & 0 & 0 & 0 & 0 & 0.0000000 & -0.7515903 & ⋯ & 4.262680 & 1 & 0 & 2.302585 & 0 & 0 & 0 & 1 & 0 & 0\\\\\n\t 10305 & 1030510 & 0 & 0 & 0 & 0 & 0 & 0 & 0.6056193 &  0.4608039 & ⋯ & 3.433987 & 1 & 1 & 1.609438 & 0 & 0 & 0 & 0 & 0 & 0\\\\\n\t 10501 & 1050103 & 0 & 0 & 0 & 0 & 0 & 0 & 0.6000000 & -0.7515903 & ⋯ & 3.044523 & 1 & 1 & 1.945910 & 0 & 0 & 1 & 1 & 0 & 0\\\\\n\t 10501 & 1050101 & 0 & 0 & 0 & 0 & 0 & 0 & 0.5000000 & -0.7515903 & ⋯ & 3.806663 & 1 & 0 & 1.945910 & 0 & 0 & 1 & 1 & 0 & 0\\\\\n\t 10405 & 1040518 & 0 & 0 & 0 & 0 & 0 & 0 & 0.3300000 & -0.7515903 & ⋯ & 4.234107 & 1 & 0 & 2.197225 & 1 & 0 & 0 & 1 & 1 & 0\\\\\n\\end{tabular}\n",
            "text/plain": [
              "  vid1  hhid    ins_lev d_visit endors_LSA ins_edu d_highreward endors_visit\n",
              "1 10401 1040119 0       0       0          0       0            0           \n",
              "2 20503 2050320 0       0       0          0       0            0           \n",
              "3 10305 1030510 0       0       0          0       0            0           \n",
              "4 10501 1050103 0       0       0          0       0            0           \n",
              "5 10501 1050101 0       0       0          0       0            0           \n",
              "6 10405 1040518 0       0       0          0       0            0           \n",
              "  riskav1_jul06i norm_exp_rainMay06 ⋯ lage_headi sexheadi d_highedu lhhsizei\n",
              "1 0.6000000      -0.7515903         ⋯ 4.110874   1        0         1.791759\n",
              "2 0.0000000      -0.7515903         ⋯ 4.262680   1        0         2.302585\n",
              "3 0.6056193       0.4608039         ⋯ 3.433987   1        1         1.609438\n",
              "4 0.6000000      -0.7515903         ⋯ 3.044523   1        1         1.945910\n",
              "5 0.5000000      -0.7515903         ⋯ 3.806663   1        0         1.945910\n",
              "6 0.3300000      -0.7515903         ⋯ 4.234107   1        0         2.197225\n",
              "  sched_ct muslim buy_ins04i ins_otheri DK_basixi bua_newi\n",
              "1 0        0      0          1          1         0       \n",
              "2 0        0      0          1          0         0       \n",
              "3 0        0      0          0          0         0       \n",
              "4 0        0      1          1          0         0       \n",
              "5 0        0      1          1          0         0       \n",
              "6 1        0      0          1          1         0       "
            ]
          },
          "metadata": {}
        }
      ]
    },
    {
      "cell_type": "markdown",
      "source": [
        "## **Randomization Check**\n",
        "\n",
        "In this step, we will assess whether the randomization process was successful by comparing key baseline characteristics between the treatment and control groups. Specifically, we will perform a `t-test` to compare the means of two variables: `wealth_indexi `(household wealth) and `sexheadi` (gender of the household head). The variable `d_visit` will be used as the treatment indicator, where households that received the treatment are compared with those in the control group. If the randomization was successful, we expect no significant differences in the means of these variables between the two groups, indicating that they are comparable at baseline."
      ],
      "metadata": {
        "id": "kQ88SRbDzS2A"
      }
    },
    {
      "cell_type": "markdown",
      "source": [
        "**5. Check whether the randomization was successful. Perform a `t-test` to compare the means of `wealth_indexi` and `sexheadi` between the treatment and control groups, using the `d_visit` variable as the treatment indicator.**\n"
      ],
      "metadata": {
        "id": "LCErSp1Otsra"
      }
    },
    {
      "cell_type": "code",
      "source": [
        "#------------------------Your Code Here----------------------------------------\n",
        "\n",
        "t.test(wealth_indexi ~ d_visit, data = df)\n",
        "t.test(sexheadi ~ d_visit, data = df)"
      ],
      "metadata": {
        "id": "gxZr2kWAtsI4",
        "colab": {
          "base_uri": "https://localhost:8080/",
          "height": 446
        },
        "outputId": "04b27e90-71f7-414a-ed10-a8bb7d0ad6bb"
      },
      "execution_count": null,
      "outputs": [
        {
          "output_type": "display_data",
          "data": {
            "text/plain": [
              "\n",
              "\tWelch Two Sample t-test\n",
              "\n",
              "data:  wealth_indexi by d_visit\n",
              "t = -0.1322, df = 712.5, p-value = 0.8949\n",
              "alternative hypothesis: true difference in means between group 0 and group 1 is not equal to 0\n",
              "95 percent confidence interval:\n",
              " -0.1970268  0.1721676\n",
              "sample estimates:\n",
              "mean in group 0 mean in group 1 \n",
              "   -0.006093498     0.006336105 \n"
            ]
          },
          "metadata": {}
        },
        {
          "output_type": "display_data",
          "data": {
            "text/plain": [
              "\n",
              "\tWelch Two Sample t-test\n",
              "\n",
              "data:  sexheadi by d_visit\n",
              "t = 0.066076, df = 694.02, p-value = 0.9473\n",
              "alternative hypothesis: true difference in means between group 0 and group 1 is not equal to 0\n",
              "95 percent confidence interval:\n",
              " -0.02979066  0.03186565\n",
              "sample estimates:\n",
              "mean in group 0 mean in group 1 \n",
              "      0.9381797       0.9371422 \n"
            ]
          },
          "metadata": {}
        }
      ]
    },
    {
      "cell_type": "markdown",
      "source": [
        "**6. Based on the `t-test` results, do you believe the control group (those who did not receive the treatment) is an appropriate comparison group for the treatment group?**\n"
      ],
      "metadata": {
        "id": "qi21Y42wtr8w"
      }
    },
    {
      "cell_type": "markdown",
      "source": [
        "Since both p-values are greater than 0.05 there is not statistically significant difference between the treatment and control groups therefore the control group does appear to be an appropriate comparison group.\n",
        "\n"
      ],
      "metadata": {
        "id": "d9WCqb3gubJh"
      }
    },
    {
      "cell_type": "markdown",
      "source": [
        "**7. Conduct a `t-test` to compare the mean number of insurance purchases between households that received a visit (treatment group) and those that did not (control group).**\n"
      ],
      "metadata": {
        "id": "BeWVudxKud89"
      }
    },
    {
      "cell_type": "code",
      "source": [
        "#------------------------Your Code Here----------------------------------------\n",
        "t.test(ins_lev ~ d_visit, data = df)"
      ],
      "metadata": {
        "id": "gjxJ6UOTum1z",
        "colab": {
          "base_uri": "https://localhost:8080/",
          "height": 231
        },
        "outputId": "1184475a-74e1-48eb-f76f-529f77b8c22d"
      },
      "execution_count": null,
      "outputs": [
        {
          "output_type": "display_data",
          "data": {
            "text/plain": [
              "\n",
              "\tWelch Two Sample t-test\n",
              "\n",
              "data:  ins_lev by d_visit\n",
              "t = -16.916, df = 1011.6, p-value < 2.2e-16\n",
              "alternative hypothesis: true difference in means between group 0 and group 1 is not equal to 0\n",
              "95 percent confidence interval:\n",
              " -0.4029704 -0.3191951\n",
              "sample estimates:\n",
              "mean in group 0 mean in group 1 \n",
              "     0.04034582      0.40142857 \n"
            ]
          },
          "metadata": {}
        }
      ]
    },
    {
      "cell_type": "markdown",
      "source": [
        "**8. What do the results of the t-test suggest? Is this estimate representing the intention-to-treat effect (ITT), the effect of the treatment on the treated (TOT), or the average treatment effect (ATE)? Explain your reasoning.**\n",
        "\n",
        "**Recall:**\n",
        "<table style=\"width:100%; border: 1px solid #000; background-color: #f0f0f0; padding: 10px;\">\n",
        "  <tr>\n",
        "    <th style=\"text-align: left;\">Term</th>\n",
        "    <th style=\"text-align: left;\">Definition</th>\n",
        "  </tr>\n",
        "  <tr>\n",
        "    <td><b>Intention-to-Treat Effect (ITT)</b></td>\n",
        "    <td>Measures the effect of being assigned to the treatment, regardless of whether the treatment was actually received.</td>\n",
        "  </tr>\n",
        "  <tr>\n",
        "    <td><b>Effect of the Treatment on the Treated (TOT)</b></td>\n",
        "    <td>Measures the effect on those who actually received the treatment.</td>\n",
        "  </tr>\n",
        "  <tr>\n",
        "    <td><b>Average Treatment Effect (ATE)</b></td>\n",
        "    <td>Measures the overall effect of the treatment across the entire population, comparing what would happen if everyone were treated versus no one being treated.</td>\n",
        "  </tr>\n",
        "</table>\n",
        "\n"
      ],
      "metadata": {
        "id": "U23GHwmjunZn"
      }
    },
    {
      "cell_type": "markdown",
      "source": [
        "Based on the p-value of < 2.2e-16, the results of the t-test sugggests there was a statistically significant difference in insurance purchases between households who recieved a visit vs did not. This estimate is representing the ITT because it is comparing households in which the treatment was assigned to and not necessarily those who were actually treated."
      ],
      "metadata": {
        "id": "PYjs-nHVuj0c"
      }
    },
    {
      "cell_type": "markdown",
      "source": [
        "**9. Run a linear regression with `d_visit `as the independent variable and insurance purchase (`ins_lev`) as the dependent variable.**\n"
      ],
      "metadata": {
        "id": "SJ4wRMFku0H-"
      }
    },
    {
      "cell_type": "code",
      "source": [
        "#------------------------Your Code Here----------------------------------------\n",
        "summary(lm(ins_lev ~ d_visit, data = df))"
      ],
      "metadata": {
        "id": "RlWpWlEnu0-K",
        "colab": {
          "base_uri": "https://localhost:8080/",
          "height": 338
        },
        "outputId": "03496d3d-a766-44ba-a819-7ca1f49cc832"
      },
      "execution_count": null,
      "outputs": [
        {
          "output_type": "display_data",
          "data": {
            "text/plain": [
              "\n",
              "Call:\n",
              "lm(formula = ins_lev ~ d_visit, data = df)\n",
              "\n",
              "Residuals:\n",
              "     Min       1Q   Median       3Q      Max \n",
              "-0.40143 -0.40143 -0.04035  0.59857  0.95965 \n",
              "\n",
              "Coefficients:\n",
              "            Estimate Std. Error t value Pr(>|t|)    \n",
              "(Intercept)  0.04035    0.02238   1.803   0.0717 .  \n",
              "d_visit      0.36108    0.02737  13.192   <2e-16 ***\n",
              "---\n",
              "Signif. codes:  0 ‘***’ 0.001 ‘**’ 0.01 ‘*’ 0.05 ‘.’ 0.1 ‘ ’ 1\n",
              "\n",
              "Residual standard error: 0.4169 on 1045 degrees of freedom\n",
              "Multiple R-squared:  0.1428,\tAdjusted R-squared:  0.1419 \n",
              "F-statistic:   174 on 1 and 1045 DF,  p-value: < 2.2e-16\n"
            ]
          },
          "metadata": {}
        }
      ]
    },
    {
      "cell_type": "markdown",
      "source": [
        "**10. Add household control variables to the regression, including `DK_basixi`, `wealth_indexi`, `logpce_new_wi`, `riskav1_jul06i`, `norm_exp_rainMay06`, `lcultirrpcti`, `mean_payouts`, `buy_ins04i, ins_otheri`, `bua_newi`, `group_addi`, `sched_ct`, `muslim`, `sexheadi`, `lage_headi,` `lhhsizei`, `d_highedu`, and `ins_skilli`. Run the updated regression and summarize the results.**\n"
      ],
      "metadata": {
        "id": "scfkTYp9u1g6"
      }
    },
    {
      "cell_type": "code",
      "source": [
        "#------------------------Your Code Here----------------------------------------\n",
        "household_controls <- lm(ins_lev ~ d_visit + DK_basixi + wealth_indexi + logpce_new_wi +\n",
        "                     riskav1_jul06i + norm_exp_rainMay06 + lcultirrpcti + mean_payouts +\n",
        "                     buy_ins04i + ins_otheri + bua_newi + group_addi + sched_ct +\n",
        "                     muslim + sexheadi + lage_headi + lhhsizei + d_highedu + ins_skilli,\n",
        "                     data = df)\n",
        "\n",
        "summary(household_controls)"
      ],
      "metadata": {
        "id": "j8ROKBRCu4Yu",
        "colab": {
          "base_uri": "https://localhost:8080/",
          "height": 731
        },
        "outputId": "2aebb684-2e80-40a0-8fe4-293f6fa6efd3"
      },
      "execution_count": null,
      "outputs": [
        {
          "output_type": "display_data",
          "data": {
            "text/plain": [
              "\n",
              "Call:\n",
              "lm(formula = ins_lev ~ d_visit + DK_basixi + wealth_indexi + \n",
              "    logpce_new_wi + riskav1_jul06i + norm_exp_rainMay06 + lcultirrpcti + \n",
              "    mean_payouts + buy_ins04i + ins_otheri + bua_newi + group_addi + \n",
              "    sched_ct + muslim + sexheadi + lage_headi + lhhsizei + d_highedu + \n",
              "    ins_skilli, data = df)\n",
              "\n",
              "Residuals:\n",
              "     Min       1Q   Median       3Q      Max \n",
              "-0.67943 -0.34389 -0.08596  0.44157  0.93300 \n",
              "\n",
              "Coefficients:\n",
              "                    Estimate Std. Error t value Pr(>|t|)    \n",
              "(Intercept)        -0.273066   0.361979  -0.754  0.45080    \n",
              "d_visit             0.347094   0.027342  12.695  < 2e-16 ***\n",
              "DK_basixi          -0.070106   0.030487  -2.300  0.02167 *  \n",
              "wealth_indexi      -0.001141   0.010623  -0.107  0.91451    \n",
              "logpce_new_wi      -0.007572   0.042897  -0.177  0.85992    \n",
              "riskav1_jul06i     -0.124720   0.052873  -2.359  0.01852 *  \n",
              "norm_exp_rainMay06 -0.012883   0.012900  -0.999  0.31819    \n",
              "lcultirrpcti        0.011864   0.032720   0.363  0.71699    \n",
              "mean_payouts        0.097501   0.037167   2.623  0.00884 ** \n",
              "buy_ins04i          0.045108   0.031691   1.423  0.15493    \n",
              "ins_otheri          0.109102   0.033551   3.252  0.00118 ** \n",
              "bua_newi            0.105638   0.096255   1.097  0.27269    \n",
              "group_addi          0.037651   0.021273   1.770  0.07704 .  \n",
              "sched_ct           -0.017965   0.041312  -0.435  0.66376    \n",
              "muslim              0.012142   0.066578   0.182  0.85533    \n",
              "sexheadi            0.042373   0.054180   0.782  0.43435    \n",
              "lage_headi          0.051364   0.052140   0.985  0.32480    \n",
              "lhhsizei            0.024014   0.046631   0.515  0.60669    \n",
              "d_highedu           0.003896   0.029627   0.131  0.89541    \n",
              "ins_skilli          0.017739   0.015445   1.149  0.25102    \n",
              "---\n",
              "Signif. codes:  0 ‘***’ 0.001 ‘**’ 0.01 ‘*’ 0.05 ‘.’ 0.1 ‘ ’ 1\n",
              "\n",
              "Residual standard error: 0.4068 on 1027 degrees of freedom\n",
              "Multiple R-squared:  0.198,\tAdjusted R-squared:  0.1831 \n",
              "F-statistic: 13.34 on 19 and 1027 DF,  p-value: < 2.2e-16\n"
            ]
          },
          "metadata": {}
        }
      ]
    },
    {
      "cell_type": "markdown",
      "source": [
        "**11. How do the results change after including household control variables in the regression? Why do these changes occur?**\n"
      ],
      "metadata": {
        "id": "CzELZfjIu7Fx"
      }
    },
    {
      "cell_type": "markdown",
      "source": [
        "The results didn't really change that drastically. After adding the controls the coefficent on d_visit only changed slightly (from 0.36 to 0.35). This might mean that our confounding factors did not strongly bias the results indicating that the randomization worked well.\n"
      ],
      "metadata": {
        "id": "GCjTTDYgu75Y"
      }
    },
    {
      "cell_type": "markdown",
      "source": [
        "**12. Run a regression of the outcome variable (`ins_lev`) on `d_visit,` `endors_LSA`, and their interaction (`endors_visit`). Then, run the same regression but include household control variables.**\n"
      ],
      "metadata": {
        "id": "-eGeAMrFu8Vm"
      }
    },
    {
      "cell_type": "markdown",
      "source": [],
      "metadata": {
        "id": "QvcUGlGGxo8s"
      }
    },
    {
      "cell_type": "code",
      "source": [
        "#------------------------Your Code Here----------------------------------------\n",
        "linear_reg_outcome <- lm(ins_lev ~ d_visit + endors_LSA + endors_visit, data = df)\n",
        "summary(linear_reg_outcome)\n",
        "\n",
        "linear_reg_outcome_controls <- lm(ins_lev ~ d_visit + endors_LSA + endors_visit +\n",
        "                     DK_basixi + wealth_indexi + logpce_new_wi +\n",
        "                     riskav1_jul06i + norm_exp_rainMay06 + lcultirrpcti +\n",
        "                     mean_payouts + buy_ins04i + ins_otheri + bua_newi +\n",
        "                     group_addi + sched_ct + muslim + sexheadi + lage_headi +\n",
        "                     lhhsizei + d_highedu + ins_skilli,\n",
        "                     data = df)\n",
        "\n",
        "summary(linear_reg_outcome_controls)"
      ],
      "metadata": {
        "id": "DYGnCRMCvAxn",
        "colab": {
          "base_uri": "https://localhost:8080/",
          "height": 1000
        },
        "outputId": "0a0c7c83-0a31-4e73-eda1-1ccff6461eab"
      },
      "execution_count": null,
      "outputs": [
        {
          "output_type": "display_data",
          "data": {
            "text/plain": [
              "\n",
              "Call:\n",
              "lm(formula = ins_lev ~ d_visit + endors_LSA + endors_visit, data = df)\n",
              "\n",
              "Residuals:\n",
              "     Min       1Q   Median       3Q      Max \n",
              "-0.43277 -0.39407 -0.04035  0.56723  0.95965 \n",
              "\n",
              "Coefficients:\n",
              "             Estimate Std. Error t value Pr(>|t|)    \n",
              "(Intercept)   0.04035    0.02238   1.803   0.0717 .  \n",
              "d_visit       0.33576    0.03563   9.423   <2e-16 ***\n",
              "endors_LSA    0.03871    0.03829   1.011   0.3124    \n",
              "endors_visit  0.01796    0.03880   0.463   0.6435    \n",
              "---\n",
              "Signif. codes:  0 ‘***’ 0.001 ‘**’ 0.01 ‘*’ 0.05 ‘.’ 0.1 ‘ ’ 1\n",
              "\n",
              "Residual standard error: 0.4169 on 1043 degrees of freedom\n",
              "Multiple R-squared:  0.1446,\tAdjusted R-squared:  0.1421 \n",
              "F-statistic: 58.77 on 3 and 1043 DF,  p-value: < 2.2e-16\n"
            ]
          },
          "metadata": {}
        },
        {
          "output_type": "display_data",
          "data": {
            "text/plain": [
              "\n",
              "Call:\n",
              "lm(formula = ins_lev ~ d_visit + endors_LSA + endors_visit + \n",
              "    DK_basixi + wealth_indexi + logpce_new_wi + riskav1_jul06i + \n",
              "    norm_exp_rainMay06 + lcultirrpcti + mean_payouts + buy_ins04i + \n",
              "    ins_otheri + bua_newi + group_addi + sched_ct + muslim + \n",
              "    sexheadi + lage_headi + lhhsizei + d_highedu + ins_skilli, \n",
              "    data = df)\n",
              "\n",
              "Residuals:\n",
              "     Min       1Q   Median       3Q      Max \n",
              "-0.66072 -0.34629 -0.08618  0.44476  0.93209 \n",
              "\n",
              "Coefficients:\n",
              "                    Estimate Std. Error t value Pr(>|t|)    \n",
              "(Intercept)        -0.297355   0.362681  -0.820 0.412474    \n",
              "d_visit             0.316790   0.035549   8.911  < 2e-16 ***\n",
              "endors_LSA          0.034858   0.037701   0.925 0.355392    \n",
              "endors_visit        0.026636   0.038382   0.694 0.487860    \n",
              "DK_basixi          -0.070890   0.030486  -2.325 0.020247 *  \n",
              "wealth_indexi      -0.002119   0.010657  -0.199 0.842430    \n",
              "logpce_new_wi      -0.003880   0.042945  -0.090 0.928024    \n",
              "riskav1_jul06i     -0.122877   0.052909  -2.322 0.020406 *  \n",
              "norm_exp_rainMay06 -0.013167   0.012899  -1.021 0.307617    \n",
              "lcultirrpcti        0.010024   0.032901   0.305 0.760668    \n",
              "mean_payouts        0.095686   0.037197   2.572 0.010238 *  \n",
              "buy_ins04i          0.043707   0.031698   1.379 0.168239    \n",
              "ins_otheri          0.110855   0.033561   3.303 0.000989 ***\n",
              "bua_newi            0.120012   0.096758   1.240 0.215136    \n",
              "group_addi          0.038069   0.021297   1.788 0.074152 .  \n",
              "sched_ct           -0.013598   0.041390  -0.329 0.742573    \n",
              "muslim              0.011122   0.066561   0.167 0.867325    \n",
              "sexheadi            0.042540   0.054164   0.785 0.432406    \n",
              "lage_headi          0.050210   0.052257   0.961 0.336863    \n",
              "lhhsizei            0.027271   0.046664   0.584 0.559065    \n",
              "d_highedu           0.004717   0.029632   0.159 0.873556    \n",
              "ins_skilli          0.019316   0.015471   1.248 0.212135    \n",
              "---\n",
              "Signif. codes:  0 ‘***’ 0.001 ‘**’ 0.01 ‘*’ 0.05 ‘.’ 0.1 ‘ ’ 1\n",
              "\n",
              "Residual standard error: 0.4067 on 1025 degrees of freedom\n",
              "Multiple R-squared:    0.2,\tAdjusted R-squared:  0.1836 \n",
              "F-statistic:  12.2 on 21 and 1025 DF,  p-value: < 2.2e-16\n"
            ]
          },
          "metadata": {}
        }
      ]
    },
    {
      "cell_type": "markdown",
      "source": [
        "**13. Based on the regression results, did the endorsement by the LSA (`endors_LSA`) have any significant effect on insurance purchases?**"
      ],
      "metadata": {
        "id": "aTGR2hh0vBwg"
      }
    },
    {
      "cell_type": "markdown",
      "source": [
        "The p-value of 0.355 for the endorsement by LSA showed there was not a statistically sigbificant effect from that endorsement on insurance purchases.\n",
        "\n"
      ],
      "metadata": {
        "id": "B0xtYyKJvHS-"
      }
    },
    {
      "cell_type": "markdown",
      "source": [
        "## **Propensity Score Matching (PSM)**\n",
        "\n",
        "**Propensity Score Matching (PSM)** is  used to estimate the effect of a treatment by matching treated units with control units that have similar characteristics. The propensity score, typically estimated using [logistic regression](https://en.wikipedia.org/wiki/Logistic_regression), represents the probability of receiving the treatment based on observable covariates. By matching units with similar propensity scores, PSM helps balance the treatment and control groups, reducing bias in observational studies and allowing for a more accurate estimation of the treatment effect. This method ensures that differences in outcomes are primarily due to the treatment rather than confounding variables."
      ],
      "metadata": {
        "id": "n2GpbtiJvGy3"
      }
    },
    {
      "cell_type": "markdown",
      "source": [
        "The [`matchit`](https://cran.r-project.org/web/packages/MatchIt/vignettes/MatchIt.html) package in `R` offers a range of functions to perform **PSM** analysis. The following code performs matching using a logistic regression model (logit) to estimate propensity scores. The analysis includes all treated units and excludes control units that fall outside the region of common support, ensuring comparability between the groups. The argument `discard = \"control\"` specifies that control observations outside the common support region are discarded. After matching, you can visualize the balance between treatment and control groups by plotting the histogram of propensity scores. Detailed matching results can be accessed using the `summary()` function."
      ],
      "metadata": {
        "id": "2VUWONiVvKcy"
      }
    },
    {
      "cell_type": "code",
      "source": [
        "# Perform PSM using logistic regression (logit) to estimate propensity scores\n",
        "# The matching includes all treated units and only control units within the region of common support.\n",
        "\n",
        "m.nn <- matchit(d_visit ~ DK_basixi + wealth_indexi + logpce_new_wi +\n",
        "                    riskav1_jul06i + norm_exp_rainMay06 + lcultirrpcti +\n",
        "                    mean_payouts + buy_ins04i + bua_newi + group_addi +\n",
        "                    sched_ct + muslim + sexheadi + lage_headi + lhhsizei +\n",
        "                    d_highedu + ins_skilli,  # Covariates included in the propensity score model\n",
        "                  data = df,               # Data frame containing the dataset\n",
        "                  distance = \"logit\",       # Use logistic regression to estimate propensity scores\n",
        "                  discard = \"control\",      # Exclude control units outside the region of common support\n",
        "                  replace = TRUE)           # Allow replacement during matching\n",
        "\n",
        "# Visualize the balance between treatment and control groups by plotting the histogram of propensity scores\n",
        "plot(m.nn, type = \"hist\")\n",
        "\n",
        "# View a summary of the matching results, including balance statistics\n",
        "summary(m.nn)"
      ],
      "metadata": {
        "id": "npB_HhXivPMZ",
        "colab": {
          "base_uri": "https://localhost:8080/",
          "height": 1000
        },
        "outputId": "2c33e1df-0770-4226-b346-97a32b5545d2"
      },
      "execution_count": null,
      "outputs": [
        {
          "output_type": "display_data",
          "data": {
            "text/plain": [
              "\n",
              "Call:\n",
              "matchit(formula = d_visit ~ DK_basixi + wealth_indexi + logpce_new_wi + \n",
              "    riskav1_jul06i + norm_exp_rainMay06 + lcultirrpcti + mean_payouts + \n",
              "    buy_ins04i + bua_newi + group_addi + sched_ct + muslim + \n",
              "    sexheadi + lage_headi + lhhsizei + d_highedu + ins_skilli, \n",
              "    data = df, distance = \"logit\", discard = \"control\", replace = TRUE)\n",
              "\n",
              "Summary of Balance for All Data:\n",
              "                   Means Treated Means Control Std. Mean Diff. Var. Ratio\n",
              "distance                  0.6837        0.6381          0.5167     0.5925\n",
              "DK_basixi                 0.2343        0.3256         -0.2157          .\n",
              "wealth_indexi             0.0063       -0.0061          0.0085     1.0739\n",
              "logpce_new_wi             5.6690        5.6475          0.0547     0.9428\n",
              "riskav1_jul06i            0.5592        0.5827         -0.0924     1.2530\n",
              "norm_exp_rainMay06        0.0262       -0.0528          0.0779     1.0892\n",
              "lcultirrpcti              0.3967        0.4191         -0.0526     0.9878\n",
              "mean_payouts              0.3965        0.3948          0.0046     1.0072\n",
              "buy_ins04i                0.2586        0.2421          0.0377          .\n",
              "bua_newi                  0.0174        0.0203         -0.0226     0.8512\n",
              "group_addi                0.7102        0.7493         -0.0631     1.0038\n",
              "sched_ct                  0.1171        0.1066          0.0327          .\n",
              "muslim                    0.0314        0.0519         -0.1172          .\n",
              "sexheadi                  0.9371        0.9382         -0.0043     1.0127\n",
              "lage_headi                3.8584        3.8348          0.0943     0.8645\n",
              "lhhsizei                  1.9032        1.9402         -0.1057     0.9003\n",
              "d_highedu                 0.3286        0.3401         -0.0245          .\n",
              "ins_skilli                0.0825       -0.1966          0.3409     0.5002\n",
              "                   eCDF Mean eCDF Max\n",
              "distance              0.1118   0.1769\n",
              "DK_basixi             0.0914   0.0914\n",
              "wealth_indexi         0.0120   0.0322\n",
              "logpce_new_wi         0.0327   0.0872\n",
              "riskav1_jul06i        0.0525   0.0781\n",
              "norm_exp_rainMay06    0.0308   0.0491\n",
              "lcultirrpcti          0.0224   0.0403\n",
              "mean_payouts          0.0037   0.0071\n",
              "buy_ins04i            0.0165   0.0165\n",
              "bua_newi              0.0015   0.0030\n",
              "group_addi            0.0162   0.0384\n",
              "sched_ct              0.0105   0.0105\n",
              "muslim                0.0204   0.0204\n",
              "sexheadi              0.0014   0.0037\n",
              "lage_headi            0.0186   0.0519\n",
              "lhhsizei              0.0227   0.0719\n",
              "d_highedu             0.0115   0.0115\n",
              "ins_skilli            0.0824   0.1142\n",
              "\n",
              "Summary of Balance for Matched Data:\n",
              "                   Means Treated Means Control Std. Mean Diff. Var. Ratio\n",
              "distance                  0.6837        0.6836          0.0011     1.0006\n",
              "DK_basixi                 0.2343        0.2557         -0.0506          .\n",
              "wealth_indexi             0.0063        0.0140         -0.0052     1.0417\n",
              "logpce_new_wi             5.6690        5.6453          0.0601     0.8710\n",
              "riskav1_jul06i            0.5592        0.5979         -0.1518     1.5523\n",
              "norm_exp_rainMay06        0.0262        0.0580         -0.0313     1.0449\n",
              "lcultirrpcti              0.3967        0.3745          0.0518     1.0037\n",
              "mean_payouts              0.3965        0.4143         -0.0459     1.0534\n",
              "buy_ins04i                0.2586        0.2186          0.0914          .\n",
              "bua_newi                  0.0174        0.0088          0.0664     1.9731\n",
              "group_addi                0.7102        0.7306         -0.0330     1.0209\n",
              "sched_ct                  0.1171        0.1314         -0.0444          .\n",
              "muslim                    0.0314        0.0271          0.0246          .\n",
              "sexheadi                  0.9371        0.9358          0.0055     0.9745\n",
              "lage_headi                3.8584        3.8816         -0.0924     0.9317\n",
              "lhhsizei                  1.9032        1.8981          0.0146     0.7836\n",
              "d_highedu                 0.3286        0.3257          0.0061          .\n",
              "ins_skilli                0.0825        0.0859         -0.0041     1.0698\n",
              "                   eCDF Mean eCDF Max Std. Pair Dist.\n",
              "distance              0.0021   0.0157          0.0086\n",
              "DK_basixi             0.0214   0.0214          0.6442\n",
              "wealth_indexi         0.0163   0.0457          1.0564\n",
              "logpce_new_wi         0.0368   0.1043          1.1656\n",
              "riskav1_jul06i        0.0644   0.0929          0.9689\n",
              "norm_exp_rainMay06    0.0239   0.0643          0.9606\n",
              "lcultirrpcti          0.0231   0.0471          0.9832\n",
              "mean_payouts          0.0225   0.0743          0.9818\n",
              "buy_ins04i            0.0400   0.0400          0.8091\n",
              "bua_newi              0.0068   0.0114          0.1989\n",
              "group_addi            0.0173   0.0329          0.9219\n",
              "sched_ct              0.0143   0.0143          0.6663\n",
              "muslim                0.0043   0.0043          0.3030\n",
              "sexheadi              0.0012   0.0029          0.4866\n",
              "lage_headi            0.0247   0.0786          1.1452\n",
              "lhhsizei              0.0173   0.0500          1.1053\n",
              "d_highedu             0.0029   0.0029          0.8942\n",
              "ins_skilli            0.0222   0.0571          0.6849\n",
              "\n",
              "Sample Sizes:\n",
              "              Control Treated\n",
              "All             347.      700\n",
              "Matched (ESS)   164.1     700\n",
              "Matched         254.      700\n",
              "Unmatched        87.        0\n",
              "Discarded         6.        0\n"
            ]
          },
          "metadata": {}
        },
        {
          "output_type": "display_data",
          "data": {
            "text/plain": [
              "Plot with title “Matched Control”"
            ],
            "image/png": "[encoded data removed]"
          },
          "metadata": {
            "image/png": {
              "width": 420,
              "height": 420
            }
          }
        }
      ]
    },
    {
      "cell_type": "markdown",
      "source": [
        "**14. What does it mean for a sample to be balanced in Propensity Score Matching (PSM)? Is your sample balanced based on the results? Are any control households outside the region of common support?**\n",
        "\n",
        "\n"
      ],
      "metadata": {
        "id": "NBrk7XSFvM8H"
      }
    },
    {
      "cell_type": "markdown",
      "source": [
        "For samples to be balanced in propensity score matching the treated and control groups have to have a similar distribution of covariates after matching. From the graphs, the treated and control groups looked pretty different before matching, the control group had more households with lower propensity scores, but after matching, their distributions overlap almost perfectly. The lowest range of propensity scores disappears in the matched control group, which means those unmatched controls were outside the region of common support."
      ],
      "metadata": {
        "id": "GQVa7Tm_7QIH"
      }
    },
    {
      "cell_type": "markdown",
      "source": [
        "\n",
        "\n",
        "---\n",
        "\n",
        "Once we have a matched sample through PSM, we can estimate the treatment effect by running a simple linear regression model. In this case, the treatment effect is the impact of `d_visit` (the treatment variable) on the outcome `ins_lev` (the number of insurance purchases). By running the regression on the matched data (`df.nn`), we ensure that the treatment and control groups are balanced on covariates, thus providing an unbiased estimate of the treatment effect.\n",
        "\n"
      ],
      "metadata": {
        "id": "NZBEr2hdvV4i"
      }
    },
    {
      "cell_type": "code",
      "source": [
        "# Run a linear regression to estimate the treatment effect after matching\n",
        "df.nn <- match.data(m.nn)\n",
        "# The independent variable is d_visit (indicating whether a household received the treatment)\n",
        "# The dependent variable is ins_lev (the number of insurance purchases)\n",
        "m11a <- lm(ins_lev ~ d_visit, data = df.nn)  # Run the linear model on the matched dataset (df.nn)\n",
        "\n",
        "# View the summary of the regression results\n",
        "summary(m11a)\n"
      ],
      "metadata": {
        "id": "5LRahQVTvbVa",
        "colab": {
          "base_uri": "https://localhost:8080/",
          "height": 338
        },
        "outputId": "cc0c26b9-ce0f-4886-db80-4339d44d50d4"
      },
      "execution_count": null,
      "outputs": [
        {
          "output_type": "display_data",
          "data": {
            "text/plain": [
              "\n",
              "Call:\n",
              "lm(formula = ins_lev ~ d_visit, data = df.nn)\n",
              "\n",
              "Residuals:\n",
              "     Min       1Q   Median       3Q      Max \n",
              "-0.40143 -0.40143 -0.04331  0.59857  0.95669 \n",
              "\n",
              "Coefficients:\n",
              "            Estimate Std. Error t value Pr(>|t|)    \n",
              "(Intercept)  0.04331    0.02719   1.593    0.112    \n",
              "d_visit      0.35812    0.03174  11.284   <2e-16 ***\n",
              "---\n",
              "Signif. codes:  0 ‘***’ 0.001 ‘**’ 0.01 ‘*’ 0.05 ‘.’ 0.1 ‘ ’ 1\n",
              "\n",
              "Residual standard error: 0.4333 on 952 degrees of freedom\n",
              "Multiple R-squared:  0.118,\tAdjusted R-squared:  0.117 \n",
              "F-statistic: 127.3 on 1 and 952 DF,  p-value: < 2.2e-16\n"
            ]
          },
          "metadata": {}
        }
      ]
    },
    {
      "cell_type": "markdown",
      "source": [
        "**15. Test the robustness of the treatment effect using different matching algorithms.**\n",
        "Modify the `matchit` function to use both **full** matching and **genetic** matching methods in order to test the robustness of the treatment effect on insurance purchases. Below is an example of how to run **PSM** using **nearest neighbor** matching. **Your task is to complete the code for full matching and genetic matching, plot the histograms, and analyze the results**.\n"
      ],
      "metadata": {
        "id": "LWAhI7UcvfMv"
      }
    },
    {
      "cell_type": "code",
      "source": [
        "# Define the formula for matching\n",
        "matching_formula <- d_visit ~ DK_basixi + wealth_indexi + logpce_new_wi +\n",
        "                    riskav1_jul06i + norm_exp_rainMay06 + lcultirrpcti +\n",
        "                    mean_payouts + buy_ins04i + bua_newi + group_addi +\n",
        "                    sched_ct + muslim + sexheadi + lage_headi + lhhsizei +\n",
        "                    d_highedu + ins_skilli\n",
        "\n",
        "# 1. Nearest Neighbor Matching (default)\n",
        "m_nearest <- matchit(matching_formula, data = df, method = \"nearest\")\n",
        "plot(m_nearest, type = \"hist\")  # Plot histogram of propensity scores\n",
        "summary(m_nearest)  # View summary\n",
        "\n",
        "# Create a matched dataset and run linear regression\n",
        "df_nearest <- match.data(m_nearest)\n",
        "m11a <- lm(ins_lev ~ d_visit, data = df_nearest)\n",
        "summary(m11a)\n",
        "\n",
        "# 2. Full Matching\n",
        "#------------------------Your Code Here----------------------------------------\n",
        "m_full <- matchit(\n",
        "  matching_formula,\n",
        "  data      = df,\n",
        "  method    = \"full\",\n",
        "  distance  = \"logit\",\n",
        "  estimand  = \"ATT\"\n",
        ")\n",
        "\n",
        "plot(m_full, type = \"hist\")\n",
        "summary(m_full)\n",
        "df_full <- match.data(m_full)\n",
        "m11b <- lm(ins_lev ~ d_visit, data = df_full, weights = weights)\n",
        "summary(m11b)\n",
        "# 3. Genetic Matching\n",
        "#------------------------Your Code Here----------------------------------------\n",
        "\n",
        "m_genetic <- matchit(\n",
        "  matching_formula,\n",
        "  data        = df,\n",
        "  method      = \"genetic\",\n",
        "  distance    = \"logit\",\n",
        "  estimand    = \"ATT\",\n",
        "  pop.size    = 200,\n",
        "  generations = 50,\n",
        "  replace     = TRUE\n",
        ")\n",
        "\n",
        "plot(m_genetic, type = \"hist\")\n",
        "summary(m_genetic)\n",
        "\n",
        "df_genetic <- match.data(m_genetic)\n",
        "m11c <- lm(ins_lev ~ d_visit, data = df_genetic, weights = weights)\n",
        "summary(m11c)\n",
        "\n",
        "\n",
        "\n"
      ],
      "metadata": {
        "id": "OKui6pMYGR7g",
        "colab": {
          "base_uri": "https://localhost:8080/",
          "height": 1000
        },
        "outputId": "e0135b22-37b0-48cc-fd6d-28553d0ad0fe"
      },
      "execution_count": null,
      "outputs": [
        {
          "output_type": "stream",
          "name": "stderr",
          "text": [
            "Warning message:\n",
            "“Fewer control units than treated units; not all treated units will get\n",
            "a match.”\n"
          ]
        },
        {
          "output_type": "display_data",
          "data": {
            "text/plain": [
              "\n",
              "Call:\n",
              "matchit(formula = matching_formula, data = df, method = \"nearest\")\n",
              "\n",
              "Summary of Balance for All Data:\n",
              "                   Means Treated Means Control Std. Mean Diff. Var. Ratio\n",
              "distance                  0.6837        0.6381          0.5167     0.5925\n",
              "DK_basixi                 0.2343        0.3256         -0.2157          .\n",
              "wealth_indexi             0.0063       -0.0061          0.0085     1.0739\n",
              "logpce_new_wi             5.6690        5.6475          0.0547     0.9428\n",
              "riskav1_jul06i            0.5592        0.5827         -0.0924     1.2530\n",
              "norm_exp_rainMay06        0.0262       -0.0528          0.0779     1.0892\n",
              "lcultirrpcti              0.3967        0.4191         -0.0526     0.9878\n",
              "mean_payouts              0.3965        0.3948          0.0046     1.0072\n",
              "buy_ins04i                0.2586        0.2421          0.0377          .\n",
              "bua_newi                  0.0174        0.0203         -0.0226     0.8512\n",
              "group_addi                0.7102        0.7493         -0.0631     1.0038\n",
              "sched_ct                  0.1171        0.1066          0.0327          .\n",
              "muslim                    0.0314        0.0519         -0.1172          .\n",
              "sexheadi                  0.9371        0.9382         -0.0043     1.0127\n",
              "lage_headi                3.8584        3.8348          0.0943     0.8645\n",
              "lhhsizei                  1.9032        1.9402         -0.1057     0.9003\n",
              "d_highedu                 0.3286        0.3401         -0.0245          .\n",
              "ins_skilli                0.0825       -0.1966          0.3409     0.5002\n",
              "                   eCDF Mean eCDF Max\n",
              "distance              0.1118   0.1769\n",
              "DK_basixi             0.0914   0.0914\n",
              "wealth_indexi         0.0120   0.0322\n",
              "logpce_new_wi         0.0327   0.0872\n",
              "riskav1_jul06i        0.0525   0.0781\n",
              "norm_exp_rainMay06    0.0308   0.0491\n",
              "lcultirrpcti          0.0224   0.0403\n",
              "mean_payouts          0.0037   0.0071\n",
              "buy_ins04i            0.0165   0.0165\n",
              "bua_newi              0.0015   0.0030\n",
              "group_addi            0.0162   0.0384\n",
              "sched_ct              0.0105   0.0105\n",
              "muslim                0.0204   0.0204\n",
              "sexheadi              0.0014   0.0037\n",
              "lage_headi            0.0186   0.0519\n",
              "lhhsizei              0.0227   0.0719\n",
              "d_highedu             0.0115   0.0115\n",
              "ins_skilli            0.0824   0.1142\n",
              "\n",
              "Summary of Balance for Matched Data:\n",
              "                   Means Treated Means Control Std. Mean Diff. Var. Ratio\n",
              "distance                  0.7507        0.6381          1.2774     0.1134\n",
              "DK_basixi                 0.0807        0.3256         -0.5783          .\n",
              "wealth_indexi            -0.0474       -0.0061         -0.0282     1.0375\n",
              "logpce_new_wi             5.7154        5.6475          0.1722     0.9724\n",
              "riskav1_jul06i            0.5244        0.5827         -0.2287     1.2326\n",
              "norm_exp_rainMay06        0.1716       -0.0528          0.2214     1.1656\n",
              "lcultirrpcti              0.3144        0.4191         -0.2453     0.8643\n",
              "mean_payouts              0.3265        0.3948         -0.1766     0.8568\n",
              "buy_ins04i                0.2824        0.2421          0.0921          .\n",
              "bua_newi                  0.0117        0.0203         -0.0661     0.5765\n",
              "group_addi                0.6143        0.7493         -0.2181     0.9780\n",
              "sched_ct                  0.1671        0.1066          0.1882          .\n",
              "muslim                    0.0058        0.0519         -0.2643          .\n",
              "sexheadi                  0.9470        0.9382          0.0369     0.8653\n",
              "lage_headi                3.8977        3.8348          0.2512     0.7402\n",
              "lhhsizei                  1.8197        1.9402         -0.3450     0.8414\n",
              "d_highedu                 0.2882        0.3401         -0.1104          .\n",
              "ins_skilli                0.3443       -0.1966          0.6608     0.1440\n",
              "                   eCDF Mean eCDF Max Std. Pair Dist.\n",
              "distance              0.3533   0.6542          1.2774\n",
              "DK_basixi             0.2450   0.2450          0.7689\n",
              "wealth_indexi         0.0110   0.0375          0.9457\n",
              "logpce_new_wi         0.0629   0.1412          1.1705\n",
              "riskav1_jul06i        0.0907   0.1182          0.9558\n",
              "norm_exp_rainMay06    0.0964   0.1153          1.0025\n",
              "lcultirrpcti          0.1029   0.1268          1.0085\n",
              "mean_payouts          0.0476   0.1009          1.0589\n",
              "buy_ins04i            0.0403   0.0403          0.8425\n",
              "bua_newi              0.0058   0.0086          0.2456\n",
              "group_addi            0.0510   0.1095          0.9374\n",
              "sched_ct              0.0605   0.0605          0.7259\n",
              "muslim                0.0461   0.0461          0.3303\n",
              "sexheadi              0.0082   0.0115          0.4506\n",
              "lage_headi            0.0498   0.1124          1.0983\n",
              "lhhsizei              0.0572   0.1527          1.1143\n",
              "d_highedu             0.0519   0.0519          0.9817\n",
              "ins_skilli            0.1709   0.2133          0.9848\n",
              "\n",
              "Sample Sizes:\n",
              "          Control Treated\n",
              "All           347     700\n",
              "Matched       347     347\n",
              "Unmatched       0     353\n",
              "Discarded       0       0\n"
            ]
          },
          "metadata": {}
        },
        {
          "output_type": "display_data",
          "data": {
            "text/plain": [
              "\n",
              "Call:\n",
              "lm(formula = ins_lev ~ d_visit, data = df_nearest)\n",
              "\n",
              "Residuals:\n",
              "     Min       1Q   Median       3Q      Max \n",
              "-0.39769 -0.39769 -0.04035 -0.04035  0.95965 \n",
              "\n",
              "Coefficients:\n",
              "            Estimate Std. Error t value Pr(>|t|)    \n",
              "(Intercept)  0.04035    0.02005   2.012   0.0446 *  \n",
              "d_visit      0.35735    0.02836  12.601   <2e-16 ***\n",
              "---\n",
              "Signif. codes:  0 ‘***’ 0.001 ‘**’ 0.01 ‘*’ 0.05 ‘.’ 0.1 ‘ ’ 1\n",
              "\n",
              "Residual standard error: 0.3735 on 692 degrees of freedom\n",
              "Multiple R-squared:  0.1866,\tAdjusted R-squared:  0.1855 \n",
              "F-statistic: 158.8 on 1 and 692 DF,  p-value: < 2.2e-16\n"
            ]
          },
          "metadata": {}
        },
        {
          "output_type": "display_data",
          "data": {
            "text/plain": [
              "Plot with title “Matched Control”"
            ],
            "image/png": "[encoded data removed]"
          },
          "metadata": {
            "image/png": {
              "width": 420,
              "height": 420
            }
          }
        },
        {
          "output_type": "display_data",
          "data": {
            "text/plain": [
              "\n",
              "Call:\n",
              "matchit(formula = matching_formula, data = df, method = \"full\", \n",
              "    distance = \"logit\", estimand = \"ATT\")\n",
              "\n",
              "Summary of Balance for All Data:\n",
              "                   Means Treated Means Control Std. Mean Diff. Var. Ratio\n",
              "distance                  0.6837        0.6381          0.5167     0.5925\n",
              "DK_basixi                 0.2343        0.3256         -0.2157          .\n",
              "wealth_indexi             0.0063       -0.0061          0.0085     1.0739\n",
              "logpce_new_wi             5.6690        5.6475          0.0547     0.9428\n",
              "riskav1_jul06i            0.5592        0.5827         -0.0924     1.2530\n",
              "norm_exp_rainMay06        0.0262       -0.0528          0.0779     1.0892\n",
              "lcultirrpcti              0.3967        0.4191         -0.0526     0.9878\n",
              "mean_payouts              0.3965        0.3948          0.0046     1.0072\n",
              "buy_ins04i                0.2586        0.2421          0.0377          .\n",
              "bua_newi                  0.0174        0.0203         -0.0226     0.8512\n",
              "group_addi                0.7102        0.7493         -0.0631     1.0038\n",
              "sched_ct                  0.1171        0.1066          0.0327          .\n",
              "muslim                    0.0314        0.0519         -0.1172          .\n",
              "sexheadi                  0.9371        0.9382         -0.0043     1.0127\n",
              "lage_headi                3.8584        3.8348          0.0943     0.8645\n",
              "lhhsizei                  1.9032        1.9402         -0.1057     0.9003\n",
              "d_highedu                 0.3286        0.3401         -0.0245          .\n",
              "ins_skilli                0.0825       -0.1966          0.3409     0.5002\n",
              "                   eCDF Mean eCDF Max\n",
              "distance              0.1118   0.1769\n",
              "DK_basixi             0.0914   0.0914\n",
              "wealth_indexi         0.0120   0.0322\n",
              "logpce_new_wi         0.0327   0.0872\n",
              "riskav1_jul06i        0.0525   0.0781\n",
              "norm_exp_rainMay06    0.0308   0.0491\n",
              "lcultirrpcti          0.0224   0.0403\n",
              "mean_payouts          0.0037   0.0071\n",
              "buy_ins04i            0.0165   0.0165\n",
              "bua_newi              0.0015   0.0030\n",
              "group_addi            0.0162   0.0384\n",
              "sched_ct              0.0105   0.0105\n",
              "muslim                0.0204   0.0204\n",
              "sexheadi              0.0014   0.0037\n",
              "lage_headi            0.0186   0.0519\n",
              "lhhsizei              0.0227   0.0719\n",
              "d_highedu             0.0115   0.0115\n",
              "ins_skilli            0.0824   0.1142\n",
              "\n",
              "Summary of Balance for Matched Data:\n",
              "                   Means Treated Means Control Std. Mean Diff. Var. Ratio\n",
              "distance                  0.6837        0.6836          0.0013     0.9942\n",
              "DK_basixi                 0.2343        0.2414         -0.0168          .\n",
              "wealth_indexi             0.0063        0.0085         -0.0015     1.0076\n",
              "logpce_new_wi             5.6690        5.6497          0.0490     0.8298\n",
              "riskav1_jul06i            0.5592        0.5857         -0.1040     1.2844\n",
              "norm_exp_rainMay06        0.0262       -0.0001          0.0259     1.0983\n",
              "lcultirrpcti              0.3967        0.3779          0.0440     1.0762\n",
              "mean_payouts              0.3965        0.4223         -0.0667     1.0192\n",
              "buy_ins04i                0.2586        0.2407          0.0407          .\n",
              "bua_newi                  0.0174        0.0070          0.0799     2.4866\n",
              "group_addi                0.7102        0.7413         -0.0501     1.0759\n",
              "sched_ct                  0.1171        0.1490         -0.0990          .\n",
              "muslim                    0.0314        0.0277          0.0215          .\n",
              "sexheadi                  0.9371        0.9399         -0.0113     1.0387\n",
              "lage_headi                3.8584        3.8745         -0.0642     0.9893\n",
              "lhhsizei                  1.9032        1.8892          0.0401     0.7657\n",
              "d_highedu                 0.3286        0.3191          0.0202          .\n",
              "ins_skilli                0.0825        0.0670          0.0189     1.0064\n",
              "                   eCDF Mean eCDF Max Std. Pair Dist.\n",
              "distance              0.0025   0.0171          0.0149\n",
              "DK_basixi             0.0071   0.0071          0.6980\n",
              "wealth_indexi         0.0153   0.0430          1.0496\n",
              "logpce_new_wi         0.0355   0.0813          1.1824\n",
              "riskav1_jul06i        0.0567   0.0915          0.9993\n",
              "norm_exp_rainMay06    0.0249   0.0418          0.9537\n",
              "lcultirrpcti          0.0195   0.0568          1.0206\n",
              "mean_payouts          0.0254   0.0590          1.0176\n",
              "buy_ins04i            0.0178   0.0178          0.8619\n",
              "bua_newi              0.0074   0.0118          0.2017\n",
              "group_addi            0.0250   0.0493          0.9179\n",
              "sched_ct              0.0318   0.0318          0.7075\n",
              "muslim                0.0037   0.0037          0.3748\n",
              "sexheadi              0.0023   0.0042          0.4794\n",
              "lage_headi            0.0173   0.0730          1.1396\n",
              "lhhsizei              0.0145   0.0600          1.1141\n",
              "d_highedu             0.0095   0.0095          0.8963\n",
              "ins_skilli            0.0169   0.0555          0.6767\n",
              "\n",
              "Sample Sizes:\n",
              "              Control Treated\n",
              "All            347.       700\n",
              "Matched (ESS)  156.19     700\n",
              "Matched        347.       700\n",
              "Unmatched        0.         0\n",
              "Discarded        0.         0\n"
            ]
          },
          "metadata": {}
        },
        {
          "output_type": "display_data",
          "data": {
            "text/plain": [
              "\n",
              "Call:\n",
              "lm(formula = ins_lev ~ d_visit, data = df_full, weights = weights)\n",
              "\n",
              "Weighted Residuals:\n",
              "     Min       1Q   Median       3Q      Max \n",
              "-0.40143 -0.40143 -0.03769  0.59857  1.51475 \n",
              "\n",
              "Coefficients:\n",
              "            Estimate Std. Error t value Pr(>|t|)    \n",
              "(Intercept)  0.03786    0.02233   1.695   0.0903 .  \n",
              "d_visit      0.36357    0.02731  13.312   <2e-16 ***\n",
              "---\n",
              "Signif. codes:  0 ‘***’ 0.001 ‘**’ 0.01 ‘*’ 0.05 ‘.’ 0.1 ‘ ’ 1\n",
              "\n",
              "Residual standard error: 0.416 on 1045 degrees of freedom\n",
              "Multiple R-squared:  0.145,\tAdjusted R-squared:  0.1442 \n",
              "F-statistic: 177.2 on 1 and 1045 DF,  p-value: < 2.2e-16\n"
            ]
          },
          "metadata": {}
        },
        {
          "output_type": "display_data",
          "data": {
            "text/plain": [
              "Plot with title “Matched Control”"
            ],
            "image/png": "[encoded data removed]"
          },
          "metadata": {
            "image/png": {
              "width": 420,
              "height": 420
            }
          }
        },
        {
          "output_type": "display_data",
          "data": {
            "text/plain": [
              "\n",
              "Call:\n",
              "matchit(formula = matching_formula, data = df, method = \"genetic\", \n",
              "    distance = \"logit\", estimand = \"ATT\", replace = TRUE, pop.size = 200, \n",
              "    generations = 50)\n",
              "\n",
              "Summary of Balance for All Data:\n",
              "                   Means Treated Means Control Std. Mean Diff. Var. Ratio\n",
              "distance                  0.6837        0.6381          0.5167     0.5925\n",
              "DK_basixi                 0.2343        0.3256         -0.2157          .\n",
              "wealth_indexi             0.0063       -0.0061          0.0085     1.0739\n",
              "logpce_new_wi             5.6690        5.6475          0.0547     0.9428\n",
              "riskav1_jul06i            0.5592        0.5827         -0.0924     1.2530\n",
              "norm_exp_rainMay06        0.0262       -0.0528          0.0779     1.0892\n",
              "lcultirrpcti              0.3967        0.4191         -0.0526     0.9878\n",
              "mean_payouts              0.3965        0.3948          0.0046     1.0072\n",
              "buy_ins04i                0.2586        0.2421          0.0377          .\n",
              "bua_newi                  0.0174        0.0203         -0.0226     0.8512\n",
              "group_addi                0.7102        0.7493         -0.0631     1.0038\n",
              "sched_ct                  0.1171        0.1066          0.0327          .\n",
              "muslim                    0.0314        0.0519         -0.1172          .\n",
              "sexheadi                  0.9371        0.9382         -0.0043     1.0127\n",
              "lage_headi                3.8584        3.8348          0.0943     0.8645\n",
              "lhhsizei                  1.9032        1.9402         -0.1057     0.9003\n",
              "d_highedu                 0.3286        0.3401         -0.0245          .\n",
              "ins_skilli                0.0825       -0.1966          0.3409     0.5002\n",
              "                   eCDF Mean eCDF Max\n",
              "distance              0.1118   0.1769\n",
              "DK_basixi             0.0914   0.0914\n",
              "wealth_indexi         0.0120   0.0322\n",
              "logpce_new_wi         0.0327   0.0872\n",
              "riskav1_jul06i        0.0525   0.0781\n",
              "norm_exp_rainMay06    0.0308   0.0491\n",
              "lcultirrpcti          0.0224   0.0403\n",
              "mean_payouts          0.0037   0.0071\n",
              "buy_ins04i            0.0165   0.0165\n",
              "bua_newi              0.0015   0.0030\n",
              "group_addi            0.0162   0.0384\n",
              "sched_ct              0.0105   0.0105\n",
              "muslim                0.0204   0.0204\n",
              "sexheadi              0.0014   0.0037\n",
              "lage_headi            0.0186   0.0519\n",
              "lhhsizei              0.0227   0.0719\n",
              "d_highedu             0.0115   0.0115\n",
              "ins_skilli            0.0824   0.1142\n",
              "\n",
              "Summary of Balance for Matched Data:\n",
              "                   Means Treated Means Control Std. Mean Diff. Var. Ratio\n",
              "distance                  0.6837        0.6797          0.0454     1.0081\n",
              "DK_basixi                 0.2343        0.2314          0.0067          .\n",
              "wealth_indexi             0.0063       -0.0105          0.0115     1.3083\n",
              "logpce_new_wi             5.6690        5.6670          0.0052     1.1478\n",
              "riskav1_jul06i            0.5592        0.5614         -0.0089     1.3731\n",
              "norm_exp_rainMay06        0.0262        0.0292         -0.0030     1.0466\n",
              "lcultirrpcti              0.3967        0.4351         -0.0900     0.9469\n",
              "mean_payouts              0.3965        0.3930          0.0092     1.1034\n",
              "buy_ins04i                0.2586        0.2414          0.0392          .\n",
              "bua_newi                  0.0174        0.0162          0.0090     1.0845\n",
              "group_addi                0.7102        0.6837          0.0429     1.4554\n",
              "sched_ct                  0.1171        0.1171          0.0000          .\n",
              "muslim                    0.0314        0.0314          0.0000          .\n",
              "sexheadi                  0.9371        0.9364          0.0033     0.9965\n",
              "lage_headi                3.8584        3.8569          0.0061     1.2405\n",
              "lhhsizei                  1.9032        1.8867          0.0475     1.0897\n",
              "d_highedu                 0.3286        0.3257          0.0061          .\n",
              "ins_skilli                0.0825        0.0441          0.0469     1.0149\n",
              "                   eCDF Mean eCDF Max Std. Pair Dist.\n",
              "distance              0.0143   0.0514          0.5612\n",
              "DK_basixi             0.0029   0.0029          0.0202\n",
              "wealth_indexi         0.0260   0.0700          0.7526\n",
              "logpce_new_wi         0.0219   0.0700          0.8632\n",
              "riskav1_jul06i        0.0323   0.0614          0.3681\n",
              "norm_exp_rainMay06    0.0154   0.0386          0.1577\n",
              "lcultirrpcti          0.0356   0.0529          0.8859\n",
              "mean_payouts          0.0289   0.0700          0.3283\n",
              "buy_ins04i            0.0171   0.0171          0.1566\n",
              "bua_newi              0.0054   0.0129          0.0141\n",
              "group_addi            0.0208   0.0529          0.3667\n",
              "sched_ct              0.0000   0.0000          0.0000\n",
              "muslim                0.0000   0.0000          0.0000\n",
              "sexheadi              0.0038   0.0129          0.0073\n",
              "lage_headi            0.0177   0.0700          0.5228\n",
              "lhhsizei              0.0133   0.0429          0.9130\n",
              "d_highedu             0.0029   0.0029          0.0182\n",
              "ins_skilli            0.0211   0.0457          0.4834\n",
              "\n",
              "Sample Sizes:\n",
              "              Control Treated\n",
              "All            347.       700\n",
              "Matched (ESS)  168.04     700\n",
              "Matched        251.       700\n",
              "Unmatched       96.         0\n",
              "Discarded        0.         0\n"
            ]
          },
          "metadata": {}
        },
        {
          "output_type": "display_data",
          "data": {
            "text/plain": [
              "\n",
              "Call:\n",
              "lm(formula = ins_lev ~ d_visit, data = df_genetic, weights = weights)\n",
              "\n",
              "Weighted Residuals:\n",
              "     Min       1Q   Median       3Q      Max \n",
              "-0.40143 -0.40143 -0.04619  0.59857  1.52319 \n",
              "\n",
              "Coefficients:\n",
              "            Estimate Std. Error t value Pr(>|t|)    \n",
              "(Intercept)  0.03857    0.02730   1.413    0.158    \n",
              "d_visit      0.36286    0.03182  11.404   <2e-16 ***\n",
              "---\n",
              "Signif. codes:  0 ‘***’ 0.001 ‘**’ 0.01 ‘*’ 0.05 ‘.’ 0.1 ‘ ’ 1\n",
              "\n",
              "Residual standard error: 0.4325 on 949 degrees of freedom\n",
              "Multiple R-squared:  0.1205,\tAdjusted R-squared:  0.1196 \n",
              "F-statistic: 130.1 on 1 and 949 DF,  p-value: < 2.2e-16\n"
            ]
          },
          "metadata": {}
        },
        {
          "output_type": "display_data",
          "data": {
            "text/plain": [
              "Plot with title “Matched Control”"
            ],
            "image/png": "[encoded data removed]"
          },
          "metadata": {
            "image/png": {
              "width": 420,
              "height": 420
            }
          }
        }
      ]
    },
    {
      "cell_type": "markdown",
      "source": [
        "**16. What are the results of the t-tests for treatment effect using nearest neighbor, full, and genetic matching? Are the results similar across the different matching methods? Explain.**\n"
      ],
      "metadata": {
        "id": "_YZQ_-6jvn3y"
      }
    },
    {
      "cell_type": "markdown",
      "source": [
        "The results of the t-tests for the treatment effect using nearest neighbor, full, and genetic matching were all statistically significant according to their p-values. The estimated effects were also very similar across methods, around 0.36, suggesting that the treatment effect is robust and not sensitive to the type of matching algorithm used."
      ],
      "metadata": {
        "id": "slccW1exvpJC"
      }
    },
    {
      "cell_type": "markdown",
      "source": [
        "**17. How do the different ATT values compare to your results to the t-test from the simple regression of ins_lev on d_visit in Question 9?**\n",
        "\n"
      ],
      "metadata": {
        "id": "r9Rtw7R2vq0x"
      }
    },
    {
      "cell_type": "markdown",
      "source": [
        "The ATT values from matching were all around 0.36, which is very similar to the coefficent in question 9 (0.361) suggesting the orginal regression and matching models to be very consistent with each other. This might show that the randomization worked.\n"
      ],
      "metadata": {
        "id": "dSUlKTk5vyNF"
      }
    },
    {
      "cell_type": "markdown",
      "source": [
        "**18. Compare these outcomes to those calculated earlier in the regression in Question 12. Does the PSM reproduce the outcomes of the randomization?**\n",
        "*Remember that some villages were selected to receive an additional treatment and others did not.*\n"
      ],
      "metadata": {
        "id": "jnhyOJoh8qVD"
      }
    },
    {
      "cell_type": "markdown",
      "source": [
        "The PSM does reproduce the outcomes of the ranomization. The matched sample results and randomized regression models are almost identical. They both also support the theory that households who recieved a vist were statistically significantly more likely to purchas insurance.\n"
      ],
      "metadata": {
        "id": "TL0uNtWO8q7Y"
      }
    },
    {
      "cell_type": "markdown",
      "source": [
        "**19. Should the propensity score match be done within villages that had the treatment option, or should it compare households that received the endorsement treatment with similar households in the same village who did not receive the endorsement treatment? Explain your reasoning.**"
      ],
      "metadata": {
        "id": "BxFP_240vylO"
      }
    },
    {
      "cell_type": "markdown",
      "source": [
        "The PSM should be done within villages because villages have factors like risk exposure, geographical features, soical dynamics, and local governence that could all be confounding. Matching within villages helps hold these  factors constant and gives a more accurate comparison between treated and control households.\n"
      ],
      "metadata": {
        "id": "yWIsW_Juv1BK"
      }
    },
    {
      "cell_type": "markdown",
      "source": [
        "<pre><code></code></pre>"
      ],
      "metadata": {
        "id": "jktCXNB6No4o"
      }
    },
    {
      "cell_type": "markdown",
      "source": [
        "<pre><code></code></pre>"
      ],
      "metadata": {
        "id": "T86BTeiFNoo7"
      }
    },
    {
      "cell_type": "markdown",
      "source": [
        "<table style=\"border: 1px solid #4CAF50; background-color: #f9f9f9; padding: 10px; width: 100%;\">\n",
        "  <tr>\n",
        "    <td>\n",
        "      <h2 style=\"font-family: 'Times New Roman'; font-size: 22px; color: #333;\">\n",
        "        <b>This Concludes Assignment 2</b>\n",
        "      </h2>\n",
        "      <p style=\"font-family: 'Times New Roman'; font-size: 16px; color: #333;\">\n",
        "        Make sure to submit your completed assignment on Gradescope.\n",
        "        Be sure to save your file as <b>initials_assignment2.ipynb</b>,\n",
        "        where \"initials\" are your initials.\n",
        "      </p>\n",
        "      <p style=\"font-family: 'Times New Roman'; font-size: 16px; color: #333;\">\n",
        "        Good luck, and feel free to reach out with any questions before the due date!\n",
        "      </p>\n",
        "    </td>\n",
        "  </tr>\n",
        "</table>"
      ],
      "metadata": {
        "id": "LDOVryk-NglR"
      }
    },
    {
      "cell_type": "markdown",
      "source": [
        "\n",
        "\n",
        "---\n",
        "\n"
      ],
      "metadata": {
        "id": "DuK1WOPa_wqa"
      }
    }
  ]
}